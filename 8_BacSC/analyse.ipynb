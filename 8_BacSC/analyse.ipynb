{
 "cells": [
  {
   "cell_type": "code",
   "execution_count": null,
   "metadata": {
    "vscode": {
     "languageId": "plaintext"
    }
   },
   "outputs": [],
   "source": [
    "Preprint : https://www.biorxiv.org/content/10.1101/2024.06.22.600071v1\n",
    "BacSC project : https://github.com/bio-datascience/BacSC?tab=readme-ov-file\n",
    "Zonedo interfmediate data : https://zenodo.org/records/12189002\n",
    "GEO data Pseudomonas :\n",
    "\n",
    "\n",
    "dfed"
   ]
  }
 ],
 "metadata": {
  "language_info": {
   "name": "python"
  }
 },
 "nbformat": 4,
 "nbformat_minor": 2
}
