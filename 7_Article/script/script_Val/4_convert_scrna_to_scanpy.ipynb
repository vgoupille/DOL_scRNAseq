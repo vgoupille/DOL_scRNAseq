{
 "cells": [
  {
   "cell_type": "code",
   "execution_count": null,
   "id": "ce99f00f",
   "metadata": {
    "vscode": {
     "languageId": "r"
    }
   },
   "outputs": [],
   "source": [
    "https://satijalab.org/seurat/archive/v2.4/conversion_vignette\n",
    "\n",
    "https://samuel-marsh.github.io/scCustomize/articles/Object_Conversion.html"
   ]
  },
  {
   "cell_type": "code",
   "execution_count": null,
   "id": "2",
   "metadata": {
    "vscode": {
     "languageId": "r"
    }
   },
   "outputs": [],
   "source": [
    "library(Seurat)"
   ]
  },
  {
   "cell_type": "code",
   "execution_count": null,
   "id": "3",
   "metadata": {
    "vscode": {
     "languageId": "r"
    }
   },
   "outputs": [],
   "source": [
    "scrnaseq_r <- readRDS('7_Article/results/Seurat/Combined_M14_M15_mRNA_nofilter_DO.rds')\n",
    "\n",
    "DefaultAssay(scrnaseq_r) <- \"RNA\"\n",
    "scrnaseq_r@assays$RNA@key <- \"rna_\"\n",
    "\n",
    "\n",
    "# Convert the counts matrix to dense format\n",
    "scrnaseq_r@assays$RNA@counts <- as.matrix(scrnaseq_r@assays$RNA@counts)\n",
    "\n",
    "# Also convert the data slot to dense format\n",
    "scrnaseq_r@assays$RNA@data <- as.matrix(scrnaseq_r@assays$RNA@data)"
   ]
  },
  {
   "cell_type": "code",
   "execution_count": null,
   "id": "5fe75b2a",
   "metadata": {
    "vscode": {
     "languageId": "r"
    }
   },
   "outputs": [],
   "source": [
    "#besoin d'adapter ce code pour mon projet "
   ]
  },
  {
   "cell_type": "code",
   "execution_count": null,
   "id": "4",
   "metadata": {
    "vscode": {
     "languageId": "r"
    }
   },
   "outputs": [],
   "source": [
    "mainDir <- \"../../data\"\n",
    "subDir <- \"temp_objects\"\n",
    "\n",
    "if (file.exists(subDir)){\n",
    "    setwd(file.path(mainDir, subDir))\n",
    "} else {\n",
    "    dir.create(file.path(mainDir, subDir))\n",
    "    setwd(file.path(mainDir, subDir))\n",
    "    \n",
    "}\n",
    "\n",
    "dir.create(file.path(mainDir, subDir), showWarnings = FALSE)"
   ]
  },
  {
   "cell_type": "code",
   "execution_count": null,
   "id": "5",
   "metadata": {
    "vscode": {
     "languageId": "r"
    }
   },
   "outputs": [],
   "source": [
    "dior::write_h5(scrnaseq_r, file=\"../../data/temp_objects/AvrRpt2_alone2.h5\", object.type = 'seurat')"
   ]
  }
 ],
 "metadata": {
  "kernelspec": {
   "display_name": "R",
   "language": "R",
   "name": "ir"
  },
  "language_info": {
   "codemirror_mode": "r",
   "file_extension": ".r",
   "mimetype": "text/x-r-source",
   "name": "R",
   "pygments_lexer": "r",
   "version": "4.0.5"
  }
 },
 "nbformat": 4,
 "nbformat_minor": 5
}
