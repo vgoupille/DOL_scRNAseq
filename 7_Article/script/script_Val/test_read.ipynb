{
 "cells": [
  {
   "cell_type": "code",
   "execution_count": null,
   "metadata": {
    "vscode": {
     "languageId": "r"
    }
   },
   "outputs": [],
   "source": [
    "#Charger les librairies\n",
    "library(Seurat)"
   ]
  },
  {
   "cell_type": "code",
   "execution_count": null,
   "metadata": {
    "vscode": {
     "languageId": "r"
    }
   },
   "outputs": [],
   "source": [
    "#Charger les objets Seurat\n",
    "\n",
    "seurat_M15_mRNA_nofilter <- readRDS(\"7_Article/results/Seurat/M15_mRNA_nofilter_DO.rds\")\n",
    "seurat_M14_mRNA_nofilter <- readRDS(\"7_Article/results/Seurat/M14_mRNA_nofilter_DO.rds\")"
   ]
  },
  {
   "cell_type": "code",
   "execution_count": null,
   "metadata": {
    "vscode": {
     "languageId": "r"
    }
   },
   "outputs": [],
   "source": [
    "# Lire les 100 premieres lignes de l'objet seurat\n",
    "head(seurat_M15_mRNA_nofilter, 100)"
   ]
  }
 ],
 "metadata": {
  "language_info": {
   "name": "python"
  }
 },
 "nbformat": 4,
 "nbformat_minor": 2
}
