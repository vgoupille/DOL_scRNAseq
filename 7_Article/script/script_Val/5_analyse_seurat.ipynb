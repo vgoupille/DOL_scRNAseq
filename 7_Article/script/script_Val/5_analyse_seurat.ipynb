{
 "cells": [
  {
   "cell_type": "markdown",
   "metadata": {
    "vscode": {
     "languageId": "r"
    }
   },
   "source": [
    "lien de l'image docker utilisée : \n",
    "https://github.com/rnakato/ShortCake"
   ]
  },
  {
   "cell_type": "markdown",
   "metadata": {
    "vscode": {
     "languageId": "r"
    }
   },
   "source": [
    "d'abord lancer : \n",
    "```{bash}\n",
    "sbatch \"7_Article/script/script_Val/0_launch_jupyter.sh\"\n",
    "```"
   ]
  },
  {
   "cell_type": "code",
   "execution_count": 2,
   "metadata": {
    "vscode": {
     "languageId": "r"
    }
   },
   "outputs": [
    {
     "name": "stderr",
     "output_type": "stream",
     "text": [
      "Loading required package: SeuratObject\n",
      "\n",
      "Loading required package: sp\n",
      "\n",
      "\n",
      "Attaching package: ‘SeuratObject’\n",
      "\n",
      "\n",
      "The following objects are masked from ‘package:base’:\n",
      "\n",
      "    intersect, t\n",
      "\n",
      "\n"
     ]
    }
   ],
   "source": [
    "library (Seurat)"
   ]
  },
  {
   "cell_type": "raw",
   "metadata": {
    "vscode": {
     "languageId": "raw"
    }
   },
   "source": [
    "liste des  commandes Seurat :\n",
    "\n",
    "https://satijalab.org/seurat/articles/essential_commands.html"
   ]
  },
  {
   "cell_type": "code",
   "execution_count": null,
   "metadata": {
    "vscode": {
     "languageId": "r"
    }
   },
   "outputs": [],
   "source": [
    "# load the Seurat object\n",
    "path_RNA_combined  <- \"7_Article/results/tab_seurat_correct/RNA_combined.rds\"\n",
    "RNA_combined <- readRDS(path_RNA_combined)\n",
    "\n",
    "path_RNA_rep1  <- \"7_Article/results/tab_seurat_correct/RNA_rep1.rds\"\n",
    "RNA_rep1 <- readRDS(path_RNA_rep1)\n",
    "\n",
    "path_RNA_rep2  <- \"7_Article/results/tab_seurat_correct/RNA_rep2.rds\"\n",
    "RNA_rep2 <- readRDS(path_RNA_rep2)\n"
   ]
  },
  {
   "cell_type": "code",
   "execution_count": 9,
   "metadata": {
    "vscode": {
     "languageId": "r"
    }
   },
   "outputs": [
    {
     "name": "stdout",
     "output_type": "stream",
     "text": [
      "Formal class 'Seurat' [package \"SeuratObject\"] with 13 slots\n",
      "  ..@ assays      :List of 1\n",
      "  .. ..$ RNA:Formal class 'Assay5' [package \"SeuratObject\"] with 8 slots\n",
      "  .. .. .. ..@ layers    :List of 1\n",
      "  .. .. .. .. ..$ counts:Formal class 'dgCMatrix' [package \"Matrix\"] with 6 slots\n",
      "  .. .. .. .. .. .. ..@ i       : int [1:11781869] 617 845 848 1346 2735 2819 2825 2924 3200 4020 ...\n",
      "  .. .. .. .. .. .. ..@ p       : int [1:430176] 0 0 12 12 12 64 72 73 132 132 ...\n",
      "  .. .. .. .. .. .. ..@ Dim     : int [1:2] 4422 430175\n",
      "  .. .. .. .. .. .. ..@ Dimnames:List of 2\n",
      "  .. .. .. .. .. .. .. ..$ : NULL\n",
      "  .. .. .. .. .. .. .. ..$ : NULL\n",
      "  .. .. .. .. .. .. ..@ x       : num [1:11781869] 0.143 1 0.143 0.143 0.143 ...\n",
      "  .. .. .. .. .. .. ..@ factors : list()\n",
      "  .. .. .. ..@ cells     :Formal class 'LogMap' [package \"SeuratObject\"] with 1 slot\n",
      "  .. .. .. .. .. ..@ .Data: logi [1:430175, 1] TRUE TRUE TRUE TRUE TRUE TRUE ...\n",
      "  .. .. .. .. .. .. ..- attr(*, \"dimnames\")=List of 2\n",
      "  .. .. .. .. .. .. .. ..$ : chr [1:430175] \"AAACATCG_AAACATCG_ACTCGTAA\" \"AAACATCG_AACAACCA_ACTCGTAA\" \"AAACATCG_AACCGAGA_ACTCGTAA\" \"AAACATCG_AACGCTTA_ACTCGTAA\" ...\n",
      "  .. .. .. .. .. .. .. ..$ : chr \"counts\"\n",
      "  .. .. .. .. .. ..$ dim     : int [1:2] 430175 1\n",
      "  .. .. .. .. .. ..$ dimnames:List of 2\n",
      "  .. .. .. .. .. .. ..$ : chr [1:430175] \"AAACATCG_AAACATCG_ACTCGTAA\" \"AAACATCG_AACAACCA_ACTCGTAA\" \"AAACATCG_AACCGAGA_ACTCGTAA\" \"AAACATCG_AACGCTTA_ACTCGTAA\" ...\n",
      "  .. .. .. .. .. .. ..$ : chr \"counts\"\n",
      "  .. .. .. ..@ features  :Formal class 'LogMap' [package \"SeuratObject\"] with 1 slot\n",
      "  .. .. .. .. .. ..@ .Data: logi [1:4422, 1] TRUE TRUE TRUE TRUE TRUE TRUE ...\n",
      "  .. .. .. .. .. .. ..- attr(*, \"dimnames\")=List of 2\n",
      "  .. .. .. .. .. .. .. ..$ : chr [1:4422] \"bs-dnaA\" \"bs-dnaN\" \"bs-rlbA\" \"bs-recF\" ...\n",
      "  .. .. .. .. .. .. .. ..$ : chr \"counts\"\n",
      "  .. .. .. .. .. ..$ dim     : int [1:2] 4422 1\n",
      "  .. .. .. .. .. ..$ dimnames:List of 2\n",
      "  .. .. .. .. .. .. ..$ : chr [1:4422] \"bs-dnaA\" \"bs-dnaN\" \"bs-rlbA\" \"bs-recF\" ...\n",
      "  .. .. .. .. .. .. ..$ : chr \"counts\"\n",
      "  .. .. .. ..@ default   : int 1\n",
      "  .. .. .. ..@ assay.orig: chr(0) \n",
      "  .. .. .. ..@ meta.data :'data.frame':\t4422 obs. of  0 variables\n",
      "  .. .. .. ..@ misc      :List of 1\n",
      "  .. .. .. .. ..$ calcN: logi TRUE\n",
      "  .. .. .. ..@ key       : chr \"rna_\"\n",
      "  ..@ meta.data   :'data.frame':\t430175 obs. of  6 variables:\n",
      "  .. ..$ nCount_RNA  : num [1:430175] 0 3 0 0 42.7 ...\n",
      "  .. ..$ nFeature_RNA: int [1:430175] 0 12 0 0 52 8 1 59 0 0 ...\n",
      "  .. ..$ rep         : chr [1:430175] \"rep2\" \"rep2\" \"rep2\" \"rep2\" ...\n",
      "  .. ..$ sublibrary  : chr [1:430175] \"M14\" \"M14\" \"M14\" \"M14\" ...\n",
      "  .. ..$ well        : chr [1:430175] \"A1\" \"A1\" \"A1\" \"A1\" ...\n",
      "  .. ..$ cond        : chr [1:430175] \"OD0.5\" \"OD0.5\" \"OD0.5\" \"OD0.5\" ...\n",
      "  ..@ active.assay: chr \"RNA\"\n",
      "  ..@ active.ident: Factor w/ 96 levels \"AAACATCG\",\"AACAACCA\",..: 1 1 1 1 1 1 1 1 1 1 ...\n",
      "  .. ..- attr(*, \"names\")= chr [1:430175] \"AAACATCG_AAACATCG_ACTCGTAA\" \"AAACATCG_AACAACCA_ACTCGTAA\" \"AAACATCG_AACCGAGA_ACTCGTAA\" \"AAACATCG_AACGCTTA_ACTCGTAA\" ...\n",
      "  ..@ graphs      : list()\n",
      "  ..@ neighbors   : list()\n",
      "  ..@ reductions  : list()\n",
      "  ..@ images      : list()\n",
      "  ..@ project.name: chr \"SeuratProject\"\n",
      "  ..@ misc        : list()\n",
      "  ..@ version     :Classes 'package_version', 'numeric_version'  hidden list of 1\n",
      "  .. ..$ : int [1:3] 5 0 2\n",
      "  ..@ commands    : list()\n",
      "  ..@ tools       : list()\n"
     ]
    }
   ],
   "source": [
    "str (RNA_combined)"
   ]
  },
  {
   "cell_type": "markdown",
   "metadata": {},
   "source": [
    "Test avec le dataset fusionné \n",
    "\n",
    "🔹 1. 4422 features → Nombre de gènes détectés\n",
    "\t•\tUn “feature” dans Seurat correspond généralement à un gène (mais cela peut inclure des transcrits non codants).\n",
    "\t•\t4422 signifie que l’objet contient 4 422 gènes différents.\n",
    "\t•\tCe nombre dépend du prétraitement, des filtres appliqués et du type de données (ex. si les gènes ribosomiques ont été supprimés).\n",
    "\n",
    "⸻\n",
    "\n",
    "🔹 2. 430175 samples → Nombre de cellules analysées\n",
    "\t•\tEn scRNA-seq, chaque “sample” correspond à une cellule unique.\n",
    "\t•\t430 175 cellules → Cela indique une très grande expérience, potentiellement issue d’un séquençage très profond ou de plusieurs échantillons combinés.\n",
    "\n",
    "⚠️ Ce nombre semble extrêmement élevé pour du single-cell RNA-seq.\n"
   ]
  },
  {
   "cell_type": "code",
   "execution_count": 7,
   "metadata": {
    "vscode": {
     "languageId": "r"
    }
   },
   "outputs": [
    {
     "data": {
      "text/plain": [
       "An object of class Seurat \n",
       "4422 features across 430175 samples within 1 assay \n",
       "Active assay: RNA (4422 features, 0 variable features)\n",
       " 1 layer present: counts"
      ]
     },
     "metadata": {},
     "output_type": "display_data"
    }
   ],
   "source": [
    "RNA_combined"
   ]
  },
  {
   "cell_type": "code",
   "execution_count": null,
   "metadata": {
    "vscode": {
     "languageId": "r"
    }
   },
   "outputs": [
    {
     "ename": "ERROR",
     "evalue": "Error in parse(text = input): <text>:4:5: unexpected symbol\n3: \n4: min nFeature_RNA\n       ^\n",
     "output_type": "error",
     "traceback": [
      "Error in parse(text = input): <text>:4:5: unexpected symbol\n3: \n4: min nFeature_RNA\n       ^\nTraceback:\n"
     ]
    }
   ],
   "source": [
    "#Filtering cells based on number of genes and number of UMIs\n",
    "#RNA_combined <- subset(RNA_combined, subset = nFeature_RNA > 200 & nFeature_RNA < 6000 & nCount_RNA > 800 & nCount_RNA < 20000)\n",
    "\n",
    "#Filtering genes based on number of cells\n",
    "#RNA_combined <- subset(RNA_combined, subset = nFeature_RNA > 3)\n",
    "\n",
    "#Filtering cells based on number of genes and number of UMIs\n",
    "RNA_combined <- subset(RNA_combined, subset = nFeature_RNA > 200 & nFeature_RNA < 6000 & nCount_RNA > 800 & nCount_RNA < 20000)\n",
    "\n"
   ]
  },
  {
   "cell_type": "code",
   "execution_count": 5,
   "metadata": {
    "vscode": {
     "languageId": "r"
    }
   },
   "outputs": [
    {
     "data": {
      "text/plain": [
       "An object of class Seurat \n",
       "4422 features across 3444 samples within 1 assay \n",
       "Active assay: RNA (4422 features, 0 variable features)\n",
       " 1 layer present: counts"
      ]
     },
     "metadata": {},
     "output_type": "display_data"
    }
   ],
   "source": [
    "RNA_combined"
   ]
  },
  {
   "cell_type": "code",
   "execution_count": 4,
   "metadata": {
    "vscode": {
     "languageId": "r"
    }
   },
   "outputs": [
    {
     "name": "stderr",
     "output_type": "stream",
     "text": [
      "Normalizing layer: counts\n",
      "\n"
     ]
    }
   ],
   "source": [
    "RNA_combined <- NormalizeData(object = RNA_combined)"
   ]
  },
  {
   "cell_type": "code",
   "execution_count": 5,
   "metadata": {
    "vscode": {
     "languageId": "r"
    }
   },
   "outputs": [
    {
     "name": "stderr",
     "output_type": "stream",
     "text": [
      "Finding variable features for layer counts\n",
      "\n"
     ]
    }
   ],
   "source": [
    "RNA_combined <- FindVariableFeatures(object = RNA_combined)"
   ]
  },
  {
   "cell_type": "code",
   "execution_count": 6,
   "metadata": {
    "vscode": {
     "languageId": "r"
    }
   },
   "outputs": [
    {
     "name": "stderr",
     "output_type": "stream",
     "text": [
      "Centering and scaling data matrix\n",
      "\n"
     ]
    }
   ],
   "source": [
    "RNA_combined <- ScaleData(object = RNA_combined)"
   ]
  },
  {
   "cell_type": "code",
   "execution_count": 7,
   "metadata": {
    "vscode": {
     "languageId": "r"
    }
   },
   "outputs": [
    {
     "ename": "",
     "evalue": "",
     "output_type": "error",
     "traceback": [
      "\u001b[1;31mThe Kernel crashed while executing code in the current cell or a previous cell. \n",
      "\u001b[1;31mPlease review the code in the cell(s) to identify a possible cause of the failure. \n",
      "\u001b[1;31mClick <a href='https://aka.ms/vscodeJupyterKernelCrash'>here</a> for more info. \n",
      "\u001b[1;31mView Jupyter <a href='command:jupyter.viewOutput'>log</a> for further details."
     ]
    },
    {
     "ename": "",
     "evalue": "",
     "output_type": "error",
     "traceback": [
      "\u001b[1;31mCanceled future for execute_request message before replies were done"
     ]
    },
    {
     "ename": "",
     "evalue": "",
     "output_type": "error",
     "traceback": [
      "\u001b[1;31mCanceled future for execute_request message before replies were done. \n",
      "\u001b[1;31mView Jupyter <a href='command:jupyter.viewOutput'>log</a> for further details."
     ]
    }
   ],
   "source": [
    "RNA_combined <- RunPCA(object = RNA_combined)"
   ]
  },
  {
   "cell_type": "code",
   "execution_count": null,
   "metadata": {
    "vscode": {
     "languageId": "r"
    }
   },
   "outputs": [],
   "source": [
    "RNA_combined <- FindNeighbors(object = RNA_combined, dims = 1:30)"
   ]
  },
  {
   "cell_type": "code",
   "execution_count": null,
   "metadata": {
    "vscode": {
     "languageId": "r"
    }
   },
   "outputs": [],
   "source": [
    "RNA_combined <- FindClusters(object = RNA_combined)"
   ]
  },
  {
   "cell_type": "code",
   "execution_count": null,
   "metadata": {
    "vscode": {
     "languageId": "r"
    }
   },
   "outputs": [],
   "source": [
    "RNA_combined <- RunUMAP(object = RNA_combined, dims = 1:30)"
   ]
  },
  {
   "cell_type": "code",
   "execution_count": null,
   "metadata": {
    "vscode": {
     "languageId": "r"
    }
   },
   "outputs": [],
   "source": [
    "DimPlot(object = RNA_combined, reduction = \"umap\")"
   ]
  }
 ],
 "metadata": {
  "kernelspec": {
   "display_name": "R",
   "language": "R",
   "name": "ir"
  },
  "language_info": {
   "codemirror_mode": "r",
   "file_extension": ".r",
   "mimetype": "text/x-r-source",
   "name": "R",
   "pygments_lexer": "r",
   "version": "4.4.1"
  }
 },
 "nbformat": 4,
 "nbformat_minor": 2
}
