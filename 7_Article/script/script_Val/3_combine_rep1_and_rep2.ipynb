{
 "cells": [
  {
   "cell_type": "code",
   "execution_count": 7,
   "metadata": {
    "vscode": {
     "languageId": "r"
    }
   },
   "outputs": [],
   "source": [
    "\n",
    "# Import the libraries\n",
    "library (Seurat)\n",
    "\n",
    "# load the Seurat object\n",
    "\n",
    "path_RNA_combined  <- \"7_Article/results/tab_seurat_correct/RNA_combined.rds\"\n",
    "RNA_combined <- readRDS(path_RNA_combined)\n"
   ]
  },
  {
   "cell_type": "code",
   "execution_count": 8,
   "metadata": {
    "vscode": {
     "languageId": "r"
    }
   },
   "outputs": [
    {
     "data": {
      "text/plain": [
       "An object of class Seurat \n",
       "4422 features across 730249 samples within 1 assay \n",
       "Active assay: RNA (4422 features, 0 variable features)\n",
       " 2 layers present: counts.1, counts.2"
      ]
     },
     "metadata": {},
     "output_type": "display_data"
    }
   ],
   "source": [
    "RNA_combined"
   ]
  },
  {
   "cell_type": "code",
   "execution_count": null,
   "metadata": {
    "vscode": {
     "languageId": "r"
    }
   },
   "outputs": [],
   "source": [
    "\n",
    "#method to combine the layers of the Seurat object\n",
    "# https://satijalab.github.io/seurat-object/reference/SplitLayers.html\n",
    "#probleme de la fonction qui bug : \n",
    "# https://github.com/satijalab/seurat/discussions/8155\n"
   ]
  },
  {
   "cell_type": "code",
   "execution_count": 10,
   "metadata": {
    "vscode": {
     "languageId": "r"
    }
   },
   "outputs": [
    {
     "data": {
      "text/html": [
       "'RNA'"
      ],
      "text/latex": [
       "'RNA'"
      ],
      "text/markdown": [
       "'RNA'"
      ],
      "text/plain": [
       "[1] \"RNA\""
      ]
     },
     "metadata": {},
     "output_type": "display_data"
    }
   ],
   "source": [
    "Assays(RNA_combined)  # Pour voir les assays disponibles"
   ]
  },
  {
   "cell_type": "code",
   "execution_count": 11,
   "metadata": {
    "vscode": {
     "languageId": "r"
    }
   },
   "outputs": [
    {
     "data": {
      "text/html": [
       "<style>\n",
       ".list-inline {list-style: none; margin:0; padding: 0}\n",
       ".list-inline>li {display: inline-block}\n",
       ".list-inline>li:not(:last-child)::after {content: \"\\00b7\"; padding: 0 .5ex}\n",
       "</style>\n",
       "<ol class=list-inline><li>'counts.1'</li><li>'counts.2'</li></ol>\n"
      ],
      "text/latex": [
       "\\begin{enumerate*}\n",
       "\\item 'counts.1'\n",
       "\\item 'counts.2'\n",
       "\\end{enumerate*}\n"
      ],
      "text/markdown": [
       "1. 'counts.1'\n",
       "2. 'counts.2'\n",
       "\n",
       "\n"
      ],
      "text/plain": [
       "[1] \"counts.1\" \"counts.2\""
      ]
     },
     "metadata": {},
     "output_type": "display_data"
    }
   ],
   "source": [
    "Layers(RNA_combined) # check the layers"
   ]
  },
  {
   "cell_type": "code",
   "execution_count": 12,
   "metadata": {
    "vscode": {
     "languageId": "r"
    }
   },
   "outputs": [],
   "source": [
    "RNA_combined[[\"RNA\"]] <- JoinLayers(RNA_combined[[\"RNA\"]])"
   ]
  },
  {
   "cell_type": "code",
   "execution_count": 13,
   "metadata": {
    "vscode": {
     "languageId": "r"
    }
   },
   "outputs": [
    {
     "data": {
      "text/html": [
       "<table class=\"dataframe\">\n",
       "<caption>A data.frame: 730249 × 6</caption>\n",
       "<thead>\n",
       "\t<tr><th></th><th scope=col>nCount_RNA</th><th scope=col>nFeature_RNA</th><th scope=col>rep</th><th scope=col>sublibrary</th><th scope=col>well</th><th scope=col>cond</th></tr>\n",
       "\t<tr><th></th><th scope=col>&lt;dbl&gt;</th><th scope=col>&lt;int&gt;</th><th scope=col>&lt;chr&gt;</th><th scope=col>&lt;chr&gt;</th><th scope=col>&lt;chr&gt;</th><th scope=col>&lt;chr&gt;</th></tr>\n",
       "</thead>\n",
       "<tbody>\n",
       "\t<tr><th scope=row>rep1_AAACATCG_AACCGAGA_ACTCGTAA</th><td>0.000000</td><td>0</td><td>rep1</td><td>M15</td><td>A1</td><td>OD0.5</td></tr>\n",
       "\t<tr><th scope=row>rep1_AAACATCG_AACGCTTA_ACTCGTAA</th><td>0.000000</td><td>0</td><td>rep1</td><td>M15</td><td>A1</td><td>OD0.5</td></tr>\n",
       "\t<tr><th scope=row>rep1_AAACATCG_AACTCACC_ACTCGTAA</th><td>0.000000</td><td>0</td><td>rep1</td><td>M15</td><td>A1</td><td>OD0.5</td></tr>\n",
       "\t<tr><th scope=row>rep1_AAACATCG_AATCCGTC_ACTCGTAA</th><td>0.000000</td><td>0</td><td>rep1</td><td>M15</td><td>A1</td><td>OD0.5</td></tr>\n",
       "\t<tr><th scope=row>rep1_AAACATCG_ACAGATTC_ACTCGTAA</th><td>0.000000</td><td>0</td><td>rep1</td><td>M15</td><td>A1</td><td>OD0.5</td></tr>\n",
       "\t<tr><th scope=row>rep1_AAACATCG_AGCACCTC_ACTCGTAA</th><td>0.000000</td><td>0</td><td>rep1</td><td>M15</td><td>A1</td><td>OD0.5</td></tr>\n",
       "\t<tr><th scope=row>rep1_AAACATCG_AGCAGGAA_ACTCGTAA</th><td>0.000000</td><td>0</td><td>rep1</td><td>M15</td><td>A1</td><td>OD0.5</td></tr>\n",
       "\t<tr><th scope=row>rep1_AAACATCG_AGCCATGC_ACTCGTAA</th><td>0.000000</td><td>0</td><td>rep1</td><td>M15</td><td>A1</td><td>OD0.5</td></tr>\n",
       "\t<tr><th scope=row>rep1_AAACATCG_AGGCTAAC_ACTCGTAA</th><td>0.000000</td><td>0</td><td>rep1</td><td>M15</td><td>A1</td><td>OD0.5</td></tr>\n",
       "\t<tr><th scope=row>rep1_AAACATCG_AGTCACTA_ACTCGTAA</th><td>0.000000</td><td>0</td><td>rep1</td><td>M15</td><td>A1</td><td>OD0.5</td></tr>\n",
       "\t<tr><th scope=row>rep1_AAACATCG_AGTGGTCA_ACTCGTAA</th><td>0.000000</td><td>0</td><td>rep1</td><td>M15</td><td>A1</td><td>OD0.5</td></tr>\n",
       "\t<tr><th scope=row>rep1_AAACATCG_ATCATTCC_ACTCGTAA</th><td>0.000000</td><td>0</td><td>rep1</td><td>M15</td><td>A1</td><td>OD0.5</td></tr>\n",
       "\t<tr><th scope=row>rep1_AAACATCG_CAGCGTTA_ACTCGTAA</th><td>0.000000</td><td>0</td><td>rep1</td><td>M15</td><td>A1</td><td>OD0.5</td></tr>\n",
       "\t<tr><th scope=row>rep1_AAACATCG_CCATCCTC_ACTCGTAA</th><td>0.111111</td><td>1</td><td>rep1</td><td>M15</td><td>A1</td><td>OD0.5</td></tr>\n",
       "\t<tr><th scope=row>rep1_AAACATCG_CCTCTATC_ACTCGTAA</th><td>0.000000</td><td>0</td><td>rep1</td><td>M15</td><td>A1</td><td>OD0.5</td></tr>\n",
       "\t<tr><th scope=row>rep1_AAACATCG_CGAACTTA_ACTCGTAA</th><td>0.000000</td><td>0</td><td>rep1</td><td>M15</td><td>A1</td><td>OD0.5</td></tr>\n",
       "\t<tr><th scope=row>rep1_AAACATCG_CGCATACA_ACTCGTAA</th><td>0.166667</td><td>1</td><td>rep1</td><td>M15</td><td>A1</td><td>OD0.5</td></tr>\n",
       "\t<tr><th scope=row>rep1_AAACATCG_CTCAATGA_ACTCGTAA</th><td>0.000000</td><td>0</td><td>rep1</td><td>M15</td><td>A1</td><td>OD0.5</td></tr>\n",
       "\t<tr><th scope=row>rep1_AAACATCG_GAACAGGC_ACTCGTAA</th><td>0.000000</td><td>0</td><td>rep1</td><td>M15</td><td>A1</td><td>OD0.5</td></tr>\n",
       "\t<tr><th scope=row>rep1_AAACATCG_GAGCTGAA_ACTCGTAA</th><td>0.000000</td><td>0</td><td>rep1</td><td>M15</td><td>A1</td><td>OD0.5</td></tr>\n",
       "\t<tr><th scope=row>rep1_AAACATCG_GTACGCAA_ACTCGTAA</th><td>0.000000</td><td>0</td><td>rep1</td><td>M15</td><td>A1</td><td>OD0.5</td></tr>\n",
       "\t<tr><th scope=row>rep1_AAACATCG_GTCTGTCA_ACTCGTAA</th><td>0.000000</td><td>0</td><td>rep1</td><td>M15</td><td>A1</td><td>OD0.5</td></tr>\n",
       "\t<tr><th scope=row>rep1_AAACATCG_GTGTTCTA_ACTCGTAA</th><td>0.000000</td><td>0</td><td>rep1</td><td>M15</td><td>A1</td><td>OD0.5</td></tr>\n",
       "\t<tr><th scope=row>rep1_AAACATCG_TAGGATGA_ACTCGTAA</th><td>0.000000</td><td>0</td><td>rep1</td><td>M15</td><td>A1</td><td>OD0.5</td></tr>\n",
       "\t<tr><th scope=row>rep1_AAACATCG_TATCAGCA_ACTCGTAA</th><td>2.000000</td><td>1</td><td>rep1</td><td>M15</td><td>A1</td><td>OD0.5</td></tr>\n",
       "\t<tr><th scope=row>rep1_AAACATCG_TCTTCACA_ACTCGTAA</th><td>2.999999</td><td>5</td><td>rep1</td><td>M15</td><td>A1</td><td>OD0.5</td></tr>\n",
       "\t<tr><th scope=row>rep1_AAACATCG_TGGAACAA_ACTCGTAA</th><td>0.000000</td><td>0</td><td>rep1</td><td>M15</td><td>A1</td><td>OD0.5</td></tr>\n",
       "\t<tr><th scope=row>rep1_AACAACCA_AACAACCA_ACTCGTAA</th><td>5.916666</td><td>9</td><td>rep1</td><td>M15</td><td>A1</td><td>OD0.5</td></tr>\n",
       "\t<tr><th scope=row>rep1_AACAACCA_AACCGAGA_ACTCGTAA</th><td>0.500000</td><td>1</td><td>rep1</td><td>M15</td><td>A1</td><td>OD0.5</td></tr>\n",
       "\t<tr><th scope=row>rep1_AACAACCA_AACGCTTA_ACTCGTAA</th><td>2.000000</td><td>2</td><td>rep1</td><td>M15</td><td>A1</td><td>OD0.5</td></tr>\n",
       "\t<tr><th scope=row>⋮</th><td>⋮</td><td>⋮</td><td>⋮</td><td>⋮</td><td>⋮</td><td>⋮</td></tr>\n",
       "\t<tr><th scope=row>rep2_TTCACGCA_CTGGCATA_CTGAAAGG</th><td> 5.666663</td><td>13</td><td>rep2</td><td>M14</td><td>D12</td><td>OD3.2</td></tr>\n",
       "\t<tr><th scope=row>rep2_TTCACGCA_CTGTAGCC_CTGAAAGG</th><td>41.974240</td><td>38</td><td>rep2</td><td>M14</td><td>D12</td><td>OD3.2</td></tr>\n",
       "\t<tr><th scope=row>rep2_TTCACGCA_GAACAGGC_CTGAAAGG</th><td> 2.000000</td><td> 3</td><td>rep2</td><td>M14</td><td>D12</td><td>OD3.2</td></tr>\n",
       "\t<tr><th scope=row>rep2_TTCACGCA_GAATCTGA_CTGAAAGG</th><td> 2.000000</td><td> 3</td><td>rep2</td><td>M14</td><td>D12</td><td>OD3.2</td></tr>\n",
       "\t<tr><th scope=row>rep2_TTCACGCA_GACAGTGC_CTGAAAGG</th><td> 6.333334</td><td> 8</td><td>rep2</td><td>M14</td><td>D12</td><td>OD3.2</td></tr>\n",
       "\t<tr><th scope=row>rep2_TTCACGCA_GACTAGTA_CTGAAAGG</th><td> 4.249999</td><td>12</td><td>rep2</td><td>M14</td><td>D12</td><td>OD3.2</td></tr>\n",
       "\t<tr><th scope=row>rep2_TTCACGCA_GAGCTGAA_CTGAAAGG</th><td> 4.015151</td><td>10</td><td>rep2</td><td>M14</td><td>D12</td><td>OD3.2</td></tr>\n",
       "\t<tr><th scope=row>rep2_TTCACGCA_GAGTTAGC_CTGAAAGG</th><td> 3.416668</td><td>10</td><td>rep2</td><td>M14</td><td>D12</td><td>OD3.2</td></tr>\n",
       "\t<tr><th scope=row>rep2_TTCACGCA_GATAGACA_CTGAAAGG</th><td> 3.300000</td><td> 7</td><td>rep2</td><td>M14</td><td>D12</td><td>OD3.2</td></tr>\n",
       "\t<tr><th scope=row>rep2_TTCACGCA_GATGAATC_CTGAAAGG</th><td> 2.000000</td><td> 2</td><td>rep2</td><td>M14</td><td>D12</td><td>OD3.2</td></tr>\n",
       "\t<tr><th scope=row>rep2_TTCACGCA_GCCAAGAC_CTGAAAGG</th><td> 5.000000</td><td> 7</td><td>rep2</td><td>M14</td><td>D12</td><td>OD3.2</td></tr>\n",
       "\t<tr><th scope=row>rep2_TTCACGCA_GCCACATA_CTGAAAGG</th><td> 4.999997</td><td>14</td><td>rep2</td><td>M14</td><td>D12</td><td>OD3.2</td></tr>\n",
       "\t<tr><th scope=row>rep2_TTCACGCA_GCGAGTAA_CTGAAAGG</th><td> 6.666664</td><td>15</td><td>rep2</td><td>M14</td><td>D12</td><td>OD3.2</td></tr>\n",
       "\t<tr><th scope=row>rep2_TTCACGCA_GCTAACGA_CTGAAAGG</th><td> 3.499999</td><td> 9</td><td>rep2</td><td>M14</td><td>D12</td><td>OD3.2</td></tr>\n",
       "\t<tr><th scope=row>rep2_TTCACGCA_GCTCGGTA_CTGAAAGG</th><td> 5.999999</td><td>12</td><td>rep2</td><td>M14</td><td>D12</td><td>OD3.2</td></tr>\n",
       "\t<tr><th scope=row>rep2_TTCACGCA_GGAGAACA_CTGAAAGG</th><td> 0.000000</td><td> 0</td><td>rep2</td><td>M14</td><td>D12</td><td>OD3.2</td></tr>\n",
       "\t<tr><th scope=row>rep2_TTCACGCA_GGTGCGAA_CTGAAAGG</th><td> 0.000000</td><td> 0</td><td>rep2</td><td>M14</td><td>D12</td><td>OD3.2</td></tr>\n",
       "\t<tr><th scope=row>rep2_TTCACGCA_GTACGCAA_CTGAAAGG</th><td> 2.611107</td><td> 5</td><td>rep2</td><td>M14</td><td>D12</td><td>OD3.2</td></tr>\n",
       "\t<tr><th scope=row>rep2_TTCACGCA_GTCGTAGA_CTGAAAGG</th><td> 7.166666</td><td>15</td><td>rep2</td><td>M14</td><td>D12</td><td>OD3.2</td></tr>\n",
       "\t<tr><th scope=row>rep2_TTCACGCA_GTCTGTCA_CTGAAAGG</th><td> 3.000001</td><td>13</td><td>rep2</td><td>M14</td><td>D12</td><td>OD3.2</td></tr>\n",
       "\t<tr><th scope=row>rep2_TTCACGCA_GTGTTCTA_CTGAAAGG</th><td> 1.166666</td><td> 3</td><td>rep2</td><td>M14</td><td>D12</td><td>OD3.2</td></tr>\n",
       "\t<tr><th scope=row>rep2_TTCACGCA_TAGGATGA_CTGAAAGG</th><td> 2.000000</td><td> 2</td><td>rep2</td><td>M14</td><td>D12</td><td>OD3.2</td></tr>\n",
       "\t<tr><th scope=row>rep2_TTCACGCA_TATCAGCA_CTGAAAGG</th><td>10.711107</td><td>24</td><td>rep2</td><td>M14</td><td>D12</td><td>OD3.2</td></tr>\n",
       "\t<tr><th scope=row>rep2_TTCACGCA_TCCGTCTA_CTGAAAGG</th><td> 5.000000</td><td> 7</td><td>rep2</td><td>M14</td><td>D12</td><td>OD3.2</td></tr>\n",
       "\t<tr><th scope=row>rep2_TTCACGCA_TCTTCACA_CTGAAAGG</th><td> 7.777776</td><td>14</td><td>rep2</td><td>M14</td><td>D12</td><td>OD3.2</td></tr>\n",
       "\t<tr><th scope=row>rep2_TTCACGCA_TGAAGAGA_CTGAAAGG</th><td> 8.333331</td><td>20</td><td>rep2</td><td>M14</td><td>D12</td><td>OD3.2</td></tr>\n",
       "\t<tr><th scope=row>rep2_TTCACGCA_TGGAACAA_CTGAAAGG</th><td> 6.416665</td><td>16</td><td>rep2</td><td>M14</td><td>D12</td><td>OD3.2</td></tr>\n",
       "\t<tr><th scope=row>rep2_TTCACGCA_TGGCTTCA_CTGAAAGG</th><td> 3.000000</td><td> 5</td><td>rep2</td><td>M14</td><td>D12</td><td>OD3.2</td></tr>\n",
       "\t<tr><th scope=row>rep2_TTCACGCA_TGGTGGTA_CTGAAAGG</th><td>89.234580</td><td>90</td><td>rep2</td><td>M14</td><td>D12</td><td>OD3.2</td></tr>\n",
       "\t<tr><th scope=row>rep2_TTCACGCA_TTCACGCA_CTGAAAGG</th><td> 6.499999</td><td>16</td><td>rep2</td><td>M14</td><td>D12</td><td>OD3.2</td></tr>\n",
       "</tbody>\n",
       "</table>\n"
      ],
      "text/latex": [
       "A data.frame: 730249 × 6\n",
       "\\begin{tabular}{r|llllll}\n",
       "  & nCount\\_RNA & nFeature\\_RNA & rep & sublibrary & well & cond\\\\\n",
       "  & <dbl> & <int> & <chr> & <chr> & <chr> & <chr>\\\\\n",
       "\\hline\n",
       "\trep1\\_AAACATCG\\_AACCGAGA\\_ACTCGTAA & 0.000000 & 0 & rep1 & M15 & A1 & OD0.5\\\\\n",
       "\trep1\\_AAACATCG\\_AACGCTTA\\_ACTCGTAA & 0.000000 & 0 & rep1 & M15 & A1 & OD0.5\\\\\n",
       "\trep1\\_AAACATCG\\_AACTCACC\\_ACTCGTAA & 0.000000 & 0 & rep1 & M15 & A1 & OD0.5\\\\\n",
       "\trep1\\_AAACATCG\\_AATCCGTC\\_ACTCGTAA & 0.000000 & 0 & rep1 & M15 & A1 & OD0.5\\\\\n",
       "\trep1\\_AAACATCG\\_ACAGATTC\\_ACTCGTAA & 0.000000 & 0 & rep1 & M15 & A1 & OD0.5\\\\\n",
       "\trep1\\_AAACATCG\\_AGCACCTC\\_ACTCGTAA & 0.000000 & 0 & rep1 & M15 & A1 & OD0.5\\\\\n",
       "\trep1\\_AAACATCG\\_AGCAGGAA\\_ACTCGTAA & 0.000000 & 0 & rep1 & M15 & A1 & OD0.5\\\\\n",
       "\trep1\\_AAACATCG\\_AGCCATGC\\_ACTCGTAA & 0.000000 & 0 & rep1 & M15 & A1 & OD0.5\\\\\n",
       "\trep1\\_AAACATCG\\_AGGCTAAC\\_ACTCGTAA & 0.000000 & 0 & rep1 & M15 & A1 & OD0.5\\\\\n",
       "\trep1\\_AAACATCG\\_AGTCACTA\\_ACTCGTAA & 0.000000 & 0 & rep1 & M15 & A1 & OD0.5\\\\\n",
       "\trep1\\_AAACATCG\\_AGTGGTCA\\_ACTCGTAA & 0.000000 & 0 & rep1 & M15 & A1 & OD0.5\\\\\n",
       "\trep1\\_AAACATCG\\_ATCATTCC\\_ACTCGTAA & 0.000000 & 0 & rep1 & M15 & A1 & OD0.5\\\\\n",
       "\trep1\\_AAACATCG\\_CAGCGTTA\\_ACTCGTAA & 0.000000 & 0 & rep1 & M15 & A1 & OD0.5\\\\\n",
       "\trep1\\_AAACATCG\\_CCATCCTC\\_ACTCGTAA & 0.111111 & 1 & rep1 & M15 & A1 & OD0.5\\\\\n",
       "\trep1\\_AAACATCG\\_CCTCTATC\\_ACTCGTAA & 0.000000 & 0 & rep1 & M15 & A1 & OD0.5\\\\\n",
       "\trep1\\_AAACATCG\\_CGAACTTA\\_ACTCGTAA & 0.000000 & 0 & rep1 & M15 & A1 & OD0.5\\\\\n",
       "\trep1\\_AAACATCG\\_CGCATACA\\_ACTCGTAA & 0.166667 & 1 & rep1 & M15 & A1 & OD0.5\\\\\n",
       "\trep1\\_AAACATCG\\_CTCAATGA\\_ACTCGTAA & 0.000000 & 0 & rep1 & M15 & A1 & OD0.5\\\\\n",
       "\trep1\\_AAACATCG\\_GAACAGGC\\_ACTCGTAA & 0.000000 & 0 & rep1 & M15 & A1 & OD0.5\\\\\n",
       "\trep1\\_AAACATCG\\_GAGCTGAA\\_ACTCGTAA & 0.000000 & 0 & rep1 & M15 & A1 & OD0.5\\\\\n",
       "\trep1\\_AAACATCG\\_GTACGCAA\\_ACTCGTAA & 0.000000 & 0 & rep1 & M15 & A1 & OD0.5\\\\\n",
       "\trep1\\_AAACATCG\\_GTCTGTCA\\_ACTCGTAA & 0.000000 & 0 & rep1 & M15 & A1 & OD0.5\\\\\n",
       "\trep1\\_AAACATCG\\_GTGTTCTA\\_ACTCGTAA & 0.000000 & 0 & rep1 & M15 & A1 & OD0.5\\\\\n",
       "\trep1\\_AAACATCG\\_TAGGATGA\\_ACTCGTAA & 0.000000 & 0 & rep1 & M15 & A1 & OD0.5\\\\\n",
       "\trep1\\_AAACATCG\\_TATCAGCA\\_ACTCGTAA & 2.000000 & 1 & rep1 & M15 & A1 & OD0.5\\\\\n",
       "\trep1\\_AAACATCG\\_TCTTCACA\\_ACTCGTAA & 2.999999 & 5 & rep1 & M15 & A1 & OD0.5\\\\\n",
       "\trep1\\_AAACATCG\\_TGGAACAA\\_ACTCGTAA & 0.000000 & 0 & rep1 & M15 & A1 & OD0.5\\\\\n",
       "\trep1\\_AACAACCA\\_AACAACCA\\_ACTCGTAA & 5.916666 & 9 & rep1 & M15 & A1 & OD0.5\\\\\n",
       "\trep1\\_AACAACCA\\_AACCGAGA\\_ACTCGTAA & 0.500000 & 1 & rep1 & M15 & A1 & OD0.5\\\\\n",
       "\trep1\\_AACAACCA\\_AACGCTTA\\_ACTCGTAA & 2.000000 & 2 & rep1 & M15 & A1 & OD0.5\\\\\n",
       "\t⋮ & ⋮ & ⋮ & ⋮ & ⋮ & ⋮ & ⋮\\\\\n",
       "\trep2\\_TTCACGCA\\_CTGGCATA\\_CTGAAAGG &  5.666663 & 13 & rep2 & M14 & D12 & OD3.2\\\\\n",
       "\trep2\\_TTCACGCA\\_CTGTAGCC\\_CTGAAAGG & 41.974240 & 38 & rep2 & M14 & D12 & OD3.2\\\\\n",
       "\trep2\\_TTCACGCA\\_GAACAGGC\\_CTGAAAGG &  2.000000 &  3 & rep2 & M14 & D12 & OD3.2\\\\\n",
       "\trep2\\_TTCACGCA\\_GAATCTGA\\_CTGAAAGG &  2.000000 &  3 & rep2 & M14 & D12 & OD3.2\\\\\n",
       "\trep2\\_TTCACGCA\\_GACAGTGC\\_CTGAAAGG &  6.333334 &  8 & rep2 & M14 & D12 & OD3.2\\\\\n",
       "\trep2\\_TTCACGCA\\_GACTAGTA\\_CTGAAAGG &  4.249999 & 12 & rep2 & M14 & D12 & OD3.2\\\\\n",
       "\trep2\\_TTCACGCA\\_GAGCTGAA\\_CTGAAAGG &  4.015151 & 10 & rep2 & M14 & D12 & OD3.2\\\\\n",
       "\trep2\\_TTCACGCA\\_GAGTTAGC\\_CTGAAAGG &  3.416668 & 10 & rep2 & M14 & D12 & OD3.2\\\\\n",
       "\trep2\\_TTCACGCA\\_GATAGACA\\_CTGAAAGG &  3.300000 &  7 & rep2 & M14 & D12 & OD3.2\\\\\n",
       "\trep2\\_TTCACGCA\\_GATGAATC\\_CTGAAAGG &  2.000000 &  2 & rep2 & M14 & D12 & OD3.2\\\\\n",
       "\trep2\\_TTCACGCA\\_GCCAAGAC\\_CTGAAAGG &  5.000000 &  7 & rep2 & M14 & D12 & OD3.2\\\\\n",
       "\trep2\\_TTCACGCA\\_GCCACATA\\_CTGAAAGG &  4.999997 & 14 & rep2 & M14 & D12 & OD3.2\\\\\n",
       "\trep2\\_TTCACGCA\\_GCGAGTAA\\_CTGAAAGG &  6.666664 & 15 & rep2 & M14 & D12 & OD3.2\\\\\n",
       "\trep2\\_TTCACGCA\\_GCTAACGA\\_CTGAAAGG &  3.499999 &  9 & rep2 & M14 & D12 & OD3.2\\\\\n",
       "\trep2\\_TTCACGCA\\_GCTCGGTA\\_CTGAAAGG &  5.999999 & 12 & rep2 & M14 & D12 & OD3.2\\\\\n",
       "\trep2\\_TTCACGCA\\_GGAGAACA\\_CTGAAAGG &  0.000000 &  0 & rep2 & M14 & D12 & OD3.2\\\\\n",
       "\trep2\\_TTCACGCA\\_GGTGCGAA\\_CTGAAAGG &  0.000000 &  0 & rep2 & M14 & D12 & OD3.2\\\\\n",
       "\trep2\\_TTCACGCA\\_GTACGCAA\\_CTGAAAGG &  2.611107 &  5 & rep2 & M14 & D12 & OD3.2\\\\\n",
       "\trep2\\_TTCACGCA\\_GTCGTAGA\\_CTGAAAGG &  7.166666 & 15 & rep2 & M14 & D12 & OD3.2\\\\\n",
       "\trep2\\_TTCACGCA\\_GTCTGTCA\\_CTGAAAGG &  3.000001 & 13 & rep2 & M14 & D12 & OD3.2\\\\\n",
       "\trep2\\_TTCACGCA\\_GTGTTCTA\\_CTGAAAGG &  1.166666 &  3 & rep2 & M14 & D12 & OD3.2\\\\\n",
       "\trep2\\_TTCACGCA\\_TAGGATGA\\_CTGAAAGG &  2.000000 &  2 & rep2 & M14 & D12 & OD3.2\\\\\n",
       "\trep2\\_TTCACGCA\\_TATCAGCA\\_CTGAAAGG & 10.711107 & 24 & rep2 & M14 & D12 & OD3.2\\\\\n",
       "\trep2\\_TTCACGCA\\_TCCGTCTA\\_CTGAAAGG &  5.000000 &  7 & rep2 & M14 & D12 & OD3.2\\\\\n",
       "\trep2\\_TTCACGCA\\_TCTTCACA\\_CTGAAAGG &  7.777776 & 14 & rep2 & M14 & D12 & OD3.2\\\\\n",
       "\trep2\\_TTCACGCA\\_TGAAGAGA\\_CTGAAAGG &  8.333331 & 20 & rep2 & M14 & D12 & OD3.2\\\\\n",
       "\trep2\\_TTCACGCA\\_TGGAACAA\\_CTGAAAGG &  6.416665 & 16 & rep2 & M14 & D12 & OD3.2\\\\\n",
       "\trep2\\_TTCACGCA\\_TGGCTTCA\\_CTGAAAGG &  3.000000 &  5 & rep2 & M14 & D12 & OD3.2\\\\\n",
       "\trep2\\_TTCACGCA\\_TGGTGGTA\\_CTGAAAGG & 89.234580 & 90 & rep2 & M14 & D12 & OD3.2\\\\\n",
       "\trep2\\_TTCACGCA\\_TTCACGCA\\_CTGAAAGG &  6.499999 & 16 & rep2 & M14 & D12 & OD3.2\\\\\n",
       "\\end{tabular}\n"
      ],
      "text/markdown": [
       "\n",
       "A data.frame: 730249 × 6\n",
       "\n",
       "| <!--/--> | nCount_RNA &lt;dbl&gt; | nFeature_RNA &lt;int&gt; | rep &lt;chr&gt; | sublibrary &lt;chr&gt; | well &lt;chr&gt; | cond &lt;chr&gt; |\n",
       "|---|---|---|---|---|---|---|\n",
       "| rep1_AAACATCG_AACCGAGA_ACTCGTAA | 0.000000 | 0 | rep1 | M15 | A1 | OD0.5 |\n",
       "| rep1_AAACATCG_AACGCTTA_ACTCGTAA | 0.000000 | 0 | rep1 | M15 | A1 | OD0.5 |\n",
       "| rep1_AAACATCG_AACTCACC_ACTCGTAA | 0.000000 | 0 | rep1 | M15 | A1 | OD0.5 |\n",
       "| rep1_AAACATCG_AATCCGTC_ACTCGTAA | 0.000000 | 0 | rep1 | M15 | A1 | OD0.5 |\n",
       "| rep1_AAACATCG_ACAGATTC_ACTCGTAA | 0.000000 | 0 | rep1 | M15 | A1 | OD0.5 |\n",
       "| rep1_AAACATCG_AGCACCTC_ACTCGTAA | 0.000000 | 0 | rep1 | M15 | A1 | OD0.5 |\n",
       "| rep1_AAACATCG_AGCAGGAA_ACTCGTAA | 0.000000 | 0 | rep1 | M15 | A1 | OD0.5 |\n",
       "| rep1_AAACATCG_AGCCATGC_ACTCGTAA | 0.000000 | 0 | rep1 | M15 | A1 | OD0.5 |\n",
       "| rep1_AAACATCG_AGGCTAAC_ACTCGTAA | 0.000000 | 0 | rep1 | M15 | A1 | OD0.5 |\n",
       "| rep1_AAACATCG_AGTCACTA_ACTCGTAA | 0.000000 | 0 | rep1 | M15 | A1 | OD0.5 |\n",
       "| rep1_AAACATCG_AGTGGTCA_ACTCGTAA | 0.000000 | 0 | rep1 | M15 | A1 | OD0.5 |\n",
       "| rep1_AAACATCG_ATCATTCC_ACTCGTAA | 0.000000 | 0 | rep1 | M15 | A1 | OD0.5 |\n",
       "| rep1_AAACATCG_CAGCGTTA_ACTCGTAA | 0.000000 | 0 | rep1 | M15 | A1 | OD0.5 |\n",
       "| rep1_AAACATCG_CCATCCTC_ACTCGTAA | 0.111111 | 1 | rep1 | M15 | A1 | OD0.5 |\n",
       "| rep1_AAACATCG_CCTCTATC_ACTCGTAA | 0.000000 | 0 | rep1 | M15 | A1 | OD0.5 |\n",
       "| rep1_AAACATCG_CGAACTTA_ACTCGTAA | 0.000000 | 0 | rep1 | M15 | A1 | OD0.5 |\n",
       "| rep1_AAACATCG_CGCATACA_ACTCGTAA | 0.166667 | 1 | rep1 | M15 | A1 | OD0.5 |\n",
       "| rep1_AAACATCG_CTCAATGA_ACTCGTAA | 0.000000 | 0 | rep1 | M15 | A1 | OD0.5 |\n",
       "| rep1_AAACATCG_GAACAGGC_ACTCGTAA | 0.000000 | 0 | rep1 | M15 | A1 | OD0.5 |\n",
       "| rep1_AAACATCG_GAGCTGAA_ACTCGTAA | 0.000000 | 0 | rep1 | M15 | A1 | OD0.5 |\n",
       "| rep1_AAACATCG_GTACGCAA_ACTCGTAA | 0.000000 | 0 | rep1 | M15 | A1 | OD0.5 |\n",
       "| rep1_AAACATCG_GTCTGTCA_ACTCGTAA | 0.000000 | 0 | rep1 | M15 | A1 | OD0.5 |\n",
       "| rep1_AAACATCG_GTGTTCTA_ACTCGTAA | 0.000000 | 0 | rep1 | M15 | A1 | OD0.5 |\n",
       "| rep1_AAACATCG_TAGGATGA_ACTCGTAA | 0.000000 | 0 | rep1 | M15 | A1 | OD0.5 |\n",
       "| rep1_AAACATCG_TATCAGCA_ACTCGTAA | 2.000000 | 1 | rep1 | M15 | A1 | OD0.5 |\n",
       "| rep1_AAACATCG_TCTTCACA_ACTCGTAA | 2.999999 | 5 | rep1 | M15 | A1 | OD0.5 |\n",
       "| rep1_AAACATCG_TGGAACAA_ACTCGTAA | 0.000000 | 0 | rep1 | M15 | A1 | OD0.5 |\n",
       "| rep1_AACAACCA_AACAACCA_ACTCGTAA | 5.916666 | 9 | rep1 | M15 | A1 | OD0.5 |\n",
       "| rep1_AACAACCA_AACCGAGA_ACTCGTAA | 0.500000 | 1 | rep1 | M15 | A1 | OD0.5 |\n",
       "| rep1_AACAACCA_AACGCTTA_ACTCGTAA | 2.000000 | 2 | rep1 | M15 | A1 | OD0.5 |\n",
       "| ⋮ | ⋮ | ⋮ | ⋮ | ⋮ | ⋮ | ⋮ |\n",
       "| rep2_TTCACGCA_CTGGCATA_CTGAAAGG |  5.666663 | 13 | rep2 | M14 | D12 | OD3.2 |\n",
       "| rep2_TTCACGCA_CTGTAGCC_CTGAAAGG | 41.974240 | 38 | rep2 | M14 | D12 | OD3.2 |\n",
       "| rep2_TTCACGCA_GAACAGGC_CTGAAAGG |  2.000000 |  3 | rep2 | M14 | D12 | OD3.2 |\n",
       "| rep2_TTCACGCA_GAATCTGA_CTGAAAGG |  2.000000 |  3 | rep2 | M14 | D12 | OD3.2 |\n",
       "| rep2_TTCACGCA_GACAGTGC_CTGAAAGG |  6.333334 |  8 | rep2 | M14 | D12 | OD3.2 |\n",
       "| rep2_TTCACGCA_GACTAGTA_CTGAAAGG |  4.249999 | 12 | rep2 | M14 | D12 | OD3.2 |\n",
       "| rep2_TTCACGCA_GAGCTGAA_CTGAAAGG |  4.015151 | 10 | rep2 | M14 | D12 | OD3.2 |\n",
       "| rep2_TTCACGCA_GAGTTAGC_CTGAAAGG |  3.416668 | 10 | rep2 | M14 | D12 | OD3.2 |\n",
       "| rep2_TTCACGCA_GATAGACA_CTGAAAGG |  3.300000 |  7 | rep2 | M14 | D12 | OD3.2 |\n",
       "| rep2_TTCACGCA_GATGAATC_CTGAAAGG |  2.000000 |  2 | rep2 | M14 | D12 | OD3.2 |\n",
       "| rep2_TTCACGCA_GCCAAGAC_CTGAAAGG |  5.000000 |  7 | rep2 | M14 | D12 | OD3.2 |\n",
       "| rep2_TTCACGCA_GCCACATA_CTGAAAGG |  4.999997 | 14 | rep2 | M14 | D12 | OD3.2 |\n",
       "| rep2_TTCACGCA_GCGAGTAA_CTGAAAGG |  6.666664 | 15 | rep2 | M14 | D12 | OD3.2 |\n",
       "| rep2_TTCACGCA_GCTAACGA_CTGAAAGG |  3.499999 |  9 | rep2 | M14 | D12 | OD3.2 |\n",
       "| rep2_TTCACGCA_GCTCGGTA_CTGAAAGG |  5.999999 | 12 | rep2 | M14 | D12 | OD3.2 |\n",
       "| rep2_TTCACGCA_GGAGAACA_CTGAAAGG |  0.000000 |  0 | rep2 | M14 | D12 | OD3.2 |\n",
       "| rep2_TTCACGCA_GGTGCGAA_CTGAAAGG |  0.000000 |  0 | rep2 | M14 | D12 | OD3.2 |\n",
       "| rep2_TTCACGCA_GTACGCAA_CTGAAAGG |  2.611107 |  5 | rep2 | M14 | D12 | OD3.2 |\n",
       "| rep2_TTCACGCA_GTCGTAGA_CTGAAAGG |  7.166666 | 15 | rep2 | M14 | D12 | OD3.2 |\n",
       "| rep2_TTCACGCA_GTCTGTCA_CTGAAAGG |  3.000001 | 13 | rep2 | M14 | D12 | OD3.2 |\n",
       "| rep2_TTCACGCA_GTGTTCTA_CTGAAAGG |  1.166666 |  3 | rep2 | M14 | D12 | OD3.2 |\n",
       "| rep2_TTCACGCA_TAGGATGA_CTGAAAGG |  2.000000 |  2 | rep2 | M14 | D12 | OD3.2 |\n",
       "| rep2_TTCACGCA_TATCAGCA_CTGAAAGG | 10.711107 | 24 | rep2 | M14 | D12 | OD3.2 |\n",
       "| rep2_TTCACGCA_TCCGTCTA_CTGAAAGG |  5.000000 |  7 | rep2 | M14 | D12 | OD3.2 |\n",
       "| rep2_TTCACGCA_TCTTCACA_CTGAAAGG |  7.777776 | 14 | rep2 | M14 | D12 | OD3.2 |\n",
       "| rep2_TTCACGCA_TGAAGAGA_CTGAAAGG |  8.333331 | 20 | rep2 | M14 | D12 | OD3.2 |\n",
       "| rep2_TTCACGCA_TGGAACAA_CTGAAAGG |  6.416665 | 16 | rep2 | M14 | D12 | OD3.2 |\n",
       "| rep2_TTCACGCA_TGGCTTCA_CTGAAAGG |  3.000000 |  5 | rep2 | M14 | D12 | OD3.2 |\n",
       "| rep2_TTCACGCA_TGGTGGTA_CTGAAAGG | 89.234580 | 90 | rep2 | M14 | D12 | OD3.2 |\n",
       "| rep2_TTCACGCA_TTCACGCA_CTGAAAGG |  6.499999 | 16 | rep2 | M14 | D12 | OD3.2 |\n",
       "\n"
      ],
      "text/plain": [
       "                                nCount_RNA nFeature_RNA rep  sublibrary well\n",
       "rep1_AAACATCG_AACCGAGA_ACTCGTAA 0.000000   0            rep1 M15        A1  \n",
       "rep1_AAACATCG_AACGCTTA_ACTCGTAA 0.000000   0            rep1 M15        A1  \n",
       "rep1_AAACATCG_AACTCACC_ACTCGTAA 0.000000   0            rep1 M15        A1  \n",
       "rep1_AAACATCG_AATCCGTC_ACTCGTAA 0.000000   0            rep1 M15        A1  \n",
       "rep1_AAACATCG_ACAGATTC_ACTCGTAA 0.000000   0            rep1 M15        A1  \n",
       "rep1_AAACATCG_AGCACCTC_ACTCGTAA 0.000000   0            rep1 M15        A1  \n",
       "rep1_AAACATCG_AGCAGGAA_ACTCGTAA 0.000000   0            rep1 M15        A1  \n",
       "rep1_AAACATCG_AGCCATGC_ACTCGTAA 0.000000   0            rep1 M15        A1  \n",
       "rep1_AAACATCG_AGGCTAAC_ACTCGTAA 0.000000   0            rep1 M15        A1  \n",
       "rep1_AAACATCG_AGTCACTA_ACTCGTAA 0.000000   0            rep1 M15        A1  \n",
       "rep1_AAACATCG_AGTGGTCA_ACTCGTAA 0.000000   0            rep1 M15        A1  \n",
       "rep1_AAACATCG_ATCATTCC_ACTCGTAA 0.000000   0            rep1 M15        A1  \n",
       "rep1_AAACATCG_CAGCGTTA_ACTCGTAA 0.000000   0            rep1 M15        A1  \n",
       "rep1_AAACATCG_CCATCCTC_ACTCGTAA 0.111111   1            rep1 M15        A1  \n",
       "rep1_AAACATCG_CCTCTATC_ACTCGTAA 0.000000   0            rep1 M15        A1  \n",
       "rep1_AAACATCG_CGAACTTA_ACTCGTAA 0.000000   0            rep1 M15        A1  \n",
       "rep1_AAACATCG_CGCATACA_ACTCGTAA 0.166667   1            rep1 M15        A1  \n",
       "rep1_AAACATCG_CTCAATGA_ACTCGTAA 0.000000   0            rep1 M15        A1  \n",
       "rep1_AAACATCG_GAACAGGC_ACTCGTAA 0.000000   0            rep1 M15        A1  \n",
       "rep1_AAACATCG_GAGCTGAA_ACTCGTAA 0.000000   0            rep1 M15        A1  \n",
       "rep1_AAACATCG_GTACGCAA_ACTCGTAA 0.000000   0            rep1 M15        A1  \n",
       "rep1_AAACATCG_GTCTGTCA_ACTCGTAA 0.000000   0            rep1 M15        A1  \n",
       "rep1_AAACATCG_GTGTTCTA_ACTCGTAA 0.000000   0            rep1 M15        A1  \n",
       "rep1_AAACATCG_TAGGATGA_ACTCGTAA 0.000000   0            rep1 M15        A1  \n",
       "rep1_AAACATCG_TATCAGCA_ACTCGTAA 2.000000   1            rep1 M15        A1  \n",
       "rep1_AAACATCG_TCTTCACA_ACTCGTAA 2.999999   5            rep1 M15        A1  \n",
       "rep1_AAACATCG_TGGAACAA_ACTCGTAA 0.000000   0            rep1 M15        A1  \n",
       "rep1_AACAACCA_AACAACCA_ACTCGTAA 5.916666   9            rep1 M15        A1  \n",
       "rep1_AACAACCA_AACCGAGA_ACTCGTAA 0.500000   1            rep1 M15        A1  \n",
       "rep1_AACAACCA_AACGCTTA_ACTCGTAA 2.000000   2            rep1 M15        A1  \n",
       "⋮                               ⋮          ⋮            ⋮    ⋮          ⋮   \n",
       "rep2_TTCACGCA_CTGGCATA_CTGAAAGG  5.666663  13           rep2 M14        D12 \n",
       "rep2_TTCACGCA_CTGTAGCC_CTGAAAGG 41.974240  38           rep2 M14        D12 \n",
       "rep2_TTCACGCA_GAACAGGC_CTGAAAGG  2.000000   3           rep2 M14        D12 \n",
       "rep2_TTCACGCA_GAATCTGA_CTGAAAGG  2.000000   3           rep2 M14        D12 \n",
       "rep2_TTCACGCA_GACAGTGC_CTGAAAGG  6.333334   8           rep2 M14        D12 \n",
       "rep2_TTCACGCA_GACTAGTA_CTGAAAGG  4.249999  12           rep2 M14        D12 \n",
       "rep2_TTCACGCA_GAGCTGAA_CTGAAAGG  4.015151  10           rep2 M14        D12 \n",
       "rep2_TTCACGCA_GAGTTAGC_CTGAAAGG  3.416668  10           rep2 M14        D12 \n",
       "rep2_TTCACGCA_GATAGACA_CTGAAAGG  3.300000   7           rep2 M14        D12 \n",
       "rep2_TTCACGCA_GATGAATC_CTGAAAGG  2.000000   2           rep2 M14        D12 \n",
       "rep2_TTCACGCA_GCCAAGAC_CTGAAAGG  5.000000   7           rep2 M14        D12 \n",
       "rep2_TTCACGCA_GCCACATA_CTGAAAGG  4.999997  14           rep2 M14        D12 \n",
       "rep2_TTCACGCA_GCGAGTAA_CTGAAAGG  6.666664  15           rep2 M14        D12 \n",
       "rep2_TTCACGCA_GCTAACGA_CTGAAAGG  3.499999   9           rep2 M14        D12 \n",
       "rep2_TTCACGCA_GCTCGGTA_CTGAAAGG  5.999999  12           rep2 M14        D12 \n",
       "rep2_TTCACGCA_GGAGAACA_CTGAAAGG  0.000000   0           rep2 M14        D12 \n",
       "rep2_TTCACGCA_GGTGCGAA_CTGAAAGG  0.000000   0           rep2 M14        D12 \n",
       "rep2_TTCACGCA_GTACGCAA_CTGAAAGG  2.611107   5           rep2 M14        D12 \n",
       "rep2_TTCACGCA_GTCGTAGA_CTGAAAGG  7.166666  15           rep2 M14        D12 \n",
       "rep2_TTCACGCA_GTCTGTCA_CTGAAAGG  3.000001  13           rep2 M14        D12 \n",
       "rep2_TTCACGCA_GTGTTCTA_CTGAAAGG  1.166666   3           rep2 M14        D12 \n",
       "rep2_TTCACGCA_TAGGATGA_CTGAAAGG  2.000000   2           rep2 M14        D12 \n",
       "rep2_TTCACGCA_TATCAGCA_CTGAAAGG 10.711107  24           rep2 M14        D12 \n",
       "rep2_TTCACGCA_TCCGTCTA_CTGAAAGG  5.000000   7           rep2 M14        D12 \n",
       "rep2_TTCACGCA_TCTTCACA_CTGAAAGG  7.777776  14           rep2 M14        D12 \n",
       "rep2_TTCACGCA_TGAAGAGA_CTGAAAGG  8.333331  20           rep2 M14        D12 \n",
       "rep2_TTCACGCA_TGGAACAA_CTGAAAGG  6.416665  16           rep2 M14        D12 \n",
       "rep2_TTCACGCA_TGGCTTCA_CTGAAAGG  3.000000   5           rep2 M14        D12 \n",
       "rep2_TTCACGCA_TGGTGGTA_CTGAAAGG 89.234580  90           rep2 M14        D12 \n",
       "rep2_TTCACGCA_TTCACGCA_CTGAAAGG  6.499999  16           rep2 M14        D12 \n",
       "                                cond \n",
       "rep1_AAACATCG_AACCGAGA_ACTCGTAA OD0.5\n",
       "rep1_AAACATCG_AACGCTTA_ACTCGTAA OD0.5\n",
       "rep1_AAACATCG_AACTCACC_ACTCGTAA OD0.5\n",
       "rep1_AAACATCG_AATCCGTC_ACTCGTAA OD0.5\n",
       "rep1_AAACATCG_ACAGATTC_ACTCGTAA OD0.5\n",
       "rep1_AAACATCG_AGCACCTC_ACTCGTAA OD0.5\n",
       "rep1_AAACATCG_AGCAGGAA_ACTCGTAA OD0.5\n",
       "rep1_AAACATCG_AGCCATGC_ACTCGTAA OD0.5\n",
       "rep1_AAACATCG_AGGCTAAC_ACTCGTAA OD0.5\n",
       "rep1_AAACATCG_AGTCACTA_ACTCGTAA OD0.5\n",
       "rep1_AAACATCG_AGTGGTCA_ACTCGTAA OD0.5\n",
       "rep1_AAACATCG_ATCATTCC_ACTCGTAA OD0.5\n",
       "rep1_AAACATCG_CAGCGTTA_ACTCGTAA OD0.5\n",
       "rep1_AAACATCG_CCATCCTC_ACTCGTAA OD0.5\n",
       "rep1_AAACATCG_CCTCTATC_ACTCGTAA OD0.5\n",
       "rep1_AAACATCG_CGAACTTA_ACTCGTAA OD0.5\n",
       "rep1_AAACATCG_CGCATACA_ACTCGTAA OD0.5\n",
       "rep1_AAACATCG_CTCAATGA_ACTCGTAA OD0.5\n",
       "rep1_AAACATCG_GAACAGGC_ACTCGTAA OD0.5\n",
       "rep1_AAACATCG_GAGCTGAA_ACTCGTAA OD0.5\n",
       "rep1_AAACATCG_GTACGCAA_ACTCGTAA OD0.5\n",
       "rep1_AAACATCG_GTCTGTCA_ACTCGTAA OD0.5\n",
       "rep1_AAACATCG_GTGTTCTA_ACTCGTAA OD0.5\n",
       "rep1_AAACATCG_TAGGATGA_ACTCGTAA OD0.5\n",
       "rep1_AAACATCG_TATCAGCA_ACTCGTAA OD0.5\n",
       "rep1_AAACATCG_TCTTCACA_ACTCGTAA OD0.5\n",
       "rep1_AAACATCG_TGGAACAA_ACTCGTAA OD0.5\n",
       "rep1_AACAACCA_AACAACCA_ACTCGTAA OD0.5\n",
       "rep1_AACAACCA_AACCGAGA_ACTCGTAA OD0.5\n",
       "rep1_AACAACCA_AACGCTTA_ACTCGTAA OD0.5\n",
       "⋮                               ⋮    \n",
       "rep2_TTCACGCA_CTGGCATA_CTGAAAGG OD3.2\n",
       "rep2_TTCACGCA_CTGTAGCC_CTGAAAGG OD3.2\n",
       "rep2_TTCACGCA_GAACAGGC_CTGAAAGG OD3.2\n",
       "rep2_TTCACGCA_GAATCTGA_CTGAAAGG OD3.2\n",
       "rep2_TTCACGCA_GACAGTGC_CTGAAAGG OD3.2\n",
       "rep2_TTCACGCA_GACTAGTA_CTGAAAGG OD3.2\n",
       "rep2_TTCACGCA_GAGCTGAA_CTGAAAGG OD3.2\n",
       "rep2_TTCACGCA_GAGTTAGC_CTGAAAGG OD3.2\n",
       "rep2_TTCACGCA_GATAGACA_CTGAAAGG OD3.2\n",
       "rep2_TTCACGCA_GATGAATC_CTGAAAGG OD3.2\n",
       "rep2_TTCACGCA_GCCAAGAC_CTGAAAGG OD3.2\n",
       "rep2_TTCACGCA_GCCACATA_CTGAAAGG OD3.2\n",
       "rep2_TTCACGCA_GCGAGTAA_CTGAAAGG OD3.2\n",
       "rep2_TTCACGCA_GCTAACGA_CTGAAAGG OD3.2\n",
       "rep2_TTCACGCA_GCTCGGTA_CTGAAAGG OD3.2\n",
       "rep2_TTCACGCA_GGAGAACA_CTGAAAGG OD3.2\n",
       "rep2_TTCACGCA_GGTGCGAA_CTGAAAGG OD3.2\n",
       "rep2_TTCACGCA_GTACGCAA_CTGAAAGG OD3.2\n",
       "rep2_TTCACGCA_GTCGTAGA_CTGAAAGG OD3.2\n",
       "rep2_TTCACGCA_GTCTGTCA_CTGAAAGG OD3.2\n",
       "rep2_TTCACGCA_GTGTTCTA_CTGAAAGG OD3.2\n",
       "rep2_TTCACGCA_TAGGATGA_CTGAAAGG OD3.2\n",
       "rep2_TTCACGCA_TATCAGCA_CTGAAAGG OD3.2\n",
       "rep2_TTCACGCA_TCCGTCTA_CTGAAAGG OD3.2\n",
       "rep2_TTCACGCA_TCTTCACA_CTGAAAGG OD3.2\n",
       "rep2_TTCACGCA_TGAAGAGA_CTGAAAGG OD3.2\n",
       "rep2_TTCACGCA_TGGAACAA_CTGAAAGG OD3.2\n",
       "rep2_TTCACGCA_TGGCTTCA_CTGAAAGG OD3.2\n",
       "rep2_TTCACGCA_TGGTGGTA_CTGAAAGG OD3.2\n",
       "rep2_TTCACGCA_TTCACGCA_CTGAAAGG OD3.2"
      ]
     },
     "metadata": {},
     "output_type": "display_data"
    }
   ],
   "source": [
    "View(RNA_combined@meta.data)"
   ]
  },
  {
   "cell_type": "code",
   "execution_count": 14,
   "metadata": {
    "vscode": {
     "languageId": "r"
    }
   },
   "outputs": [
    {
     "data": {
      "text/plain": [
       "An object of class Seurat \n",
       "4422 features across 730249 samples within 1 assay \n",
       "Active assay: RNA (4422 features, 0 variable features)\n",
       " 1 layer present: counts"
      ]
     },
     "metadata": {},
     "output_type": "display_data"
    }
   ],
   "source": [
    "RNA_combined\n"
   ]
  },
  {
   "cell_type": "code",
   "execution_count": 15,
   "metadata": {
    "vscode": {
     "languageId": "r"
    }
   },
   "outputs": [
    {
     "name": "stdout",
     "output_type": "stream",
     "text": [
      "Formal class 'Seurat' [package \"SeuratObject\"] with 13 slots\n",
      "  ..@ assays      :List of 1\n",
      "  .. ..$ RNA:Formal class 'Assay5' [package \"SeuratObject\"] with 8 slots\n",
      "  .. .. .. ..@ layers    :List of 1\n",
      "  .. .. .. .. ..$ counts:Formal class 'dgCMatrix' [package \"Matrix\"] with 6 slots\n",
      "  .. .. .. .. .. .. ..@ i       : int [1:13816718] 4110 70 2747 1635 1759 1838 2420 3003 161 675 ...\n",
      "  .. .. .. .. .. .. ..@ p       : int [1:730250] 0 0 0 0 0 0 0 0 0 0 ...\n",
      "  .. .. .. .. .. .. ..@ Dim     : int [1:2] 4422 730249\n",
      "  .. .. .. .. .. .. ..@ Dimnames:List of 2\n",
      "  .. .. .. .. .. .. .. ..$ : NULL\n",
      "  .. .. .. .. .. .. .. ..$ : NULL\n",
      "  .. .. .. .. .. .. ..@ x       : num [1:13816718] 0.111 0.167 2 0.333 0.333 ...\n",
      "  .. .. .. .. .. .. ..@ factors : list()\n",
      "  .. .. .. ..@ cells     :Formal class 'LogMap' [package \"SeuratObject\"] with 1 slot\n",
      "  .. .. .. .. .. ..@ .Data: logi [1:730249, 1] TRUE TRUE TRUE TRUE TRUE TRUE ...\n",
      "  .. .. .. .. .. .. ..- attr(*, \"dimnames\")=List of 2\n",
      "  .. .. .. .. .. .. .. ..$ : chr [1:730249] \"rep1_AAACATCG_AACCGAGA_ACTCGTAA\" \"rep1_AAACATCG_AACGCTTA_ACTCGTAA\" \"rep1_AAACATCG_AACTCACC_ACTCGTAA\" \"rep1_AAACATCG_AATCCGTC_ACTCGTAA\" ...\n",
      "  .. .. .. .. .. .. .. ..$ : chr \"counts\"\n",
      "  .. .. .. .. .. ..$ dim     : int [1:2] 730249 1\n",
      "  .. .. .. .. .. ..$ dimnames:List of 2\n",
      "  .. .. .. .. .. .. ..$ : chr [1:730249] \"rep1_AAACATCG_AACCGAGA_ACTCGTAA\" \"rep1_AAACATCG_AACGCTTA_ACTCGTAA\" \"rep1_AAACATCG_AACTCACC_ACTCGTAA\" \"rep1_AAACATCG_AATCCGTC_ACTCGTAA\" ...\n",
      "  .. .. .. .. .. .. ..$ : chr \"counts\"\n",
      "  .. .. .. ..@ features  :Formal class 'LogMap' [package \"SeuratObject\"] with 1 slot\n",
      "  .. .. .. .. .. ..@ .Data: logi [1:4422, 1] TRUE TRUE TRUE TRUE TRUE TRUE ...\n",
      "  .. .. .. .. .. .. ..- attr(*, \"dimnames\")=List of 2\n",
      "  .. .. .. .. .. .. .. ..$ : chr [1:4422] \"bs-dnaA\" \"bs-dnaN\" \"bs-rlbA\" \"bs-recF\" ...\n",
      "  .. .. .. .. .. .. .. ..$ : chr \"counts\"\n",
      "  .. .. .. .. .. ..$ dim     : int [1:2] 4422 1\n",
      "  .. .. .. .. .. ..$ dimnames:List of 2\n",
      "  .. .. .. .. .. .. ..$ : chr [1:4422] \"bs-dnaA\" \"bs-dnaN\" \"bs-rlbA\" \"bs-recF\" ...\n",
      "  .. .. .. .. .. .. ..$ : chr \"counts\"\n",
      "  .. .. .. ..@ default   : int 1\n",
      "  .. .. .. ..@ assay.orig: chr(0) \n",
      "  .. .. .. ..@ meta.data :'data.frame':\t4422 obs. of  0 variables\n",
      "  .. .. .. ..@ misc      : list()\n",
      "  .. .. .. ..@ key       : chr \"rna_\"\n",
      "  ..@ meta.data   :'data.frame':\t730249 obs. of  6 variables:\n",
      "  .. ..$ nCount_RNA  : num [1:730249] 0 0 0 0 0 0 0 0 0 0 ...\n",
      "  .. ..$ nFeature_RNA: int [1:730249] 0 0 0 0 0 0 0 0 0 0 ...\n",
      "  .. ..$ rep         : chr [1:730249] \"rep1\" \"rep1\" \"rep1\" \"rep1\" ...\n",
      "  .. ..$ sublibrary  : chr [1:730249] \"M15\" \"M15\" \"M15\" \"M15\" ...\n",
      "  .. ..$ well        : chr [1:730249] \"A1\" \"A1\" \"A1\" \"A1\" ...\n",
      "  .. ..$ cond        : chr [1:730249] \"OD0.5\" \"OD0.5\" \"OD0.5\" \"OD0.5\" ...\n",
      "  ..@ active.assay: chr \"RNA\"\n",
      "  ..@ active.ident: Factor w/ 96 levels \"AAACATCG\",\"AACAACCA\",..: 1 1 1 1 1 1 1 1 1 1 ...\n",
      "  .. ..- attr(*, \"names\")= chr [1:730249] \"rep1_AAACATCG_AACCGAGA_ACTCGTAA\" \"rep1_AAACATCG_AACGCTTA_ACTCGTAA\" \"rep1_AAACATCG_AACTCACC_ACTCGTAA\" \"rep1_AAACATCG_AATCCGTC_ACTCGTAA\" ...\n",
      "  ..@ graphs      : list()\n",
      "  ..@ neighbors   : list()\n",
      "  ..@ reductions  : list()\n",
      "  ..@ images      : list()\n",
      "  ..@ project.name: chr \"SeuratProject\"\n",
      "  ..@ misc        : list()\n",
      "  ..@ version     :Classes 'package_version', 'numeric_version'  hidden list of 1\n",
      "  .. ..$ : int [1:3] 5 0 2\n",
      "  ..@ commands    : list()\n",
      "  ..@ tools       : list()\n"
     ]
    }
   ],
   "source": [
    "str (RNA_combined)"
   ]
  },
  {
   "cell_type": "code",
   "execution_count": 16,
   "metadata": {
    "vscode": {
     "languageId": "r"
    }
   },
   "outputs": [],
   "source": [
    "# Chemin du fichier a sauvegarder\n",
    "file_path <- \"7_Article/results/tab_seurat_correct/RNA_combined_join.rds\"\n",
    "\n",
    "\n",
    "\n",
    "# Sauvegarder l'objet Seurat\n",
    "saveRDS(RNA_combined, file_path)\n"
   ]
  },
  {
   "cell_type": "code",
   "execution_count": 17,
   "metadata": {
    "vscode": {
     "languageId": "r"
    }
   },
   "outputs": [
    {
     "name": "stdout",
     "output_type": "stream",
     "text": [
      "✓ Fichier créé avec succès : 7_Article/results/tab_seurat_correct/RNA_combined_join.rds \n",
      "Taille du fichier : 48 MB\n",
      "Date de création : 2025-03-17 11:50:46 \n",
      "\n",
      "Informations sur l'objet Seurat :\n",
      "Nombre de cellules : 730249 \n",
      "Nombre de gènes : 4422 \n"
     ]
    }
   ],
   "source": [
    "\n",
    "# Vérifier si le fichier existe\n",
    "if (file.exists(file_path)) {\n",
    "    # Obtenir les informations sur le fichier\n",
    "    info_fichier <- file.info(file_path)\n",
    "    \n",
    "    # Charger l'objet Seurat\n",
    "    seurat_object_raw <- readRDS(file_path)\n",
    "    \n",
    "    # Afficher les informations du fichier\n",
    "    cat(\"✓ Fichier créé avec succès :\", file_path, \"\\n\")\n",
    "    cat(\"Taille du fichier :\", round(info_fichier$size/1024/1024, 2), \"MB\\n\")\n",
    "    cat(\"Date de création :\", format(info_fichier$mtime, \"%Y-%m-%d %H:%M:%S\"), \"\\n\")\n",
    "    \n",
    "    # Afficher les dimensions de l'objet Seurat\n",
    "    cat(\"\\nInformations sur l'objet Seurat :\\n\")\n",
    "    cat(\"Nombre de cellules :\", ncol(seurat_object_raw), \"\\n\")\n",
    "    cat(\"Nombre de gènes :\", nrow(seurat_object_raw), \"\\n\")\n",
    "} else {\n",
    "    cat(\"❌ Erreur : Le fichier n'a pas été créé.\\n\")\n",
    "}"
   ]
  }
 ],
 "metadata": {
  "kernelspec": {
   "display_name": "R",
   "language": "R",
   "name": "ir"
  },
  "language_info": {
   "codemirror_mode": "r",
   "file_extension": ".r",
   "mimetype": "text/x-r-source",
   "name": "R",
   "pygments_lexer": "r",
   "version": "4.4.1"
  }
 },
 "nbformat": 4,
 "nbformat_minor": 2
}
