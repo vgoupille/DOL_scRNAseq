{
 "cells": [
  {
   "cell_type": "code",
   "execution_count": null,
   "id": "ce99f00f",
   "metadata": {
    "vscode": {
     "languageId": "r"
    }
   },
   "outputs": [],
   "source": [
    "https://satijalab.org/seurat/archive/v2.4/conversion_vignette\n",
    "\n",
    "https://samuel-marsh.github.io/scCustomize/articles/Object_Conversion.html"
   ]
  },
  {
   "cell_type": "code",
   "execution_count": null,
   "id": "2",
   "metadata": {
    "vscode": {
     "languageId": "r"
    }
   },
   "outputs": [],
   "source": [
    "library(Seurat)\n",
    "library(scater)\n",
    "library(cowplot)"
   ]
  },
  {
   "cell_type": "code",
   "execution_count": null,
   "id": "8fa0848c",
   "metadata": {
    "vscode": {
     "languageId": "r"
    }
   },
   "outputs": [],
   "source": [
    "library(scater)"
   ]
  },
  {
   "cell_type": "code",
   "execution_count": null,
   "id": "3",
   "metadata": {
    "vscode": {
     "languageId": "r"
    }
   },
   "outputs": [],
   "source": [
    "seurat_object <- readRDS('7_Article/results/Seurat/Combined_M14_M15_mRNA_nofilter_DO.rds')\n",
    "\n"
   ]
  },
  {
   "cell_type": "code",
   "execution_count": null,
   "id": "5fe75b2a",
   "metadata": {
    "vscode": {
     "languageId": "r"
    }
   },
   "outputs": [],
   "source": [
    "Anndata_object <- Convert(from = seurat_object, to = \"anndata\", filename = \"7_Article/results/Seurat/Combined_M14_M15_mRNA_nofilter_DO.h5ad\")\n"
   ]
  },
  {
   "cell_type": "code",
   "execution_count": null,
   "id": "5",
   "metadata": {
    "vscode": {
     "languageId": "r"
    }
   },
   "outputs": [],
   "source": [
    "library(Seurat)\n",
    "#library(SeuratData)\n",
    "library(SeuratDisk)"
   ]
  },
  {
   "cell_type": "code",
   "execution_count": null,
   "id": "b3cdf90f",
   "metadata": {
    "vscode": {
     "languageId": "r"
    }
   },
   "outputs": [],
   "source": []
  },
  {
   "cell_type": "code",
   "execution_count": null,
   "id": "968958ff",
   "metadata": {
    "vscode": {
     "languageId": "r"
    }
   },
   "outputs": [],
   "source": [
    "SaveH5Seurat(seurat_object, filename = \"7_Article/results/Seurat/Combined_M14_M15_mRNA_nofilter_DO.h5Seurat\", overwrite = TRUE)"
   ]
  },
  {
   "cell_type": "code",
   "execution_count": null,
   "id": "fc54603a",
   "metadata": {
    "vscode": {
     "languageId": "r"
    }
   },
   "outputs": [],
   "source": [
    "# Convertir le fichier h5Seurat en h5ad\n",
    "Convert(\"7_Article/results/Seurat/Combined_M14_M15_mRNA_nofilter_DO.h5Seurat\", dest = \"h5ad\", overwrite = TRUE)"
   ]
  },
  {
   "cell_type": "code",
   "execution_count": null,
   "id": "8675a634",
   "metadata": {
    "vscode": {
     "languageId": "r"
    }
   },
   "outputs": [],
   "source": [
    "Convert(\"7_Article/results/Seurat/Combined_M14_M15_mRNA_nofilter_DO.h5Seurat\", \n",
    "        dest = \"h5ad\", assay = \"RNA\", overwrite = TRUE)"
   ]
  },
  {
   "cell_type": "code",
   "execution_count": 1,
   "id": "95217f54",
   "metadata": {
    "vscode": {
     "languageId": "r"
    }
   },
   "outputs": [
    {
     "name": "stderr",
     "output_type": "stream",
     "text": [
      "Registered S3 method overwritten by 'SeuratDisk':\n",
      "  method            from  \n",
      "  as.sparse.H5Group Seurat\n",
      "\n",
      "Creating h5Seurat file for version 3.1.5.9900\n",
      "\n",
      "Validating h5Seurat file\n",
      "\n",
      "Adding data from RNA as X\n",
      "\n"
     ]
    },
    {
     "ename": "ERROR",
     "evalue": "Error in assay.group$obj_copy_to(dst_loc = dfile, dst_name = \"X\", src_name = x.data): HDF5-API Errors:\n    error #000: ../../../src/H5Ocopy.c in H5Ocopy(): line 233: unable to copy object\n        class: HDF5\n        major: Object header\n        minor: Unable to copy object\n\n    error #001: ../../../src/H5Ocopy.c in H5O__copy(): line 286: source object not found\n        class: HDF5\n        major: Symbol table\n        minor: Object not found\n\n    error #002: ../../../src/H5Gloc.c in H5G_loc_find(): line 420: can't find object\n        class: HDF5\n        major: Symbol table\n        minor: Object not found\n\n    error #003: ../../../src/H5Gtraverse.c in H5G_traverse(): line 848: internal path traversal failed\n        class: HDF5\n        major: Symbol table\n        minor: Object not found\n\n    error #004: ../../../src/H5Gtraverse.c in H5G__traverse_real(): line 624: traversal operator failed\n        class: HDF5\n        major: Symbol table\n        minor: Callback failed\n\n    error #005: ../../../src/H5Gloc.c in H5G__loc_find_cb(): line 376: object 'data' doesn't exist\n       \n",
     "output_type": "error",
     "traceback": [
      "Error in assay.group$obj_copy_to(dst_loc = dfile, dst_name = \"X\", src_name = x.data): HDF5-API Errors:\n    error #000: ../../../src/H5Ocopy.c in H5Ocopy(): line 233: unable to copy object\n        class: HDF5\n        major: Object header\n        minor: Unable to copy object\n\n    error #001: ../../../src/H5Ocopy.c in H5O__copy(): line 286: source object not found\n        class: HDF5\n        major: Symbol table\n        minor: Object not found\n\n    error #002: ../../../src/H5Gloc.c in H5G_loc_find(): line 420: can't find object\n        class: HDF5\n        major: Symbol table\n        minor: Object not found\n\n    error #003: ../../../src/H5Gtraverse.c in H5G_traverse(): line 848: internal path traversal failed\n        class: HDF5\n        major: Symbol table\n        minor: Object not found\n\n    error #004: ../../../src/H5Gtraverse.c in H5G__traverse_real(): line 624: traversal operator failed\n        class: HDF5\n        major: Symbol table\n        minor: Callback failed\n\n    error #005: ../../../src/H5Gloc.c in H5G__loc_find_cb(): line 376: object 'data' doesn't exist\n       \nTraceback:\n",
      "1. Convert.character(\"temp.h5Seurat\", dest = \"h5ad\", outFile = \"7_Article/results/Seurat/Combined_M14_M15_mRNA_nofilter_DO.h5ad\")",
      "2. Convert(source = hfile, dest = dest, assay = assay, overwrite = overwrite, \n .     verbose = verbose, ...)",
      "3. Convert.h5Seurat(source = hfile, dest = dest, assay = assay, \n .     overwrite = overwrite, verbose = verbose, ...)",
      "4. H5SeuratToH5AD(source = source, dest = dest, assay = assay, overwrite = overwrite, \n .     verbose = verbose)",
      "5. assay.group$obj_copy_to(dst_loc = dfile, dst_name = \"X\", src_name = x.data)",
      "6. .handleSimpleError(function (cnd) \n . {\n .     watcher$capture_plot_and_output()\n .     cnd <- sanitize_call(cnd)\n .     watcher$push(cnd)\n .     switch(on_error, continue = invokeRestart(\"eval_continue\"), \n .         stop = invokeRestart(\"eval_stop\"), error = invokeRestart(\"eval_error\", \n .             cnd))\n . }, \"HDF5-API Errors:\\n    error #000: ../../../src/H5Ocopy.c in H5Ocopy(): line 233: unable to copy object\\n        class: HDF5\\n        major: Object header\\n        minor: Unable to copy object\\n\\n    error #001: ../../../src/H5Ocopy.c in H5O__copy(): line 286: source object not found\\n        class: HDF5\\n        major: Symbol table\\n        minor: Object not found\\n\\n    error #002: ../../../src/H5Gloc.c in H5G_loc_find(): line 420: can't find object\\n        class: HDF5\\n        major: Symbol table\\n        minor: Object not found\\n\\n    error #003: ../../../src/H5Gtraverse.c in H5G_traverse(): line 848: internal path traversal failed\\n        class: HDF5\\n        major: Symbol table\\n        minor: Object not found\\n\\n    error #004: ../../../src/H5Gtraverse.c in H5G__traverse_real(): line 624: traversal operator failed\\n        class: HDF5\\n        major: Symbol table\\n        minor: Callback failed\\n\\n    error #005: ../../../src/H5Gloc.c in H5G__loc_find_cb(): line 376: object 'data' doesn't exist\\n       \", \n .     base::quote(assay.group$obj_copy_to(dst_loc = dfile, dst_name = \"X\", \n .         src_name = x.data)))"
     ]
    }
   ],
   "source": [
    "# Utilisant SeuratDisk\n",
    "library(SeuratDisk)\n",
    "\n",
    "seurat_object <- readRDS('7_Article/results/Seurat/Combined_M14_M15_mRNA_nofilter_DO.rds')\n",
    "\n",
    "SaveH5Seurat(seurat_object, filename = \"temp.h5Seurat\")\n",
    "Convert(\"temp.h5Seurat\", dest = \"h5ad\", outFile = \"7_Article/results/Seurat/Combined_M14_M15_mRNA_nofilter_DO.h5ad\")"
   ]
  },
  {
   "cell_type": "code",
   "execution_count": null,
   "id": "8969ade9",
   "metadata": {
    "vscode": {
     "languageId": "r"
    }
   },
   "outputs": [
    {
     "name": "stderr",
     "output_type": "stream",
     "text": [
      "Registered S3 method overwritten by 'SeuratDisk':\n",
      "  method            from  \n",
      "  as.sparse.H5Group Seurat\n",
      "\n",
      "Creating h5Seurat file for version 3.1.5.9900\n",
      "\n",
      "Validating h5Seurat file\n",
      "\n",
      "Adding data from RNA as X\n",
      "\n"
     ]
    },
    {
     "ename": "ERROR",
     "evalue": "Error in assay.group$obj_copy_to(dst_loc = dfile, dst_name = \"X\", src_name = x.data): HDF5-API Errors:\n    error #000: ../../../src/H5Ocopy.c in H5Ocopy(): line 233: unable to copy object\n        class: HDF5\n        major: Object header\n        minor: Unable to copy object\n\n    error #001: ../../../src/H5Ocopy.c in H5O__copy(): line 286: source object not found\n        class: HDF5\n        major: Symbol table\n        minor: Object not found\n\n    error #002: ../../../src/H5Gloc.c in H5G_loc_find(): line 420: can't find object\n        class: HDF5\n        major: Symbol table\n        minor: Object not found\n\n    error #003: ../../../src/H5Gtraverse.c in H5G_traverse(): line 848: internal path traversal failed\n        class: HDF5\n        major: Symbol table\n        minor: Object not found\n\n    error #004: ../../../src/H5Gtraverse.c in H5G__traverse_real(): line 624: traversal operator failed\n        class: HDF5\n        major: Symbol table\n        minor: Callback failed\n\n    error #005: ../../../src/H5Gloc.c in H5G__loc_find_cb(): line 376: object 'data' doesn't exist\n       \n",
     "output_type": "error",
     "traceback": [
      "Error in assay.group$obj_copy_to(dst_loc = dfile, dst_name = \"X\", src_name = x.data): HDF5-API Errors:\n",
      "    error #000: ../../../src/H5Ocopy.c in H5Ocopy(): line 233: unable to copy object\n",
      "        class: HDF5\n",
      "        major: Object header\n",
      "        minor: Unable to copy object\n",
      "\n",
      "    error #001: ../../../src/H5Ocopy.c in H5O__copy(): line 286: source object not found\n",
      "        class: HDF5\n",
      "        major: Symbol table\n",
      "        minor: Object not found\n",
      "\n",
      "    error #002: ../../../src/H5Gloc.c in H5G_loc_find(): line 420: can't find object\n",
      "        class: HDF5\n",
      "        major: Symbol table\n",
      "        minor: Object not found\n",
      "\n",
      "    error #003: ../../../src/H5Gtraverse.c in H5G_traverse(): line 848: internal path traversal failed\n",
      "        class: HDF5\n",
      "        major: Symbol table\n",
      "        minor: Object not found\n",
      "\n",
      "    error #004: ../../../src/H5Gtraverse.c in H5G__traverse_real(): line 624: traversal operator failed\n",
      "        class: HDF5\n",
      "        major: Symbol table\n",
      "        minor: Callback failed\n",
      "\n",
      "    error #005: ../../../src/H5Gloc.c in H5G__loc_find_cb(): line 376: object 'data' doesn't exist\n",
      "       \n",
      "Traceback:\n",
      "\n",
      "1. Convert.character(\"temp.h5Seurat\", dest = \"h5ad\", outFile = \"7_Article/results/Seurat/Combined_M14_M15_mRNA_nofilter_DO.h5ad\")\n",
      "2. Convert(source = hfile, dest = dest, assay = assay, overwrite = overwrite, \n",
      " .     verbose = verbose, ...)\n",
      "3. Convert.h5Seurat(source = hfile, dest = dest, assay = assay, \n",
      " .     overwrite = overwrite, verbose = verbose, ...)\n",
      "4. H5SeuratToH5AD(source = source, dest = dest, assay = assay, overwrite = overwrite, \n",
      " .     verbose = verbose)\n",
      "5. assay.group$obj_copy_to(dst_loc = dfile, dst_name = \"X\", src_name = x.data)\n",
      "6. .handleSimpleError(function (cnd) \n",
      " . {\n",
      " .     watcher$capture_plot_and_output()\n",
      " .     cnd <- sanitize_call(cnd)\n",
      " .     watcher$push(cnd)\n",
      " .     switch(on_error, continue = invokeRestart(\"eval_continue\"), \n",
      " .         stop = invokeRestart(\"eval_stop\"), error = invokeRestart(\"eval_error\", \n",
      " .             cnd))\n",
      " . }, \"HDF5-API Errors:\\n    error #000: ../../../src/H5Ocopy.c in H5Ocopy(): line 233: unable to copy object\\n        class: HDF5\\n        major: Object header\\n        minor: Unable to copy object\\n\\n    error #001: ../../../src/H5Ocopy.c in H5O__copy(): line 286: source object not found\\n        class: HDF5\\n        major: Symbol table\\n        minor: Object not found\\n\\n    error #002: ../../../src/H5Gloc.c in H5G_loc_find(): line 420: can't find object\\n        class: HDF5\\n        major: Symbol table\\n        minor: Object not found\\n\\n    error #003: ../../../src/H5Gtraverse.c in H5G_traverse(): line 848: internal path traversal failed\\n        class: HDF5\\n        major: Symbol table\\n        minor: Object not found\\n\\n    error #004: ../../../src/H5Gtraverse.c in H5G__traverse_real(): line 624: traversal operator failed\\n        class: HDF5\\n        major: Symbol table\\n        minor: Callback failed\\n\\n    error #005: ../../../src/H5Gloc.c in H5G__loc_find_cb(): line 376: object 'data' doesn't exist\\n       \", \n",
      " .     base::quote(assay.group$obj_copy_to(dst_loc = dfile, dst_name = \"X\", \n",
      " .         src_name = x.data)))"
     ]
    }
   ],
   "source": [
    "# Utilisant SeuratDisk\n",
    "library(SeuratDisk)\n",
    "\n",
    "seurat_object <- readRDS('7_Article/results/Seurat/Combined_M14_M15_mRNA_nofilter_DO.rds')\n",
    "\n",
    "SaveH5Seurat(seurat_object, filename = \"temp.h5Seurat\")\n",
    "Convert(\"temp.h5Seurat\", dest = \"h5ad\", outFile = \"7_Article/results/Seurat/Combined_M14_M15_mRNA_nofilter_DO.h5ad\")"
   ]
  }
 ],
 "metadata": {
  "kernelspec": {
   "display_name": "R",
   "language": "R",
   "name": "ir"
  },
  "language_info": {
   "codemirror_mode": "r",
   "file_extension": ".r",
   "mimetype": "text/x-r-source",
   "name": "R",
   "pygments_lexer": "r",
   "version": "4.4.1"
  }
 },
 "nbformat": 4,
 "nbformat_minor": 5
}
