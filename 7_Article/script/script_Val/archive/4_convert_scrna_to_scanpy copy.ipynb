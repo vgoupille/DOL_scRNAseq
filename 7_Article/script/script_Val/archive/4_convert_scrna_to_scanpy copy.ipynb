{
 "cells": [
  {
   "cell_type": "code",
   "execution_count": null,
   "id": "ce99f00f",
   "metadata": {
    "vscode": {
     "languageId": "r"
    }
   },
   "outputs": [],
   "source": [
    "https://satijalab.org/seurat/archive/v2.4/conversion_vignette\n",
    "\n",
    "https://samuel-marsh.github.io/scCustomize/articles/Object_Conversion.html"
   ]
  },
  {
   "cell_type": "code",
   "execution_count": null,
   "id": "7eacd66a",
   "metadata": {
    "vscode": {
     "languageId": "r"
    }
   },
   "outputs": [],
   "source": [
    "seurat_object <- readRDS('7_Article/results/Seurat/Combined_M14_M15_mRNA_nofilter_DO.rds')"
   ]
  },
  {
   "cell_type": "code",
   "execution_count": 3,
   "id": "81726897",
   "metadata": {
    "vscode": {
     "languageId": "r"
    }
   },
   "outputs": [
    {
     "ename": "ERROR",
     "evalue": "Error: Failed to install 'unknown package' from GitHub:\n  HTTP error 404.\n  Not Found\n\n  Did you spell the repo owner (`mojaveazure`) and repo name (`scCustomize`) correctly?\n  - If spelling is correct, check that you have the required permissions to access the repo.\n",
     "output_type": "error",
     "traceback": [
      "Error: Failed to install 'unknown package' from GitHub:\n  HTTP error 404.\n  Not Found\n\n  Did you spell the repo owner (`mojaveazure`) and repo name (`scCustomize`) correctly?\n  - If spelling is correct, check that you have the required permissions to access the repo.\nTraceback:\n",
      "1. pkgbuild::with_build_tools({\n .     ellipsis::check_dots_used(action = getOption(\"devtools.ellipsis_action\", \n .         rlang::warn))\n .     {\n .         remotes <- lapply(repo, github_remote, ref = ref, subdir = subdir, \n .             auth_token = auth_token, host = host)\n .         install_remotes(remotes, auth_token = auth_token, host = host, \n .             dependencies = dependencies, upgrade = upgrade, force = force, \n .             quiet = quiet, build = build, build_opts = build_opts, \n .             build_manual = build_manual, build_vignettes = build_vignettes, \n .             repos = repos, type = type, ...)\n .     }\n . }, required = FALSE)",
      "2. install_remotes(remotes, auth_token = auth_token, host = host, \n .     dependencies = dependencies, upgrade = upgrade, force = force, \n .     quiet = quiet, build = build, build_opts = build_opts, build_manual = build_manual, \n .     build_vignettes = build_vignettes, repos = repos, type = type, \n .     ...)",
      "3. tryCatch(res[[i]] <- install_remote(remotes[[i]], ...), error = function(e) {\n .     stop(remote_install_error(remotes[[i]], e))\n . })",
      "4. tryCatchList(expr, classes, parentenv, handlers)",
      "5. tryCatchOne(expr, names, parentenv, handlers[[1L]])",
      "6. value[[3L]](cond)",
      "7. stop(remote_install_error(remotes[[i]], e))"
     ]
    }
   ],
   "source": [
    "# Installer scCustomize si ce n'est pas déjà fait\n",
    "devtools::install_github(\"mojaveazure/scCustomize\")"
   ]
  },
  {
   "cell_type": "code",
   "execution_count": null,
   "id": "3643fcfe",
   "metadata": {
    "vscode": {
     "languageId": "r"
    }
   },
   "outputs": [
    {
     "name": "stderr",
     "output_type": "stream",
     "text": [
      "Loading required package: SeuratObject\n",
      "\n",
      "Loading required package: sp\n",
      "\n",
      "\n",
      "Attaching package: ‘SeuratObject’\n",
      "\n",
      "\n",
      "The following objects are masked from ‘package:base’:\n",
      "\n",
      "    intersect, t\n",
      "\n",
      "\n",
      "Package `rliger` has been updated massively since version 1.99.0, including the object structure which is not compatible with old versions.\n",
      "\n",
      "We recommand you backup your old analysis before overwriting any existing result.\n",
      "\n",
      "`readLiger()` is provided for reading an RDS file storing an old object and it converts the object to the up-to-date structure.\n",
      "\n",
      "Package \"RcppPlanc\" is required for performing integrative factorizations but is not detected. It is currently not on CRAN, so please install it with `devtools::install_github('welch-lab/RcppPlanc')`\n",
      "\n"
     ]
    },
    {
     "ename": "ERROR",
     "evalue": "Error in library(scCustomize): there is no package called ‘scCustomize’\n",
     "output_type": "error",
     "traceback": [
      "Error in library(scCustomize): there is no package called ‘scCustomize’\nTraceback:\n",
      "1. stop(packageNotFoundError(package, lib.loc, sys.call()))"
     ]
    }
   ],
   "source": [
    "library(Seurat)\n",
    "library(scCustomize)\n"
   ]
  },
  {
   "cell_type": "raw",
   "id": "8d91b76a",
   "metadata": {
    "vscode": {
     "languageId": "raw"
    }
   },
   "source": [
    "# Normaliser et mettre à l'échelle les données si nécessaire\n",
    "seurat_object <- NormalizeData(seurat_object)\n",
    "seurat_object <- ScaleData(seurat_object)\n",
    "\n",
    "# Assurez-vous que l'assay principal est sélectionné\n",
    "DefaultAssay(seurat_object) <- \"RNA\"\n",
    "\n",
    "# Ajout d'informations nécessaires à AnnData, si non présentes\n",
    "seurat_object <- AddMetaData(seurat_object, metadata = your_metadata_here)"
   ]
  },
  {
   "cell_type": "code",
   "execution_count": null,
   "id": "708e06c3",
   "metadata": {
    "vscode": {
     "languageId": "r"
    }
   },
   "outputs": [],
   "source": [
    "SaveH5Seurat(seurat_object, filename = \"7_Article/results/Seurat/Combined_M14_M15_mRNA_nofilter_DO.h5Seurat\", overwrite = TRUE)"
   ]
  },
  {
   "cell_type": "code",
   "execution_count": null,
   "id": "220f77bc",
   "metadata": {
    "vscode": {
     "languageId": "r"
    }
   },
   "outputs": [],
   "source": [
    "# Convertir en AnnData (.h5ad) avec scCustomize\n",
    "scCustomize::convertSeuratToAnnData(\"7_Article/results/Seurat/Combined_M14_M15_mRNA_nofilter_DO.h5Seurat\", \n",
    "                                    output_file = \"7_Article/results/Seurat/Combined_M14_M15_mRNA_nofilter_DO.h5ad\")"
   ]
  },
  {
   "cell_type": "markdown",
   "id": "ba93b172",
   "metadata": {},
   "source": []
  }
 ],
 "metadata": {
  "kernelspec": {
   "display_name": "R",
   "language": "R",
   "name": "ir"
  },
  "language_info": {
   "codemirror_mode": "r",
   "file_extension": ".r",
   "mimetype": "text/x-r-source",
   "name": "R",
   "pygments_lexer": "r",
   "version": "4.4.1"
  }
 },
 "nbformat": 4,
 "nbformat_minor": 5
}
