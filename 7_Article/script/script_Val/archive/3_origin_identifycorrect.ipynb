{
 "cells": [
  {
   "cell_type": "code",
   "execution_count": 1,
   "metadata": {
    "vscode": {
     "languageId": "r"
    }
   },
   "outputs": [
    {
     "name": "stderr",
     "output_type": "stream",
     "text": [
      "Loading required package: SeuratObject\n",
      "\n",
      "Loading required package: sp\n",
      "\n",
      "\n",
      "Attaching package: ‘SeuratObject’\n",
      "\n",
      "\n",
      "The following objects are masked from ‘package:base’:\n",
      "\n",
      "    intersect, t\n",
      "\n",
      "\n"
     ]
    }
   ],
   "source": [
    "library (Seurat)"
   ]
  },
  {
   "cell_type": "code",
   "execution_count": 2,
   "metadata": {
    "vscode": {
     "languageId": "r"
    }
   },
   "outputs": [],
   "source": [
    "#Charger les objets Seurat\n",
    "\n",
    "seurat_M15_mRNA_nofilter <- readRDS(\"7_Article/results/Seurat/M15_mRNA_nofilter_DO.rds\")\n",
    "seurat_M14_mRNA_nofilter <- readRDS(\"7_Article/results/Seurat/M14_mRNA_nofilter_DO.rds\")"
   ]
  },
  {
   "cell_type": "code",
   "execution_count": 3,
   "metadata": {
    "vscode": {
     "languageId": "r"
    }
   },
   "outputs": [],
   "source": [
    "#modifier orig.ident\n",
    "# Définir 'orig.ident' sur 'Rep2' pour toutes les cellules\n",
    "seurat_M14_mRNA_nofilter$orig.ident <- \"Rep2\"\n",
    "seurat_M15_mRNA_nofilter$orig.ident <- \"Rep1\""
   ]
  },
  {
   "cell_type": "code",
   "execution_count": 5,
   "metadata": {
    "vscode": {
     "languageId": "r"
    }
   },
   "outputs": [
    {
     "data": {
      "text/plain": [
       "An object of class Seurat \n",
       "4422 features across 300074 samples within 1 assay \n",
       "Active assay: RNA (4422 features, 0 variable features)\n",
       " 1 layer present: counts"
      ]
     },
     "metadata": {},
     "output_type": "display_data"
    },
    {
     "data": {
      "text/html": [
       "<table class=\"dataframe\">\n",
       "<caption>A data.frame: 10 × 6</caption>\n",
       "<thead>\n",
       "\t<tr><th></th><th scope=col>orig.ident</th><th scope=col>nCount_RNA</th><th scope=col>nFeature_RNA</th><th scope=col>well</th><th scope=col>sublibrary</th><th scope=col>cond</th></tr>\n",
       "\t<tr><th></th><th scope=col>&lt;chr&gt;</th><th scope=col>&lt;dbl&gt;</th><th scope=col>&lt;int&gt;</th><th scope=col>&lt;chr&gt;</th><th scope=col>&lt;chr&gt;</th><th scope=col>&lt;chr&gt;</th></tr>\n",
       "</thead>\n",
       "<tbody>\n",
       "\t<tr><th scope=row>AAACATCG_AACCGAGA_ACTCGTAA</th><td>Rep1</td><td>0</td><td>0</td><td>A1</td><td>M15</td><td>OD0.5</td></tr>\n",
       "\t<tr><th scope=row>AAACATCG_AACGCTTA_ACTCGTAA</th><td>Rep1</td><td>0</td><td>0</td><td>A1</td><td>M15</td><td>OD0.5</td></tr>\n",
       "\t<tr><th scope=row>AAACATCG_AACTCACC_ACTCGTAA</th><td>Rep1</td><td>0</td><td>0</td><td>A1</td><td>M15</td><td>OD0.5</td></tr>\n",
       "\t<tr><th scope=row>AAACATCG_AATCCGTC_ACTCGTAA</th><td>Rep1</td><td>0</td><td>0</td><td>A1</td><td>M15</td><td>OD0.5</td></tr>\n",
       "\t<tr><th scope=row>AAACATCG_ACAGATTC_ACTCGTAA</th><td>Rep1</td><td>0</td><td>0</td><td>A1</td><td>M15</td><td>OD0.5</td></tr>\n",
       "\t<tr><th scope=row>AAACATCG_AGCACCTC_ACTCGTAA</th><td>Rep1</td><td>0</td><td>0</td><td>A1</td><td>M15</td><td>OD0.5</td></tr>\n",
       "\t<tr><th scope=row>AAACATCG_AGCAGGAA_ACTCGTAA</th><td>Rep1</td><td>0</td><td>0</td><td>A1</td><td>M15</td><td>OD0.5</td></tr>\n",
       "\t<tr><th scope=row>AAACATCG_AGCCATGC_ACTCGTAA</th><td>Rep1</td><td>0</td><td>0</td><td>A1</td><td>M15</td><td>OD0.5</td></tr>\n",
       "\t<tr><th scope=row>AAACATCG_AGGCTAAC_ACTCGTAA</th><td>Rep1</td><td>0</td><td>0</td><td>A1</td><td>M15</td><td>OD0.5</td></tr>\n",
       "\t<tr><th scope=row>AAACATCG_AGTCACTA_ACTCGTAA</th><td>Rep1</td><td>0</td><td>0</td><td>A1</td><td>M15</td><td>OD0.5</td></tr>\n",
       "</tbody>\n",
       "</table>\n"
      ],
      "text/latex": [
       "A data.frame: 10 × 6\n",
       "\\begin{tabular}{r|llllll}\n",
       "  & orig.ident & nCount\\_RNA & nFeature\\_RNA & well & sublibrary & cond\\\\\n",
       "  & <chr> & <dbl> & <int> & <chr> & <chr> & <chr>\\\\\n",
       "\\hline\n",
       "\tAAACATCG\\_AACCGAGA\\_ACTCGTAA & Rep1 & 0 & 0 & A1 & M15 & OD0.5\\\\\n",
       "\tAAACATCG\\_AACGCTTA\\_ACTCGTAA & Rep1 & 0 & 0 & A1 & M15 & OD0.5\\\\\n",
       "\tAAACATCG\\_AACTCACC\\_ACTCGTAA & Rep1 & 0 & 0 & A1 & M15 & OD0.5\\\\\n",
       "\tAAACATCG\\_AATCCGTC\\_ACTCGTAA & Rep1 & 0 & 0 & A1 & M15 & OD0.5\\\\\n",
       "\tAAACATCG\\_ACAGATTC\\_ACTCGTAA & Rep1 & 0 & 0 & A1 & M15 & OD0.5\\\\\n",
       "\tAAACATCG\\_AGCACCTC\\_ACTCGTAA & Rep1 & 0 & 0 & A1 & M15 & OD0.5\\\\\n",
       "\tAAACATCG\\_AGCAGGAA\\_ACTCGTAA & Rep1 & 0 & 0 & A1 & M15 & OD0.5\\\\\n",
       "\tAAACATCG\\_AGCCATGC\\_ACTCGTAA & Rep1 & 0 & 0 & A1 & M15 & OD0.5\\\\\n",
       "\tAAACATCG\\_AGGCTAAC\\_ACTCGTAA & Rep1 & 0 & 0 & A1 & M15 & OD0.5\\\\\n",
       "\tAAACATCG\\_AGTCACTA\\_ACTCGTAA & Rep1 & 0 & 0 & A1 & M15 & OD0.5\\\\\n",
       "\\end{tabular}\n"
      ],
      "text/markdown": [
       "\n",
       "A data.frame: 10 × 6\n",
       "\n",
       "| <!--/--> | orig.ident &lt;chr&gt; | nCount_RNA &lt;dbl&gt; | nFeature_RNA &lt;int&gt; | well &lt;chr&gt; | sublibrary &lt;chr&gt; | cond &lt;chr&gt; |\n",
       "|---|---|---|---|---|---|---|\n",
       "| AAACATCG_AACCGAGA_ACTCGTAA | Rep1 | 0 | 0 | A1 | M15 | OD0.5 |\n",
       "| AAACATCG_AACGCTTA_ACTCGTAA | Rep1 | 0 | 0 | A1 | M15 | OD0.5 |\n",
       "| AAACATCG_AACTCACC_ACTCGTAA | Rep1 | 0 | 0 | A1 | M15 | OD0.5 |\n",
       "| AAACATCG_AATCCGTC_ACTCGTAA | Rep1 | 0 | 0 | A1 | M15 | OD0.5 |\n",
       "| AAACATCG_ACAGATTC_ACTCGTAA | Rep1 | 0 | 0 | A1 | M15 | OD0.5 |\n",
       "| AAACATCG_AGCACCTC_ACTCGTAA | Rep1 | 0 | 0 | A1 | M15 | OD0.5 |\n",
       "| AAACATCG_AGCAGGAA_ACTCGTAA | Rep1 | 0 | 0 | A1 | M15 | OD0.5 |\n",
       "| AAACATCG_AGCCATGC_ACTCGTAA | Rep1 | 0 | 0 | A1 | M15 | OD0.5 |\n",
       "| AAACATCG_AGGCTAAC_ACTCGTAA | Rep1 | 0 | 0 | A1 | M15 | OD0.5 |\n",
       "| AAACATCG_AGTCACTA_ACTCGTAA | Rep1 | 0 | 0 | A1 | M15 | OD0.5 |\n",
       "\n"
      ],
      "text/plain": [
       "                           orig.ident nCount_RNA nFeature_RNA well sublibrary\n",
       "AAACATCG_AACCGAGA_ACTCGTAA Rep1       0          0            A1   M15       \n",
       "AAACATCG_AACGCTTA_ACTCGTAA Rep1       0          0            A1   M15       \n",
       "AAACATCG_AACTCACC_ACTCGTAA Rep1       0          0            A1   M15       \n",
       "AAACATCG_AATCCGTC_ACTCGTAA Rep1       0          0            A1   M15       \n",
       "AAACATCG_ACAGATTC_ACTCGTAA Rep1       0          0            A1   M15       \n",
       "AAACATCG_AGCACCTC_ACTCGTAA Rep1       0          0            A1   M15       \n",
       "AAACATCG_AGCAGGAA_ACTCGTAA Rep1       0          0            A1   M15       \n",
       "AAACATCG_AGCCATGC_ACTCGTAA Rep1       0          0            A1   M15       \n",
       "AAACATCG_AGGCTAAC_ACTCGTAA Rep1       0          0            A1   M15       \n",
       "AAACATCG_AGTCACTA_ACTCGTAA Rep1       0          0            A1   M15       \n",
       "                           cond \n",
       "AAACATCG_AACCGAGA_ACTCGTAA OD0.5\n",
       "AAACATCG_AACGCTTA_ACTCGTAA OD0.5\n",
       "AAACATCG_AACTCACC_ACTCGTAA OD0.5\n",
       "AAACATCG_AATCCGTC_ACTCGTAA OD0.5\n",
       "AAACATCG_ACAGATTC_ACTCGTAA OD0.5\n",
       "AAACATCG_AGCACCTC_ACTCGTAA OD0.5\n",
       "AAACATCG_AGCAGGAA_ACTCGTAA OD0.5\n",
       "AAACATCG_AGCCATGC_ACTCGTAA OD0.5\n",
       "AAACATCG_AGGCTAAC_ACTCGTAA OD0.5\n",
       "AAACATCG_AGTCACTA_ACTCGTAA OD0.5"
      ]
     },
     "metadata": {},
     "output_type": "display_data"
    }
   ],
   "source": [
    "#afficher les objets\n",
    "seurat_M15_mRNA_nofilter\n",
    "head (seurat_M15_mRNA_nofilter)"
   ]
  },
  {
   "cell_type": "code",
   "execution_count": 6,
   "metadata": {
    "vscode": {
     "languageId": "r"
    }
   },
   "outputs": [],
   "source": [
    "#create a new directory if it does not exist\n",
    "dir.create(\"7_Article/results/Seurat\", showWarnings = FALSE)\n",
    "saveRDS(seurat_M15_mRNA_nofilter, \"7_Article/results/Seurat/M15_mRNA_nofilter_DO_edit.rds\")\n",
    "saveRDS(seurat_M14_mRNA_nofilter, \"7_Article/results/Seurat/M14_mRNA_nofilter_DO_edit.rds\")\n",
    "\n"
   ]
  }
 ],
 "metadata": {
  "kernelspec": {
   "display_name": "R",
   "language": "R",
   "name": "ir"
  },
  "language_info": {
   "codemirror_mode": "r",
   "file_extension": ".r",
   "mimetype": "text/x-r-source",
   "name": "R",
   "pygments_lexer": "r",
   "version": "4.4.1"
  }
 },
 "nbformat": 4,
 "nbformat_minor": 2
}
