{
 "cells": [
  {
   "cell_type": "code",
   "execution_count": null,
   "metadata": {
    "vscode": {
     "languageId": "r"
    }
   },
   "outputs": [],
   "source": [
    "#Script pour fussionner differents objets Seurat en un seul"
   ]
  },
  {
   "cell_type": "code",
   "execution_count": null,
   "metadata": {
    "vscode": {
     "languageId": "r"
    }
   },
   "outputs": [],
   "source": [
    "#Charger les librairies\n",
    "library(Seurat)"
   ]
  },
  {
   "cell_type": "code",
   "execution_count": null,
   "metadata": {
    "vscode": {
     "languageId": "r"
    }
   },
   "outputs": [],
   "source": [
    "#Charger les objets Seurat\n",
    "\n",
    "seurat_M15_mRNA_nofilter <- readRDS(\"7_Article/results/Seurat/M15_mRNA_nofilter_DO.rds\")\n",
    "seurat_M14_mRNA_nofilter <- readRDS(\"7_Article/results/Seurat/M14_mRNA_nofilter_DO.rds\")"
   ]
  },
  {
   "cell_type": "code",
   "execution_count": null,
   "metadata": {
    "vscode": {
     "languageId": "r"
    }
   },
   "outputs": [],
   "source": [
    "\n",
    "# Fusionner les objets\n",
    "seurat_combined <- merge(\n",
    "  x = seurat_M15_mRNA_nofilter, \n",
    "  y = seurat_M14_mRNA_nofilter, \n",
    "  add.cell.ids = c(\"Rep1\", \"Rep2\"), \n",
    "  project = \"Combined_M14_M15_mRNA_nofilter_DO\"\n",
    ")\n",
    "\n",
    "# Vérifier la structure de l'objet fusionné\n",
    "print(seurat_combined)"
   ]
  },
  {
   "cell_type": "code",
   "execution_count": null,
   "metadata": {
    "vscode": {
     "languageId": "r"
    }
   },
   "outputs": [],
   "source": [
    "table(seurat_combined$orig.ident)"
   ]
  },
  {
   "cell_type": "code",
   "execution_count": null,
   "metadata": {
    "vscode": {
     "languageId": "r"
    }
   },
   "outputs": [],
   "source": [
    "#create a new directory if it does not exist\n",
    "dir.create(\"7_Article/results/Seurat\", showWarnings = FALSE)\n",
    "saveRDS(seurat_combined, \"7_Article/results/Seurat/Combined_M14_M15_mRNA_nofilter_DO.rds\")"
   ]
  }
 ],
 "metadata": {
  "language_info": {
   "name": "python"
  }
 },
 "nbformat": 4,
 "nbformat_minor": 2
}
