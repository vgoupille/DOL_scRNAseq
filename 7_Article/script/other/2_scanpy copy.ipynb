{
 "cells": [
  {
   "cell_type": "markdown",
   "metadata": {},
   "source": [
    "Pour se connecter à ce notebook \n",
    "Besoin de lancer  l'image singularity de : _Containers/shortcakelight.sif\n",
    "\n",
    "https://github.com/rnakato/ShortCake/tree/master\n",
    "Est conçu spécifiquement pour les analyses de données single cell\n",
    "\n",
    "Pour lancer l'image singularity et pouvoir se connecter aux notebooks jupyter:\n",
    "srun --pty bash\n",
    "singularity exec 6_Containers/shortcakelight.sif jupyternotebook.sh\n",
    "\n",
    "puis faire le lien ssh sur l'ordi avec cette commande  que l'on ecrit dans le terminal local: \n",
    "ssh -A -t -t vgoupille@genossh.genouest.org -L 8888:localhost:8888 ssh cl1n030 -L 8888:localhost:8888\n",
    "modifier le port (numero et noeud si besoin)\n",
    "\n",
    "si probleme de connection \n",
    "\n",
    "ls -a\n",
    "rm -r .vscode-server\n",
    "puis se remet sur vscode \n",
    "et refait la liaison avec ssh remote (et reinstaller les extensions...)"
   ]
  },
  {
   "cell_type": "markdown",
   "metadata": {},
   "source": [
    "Library strategy: microSPLiT\n",
    "The data preprocessing and alignment was performed using a modified SPLiT-seq pipeline (https://github.com/Alex-Rosenberg/split-seq-pipeline). Modifications: using STAR with the splicing isoform detection swiwwe usededt the hioutghoutest-scored multimapping re. We also keptwening a ctional count based on the number igninggood alignments, since bacterial genomes are known to contain overlapping CDSs.\n",
    "Genome_build: ASM904v1.45 and ASM80076v1.37 from EnsemblBacteria\n",
    "Supplementary_files_format_and_content: Cell by gene matrix (with cells above threshold 200 UMI/cell); Gene names; Cell annotations (barcode and well for heat shock data, OD for B.subtilis growth curve). For B. Subtilis growth curve, only mRNA are included in the cell-by-gene matrix.\n",
    "Supplementary_files_format_and_content: For the heat-shock data, barcodes in wells 1-24 belong to heat-shocked cells and in wells 25-48 belong to control cells.\n",
    " \t"
   ]
  },
  {
   "cell_type": "markdown",
   "metadata": {},
   "source": [
    "Ce texte décrit les stratégies et les méthodes utilisées pour traiter et aligner les données issues de l’expérience scRNA-seq réalisée avec la méthode microSPLiT.\n",
    "\t1.\tStratégie de séquençage (Library strategy) :\n",
    "\t•\tLa méthode utilisée est microSPLiT, qui est une adaptation de la technique SPLiT-seq, permettant de réaliser du scRNA-seq sans nécessiter d’isolation physique des cellules.\n",
    "\t2.\tPrétraitement et alignement des données :\n",
    "\t•\tL’alignement des séquences a été effectué avec une version modifiée du pipeline SPLiT-seq disponible sur GitHub (https://github.com/Alex-Rosenberg/split-seq-pipeline).\n",
    "\t•\tModifications apportées :\n",
    "\t•\tUtilisation de STAR (un logiciel d’alignement des lectures RNA-seq) avec une détection des isoformes d’épissage.\n",
    "\t•\tSélection des meilleurs alignements multimapping selon un critère de score élevé.\n",
    "\t•\tConservation d’un compte fonctionnel basé sur le nombre d’alignements de bonne qualité, ce qui est pertinent pour les génomes bactériens où plusieurs CDSs (séquences codantes) peuvent se chevaucher.\n",
    "\t3.\tRéférences génomiques utilisées :\n",
    "\t•\tLes génomes de référence utilisés pour l’alignement sont :\n",
    "\t•\tASM904v1.45\n",
    "\t•\tASM80076v1.37\n",
    "\t•\tCes versions proviennent de la base de données EnsemblBacteria.\n",
    "\t4.\tFichiers supplémentaires et leur contenu :\n",
    "\t•\tLes fichiers supplémentaires fournis incluent :\n",
    "\t•\tMatrice cellule-gène (contenant uniquement les cellules ayant un minimum de 200 UMI/cellule).\n",
    "\t•\tNoms des gènes.\n",
    "\t•\tAnnotations des cellules :\n",
    "\t•\tPour les données du stress thermique (heat-shock) : les cellules sont annotées par code-barres et puits.\n",
    "\t•\tPour la courbe de croissance de Bacillus subtilis : les cellules sont annotées selon leur densité optique (OD). Seuls les ARNm (mRNA) sont inclus dans la matrice cellule-gène.\n",
    "\t5.\tOrganisation des cellules dans l’expérience de stress thermique :\n",
    "\t•\tLes cellules sont disposées dans 48 puits, avec une distinction entre conditions :\n",
    "\t•\tPuits 1-24 : cellules soumises au stress thermique.\n",
    "\t•\tPuits 25-48 : cellules témoins (non soumises au stress thermique).\n",
    "\n",
    "replica 1 : M11 => B. subtilis PY79 (OD0.5-OD3.2)\n",
    "\n",
    "replica 2 : M14 => B. subtilis PY79 (OD0.5-OD6.0)\n",
    "\n",
    "other plate : M15 =>\tB. subtilis PY79 + E. coli MW1255"
   ]
  },
  {
   "cell_type": "markdown",
   "metadata": {},
   "source": [
    "# info sur les objets de type Anndata\n",
    "https://anndata.readthedocs.io/en/latest/tutorials/notebooks/getting-started.html\n",
    "\n",
    "# info sur l'utilisation de Scanpy \n",
    "https://scanpy.readthedocs.io/en/stable/tutorials/basics/clustering.html"
   ]
  },
  {
   "cell_type": "code",
   "execution_count": 1,
   "metadata": {},
   "outputs": [
    {
     "name": "stdout",
     "output_type": "stream",
     "text": [
      "0    AAACATCGAACAACCA_41_20200401_M11_0510_K12_168\n",
      "1            AAACATCGAACTCACC_12_20200330_M11_0414\n",
      "2     AAACATCGAAGACGGA_1_20200401_M11_0510_K12_168\n",
      "3            AAACATCGAAGAGATC_35_20200330_M11_0414\n",
      "4     AAACATCGAAGGTACA_6_20200401_M11_0510_K12_168\n",
      "Name: 0, dtype: object\n",
      "0    BSU_rRNA_29_BSUBT\n",
      "1     BSU_rRNA_5_BSUBT\n",
      "2     BSU_rRNA_2_BSUBT\n",
      "3    BSU_rRNA_20_BSUBT\n",
      "4    BSU_rRNA_12_BSUBT\n",
      "Name: 0, dtype: object\n",
      "        0          1           2           3           4           5     \\\n",
      "0   0.100000    0.10000    0.100000    0.100000    0.100000    0.100000   \n",
      "1  95.029745  107.04071  107.829599  104.141107  108.596266  110.426821   \n",
      "2   0.411111    0.30000    0.411111    0.411111    0.411111    0.411111   \n",
      "3   0.000000    0.00000    0.000000    0.000000    0.000000    0.000000   \n",
      "4   0.225000    0.22500    0.225000    0.100000    0.225000    0.225000   \n",
      "\n",
      "         6           7           8          9     ...  7558  7559  7560  7561  \\\n",
      "0    0.100000    0.100000    0.100000   0.100000  ...   0.0   0.0   0.0   0.0   \n",
      "1  108.596266  104.960551  102.485155  96.779996  ...   0.0   0.0   0.0   0.0   \n",
      "2    0.411111    0.411111    0.411111   0.411111  ...   0.0   0.0   0.0   0.0   \n",
      "3    0.000000    0.000000    0.000000   0.000000  ...   0.0   0.0   0.0   0.0   \n",
      "4    0.225000    0.100000    0.225000   0.225000  ...   0.0   0.0   0.0   0.0   \n",
      "\n",
      "   7562  7563  7564  7565  7566  7567  \n",
      "0   0.0   0.0   0.0   0.0   0.0   0.0  \n",
      "1   0.0   0.0   0.0   0.0   0.0   0.0  \n",
      "2   0.0   0.0   0.0   0.0   0.0   0.0  \n",
      "3   0.0   0.0   0.0   0.0   0.0   0.0  \n",
      "4   0.0   0.0   0.0   0.0   0.0   0.0  \n",
      "\n",
      "[5 rows x 7568 columns]\n",
      "Barcodes: 2682, Genes: 7568, DCM shape: (2682, 7568)\n"
     ]
    }
   ],
   "source": [
    "import pandas as pd\n",
    "import scanpy as sc\n",
    "import numpy as np\n",
    "from scipy.sparse import csr_matrix\n",
    "\n",
    "# Charger les fichiers CSV\n",
    "barcodes = pd.read_csv(\"7_Article/data/GSE_extracted/GSM4594094_M11_barcodes.csv\", header=None)[0]  # Liste des cellules\n",
    "genes = pd.read_csv(\"7_Article/data/GSE_extracted/GSM4594094_M11_genes.csv\", header=None)[0]  # Liste des gènes\n",
    "dcm = pd.read_csv(\"7_Article/data/GSE_extracted/GSM4594094_M11_dcm.csv\", header=None)  # Matrice d'expression (comptages)\n",
    "\n",
    "\n",
    "#Preview des données\n",
    "print(barcodes.head())\n",
    "print(genes.head())\n",
    "print(dcm.head())\n",
    "\n",
    "# Vérifier les dimensions\n",
    "print(f\"Barcodes: {len(barcodes)}, Genes: {len(genes)}, DCM shape: {dcm.shape}\")"
   ]
  }
 ],
 "metadata": {
  "kernelspec": {
   "display_name": "shortcake_default",
   "language": "python",
   "name": "shortcake_default"
  },
  "language_info": {
   "codemirror_mode": {
    "name": "ipython",
    "version": 3
   },
   "file_extension": ".py",
   "mimetype": "text/x-python",
   "name": "python",
   "nbconvert_exporter": "python",
   "pygments_lexer": "ipython3",
   "version": "3.10.16"
  }
 },
 "nbformat": 4,
 "nbformat_minor": 2
}
