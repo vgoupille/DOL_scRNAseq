{
 "cells": [
  {
   "cell_type": "markdown",
   "metadata": {},
   "source": [
    "Pour se connecter à ce notebook \n",
    "Besoin de lancer  l'image singularity de : _Containers/shortcakelight.sif\n",
    "\n",
    "https://github.com/rnakato/ShortCake/tree/master\n",
    "Est conçu spécifiquement pour les analyses de données single cell\n",
    "\n",
    "Pour lancer l'image singularity et pouvoir se connecter aux notebooks jupyter:\n",
    "srun --pty bash\n",
    "singularity exec 6_Containers/shortcakelight.sif jupyternotebook.sh\n",
    "\n",
    "puis faire le lien ssh sur l'ordi avec cette commande  que l'on ecrit dans le terminal local: \n",
    "ssh -A -t -t vgoupille@genossh.genouest.org -L 8888:localhost:8888 ssh cl1n030 -L 8888:localhost:8888\n",
    "modifier le port (numero et noeud si besoin)\n",
    "\n",
    "si probleme de connection \n",
    "\n",
    "ls -a\n",
    "rm -r .vscode-server\n",
    "puis se remet sur vscode \n",
    "et refait la liaison avec ssh remote (et reinstaller les extensions...)"
   ]
  },
  {
   "cell_type": "markdown",
   "metadata": {},
   "source": [
    "Library strategy: microSPLiT\n",
    "The data preprocessing and alignment was performed using a modified SPLiT-seq pipeline (https://github.com/Alex-Rosenberg/split-seq-pipeline). Modifications: using STAR with the splicing isoform detection swiwwe usededt the hioutghoutest-scored multimapping re. We also keptwening a ctional count based on the number igninggood alignments, since bacterial genomes are known to contain overlapping CDSs.\n",
    "Genome_build: ASM904v1.45 and ASM80076v1.37 from EnsemblBacteria\n",
    "Supplementary_files_format_and_content: Cell by gene matrix (with cells above threshold 200 UMI/cell); Gene names; Cell annotations (barcode and well for heat shock data, OD for B.subtilis growth curve). For B. Subtilis growth curve, only mRNA are included in the cell-by-gene matrix.\n",
    "Supplementary_files_format_and_content: For the heat-shock data, barcodes in wells 1-24 belong to heat-shocked cells and in wells 25-48 belong to control cells.\n",
    " \t"
   ]
  },
  {
   "cell_type": "markdown",
   "metadata": {},
   "source": [
    "Ce texte décrit les stratégies et les méthodes utilisées pour traiter et aligner les données issues de l’expérience scRNA-seq réalisée avec la méthode microSPLiT.\n",
    "\t1.\tStratégie de séquençage (Library strategy) :\n",
    "\t•\tLa méthode utilisée est microSPLiT, qui est une adaptation de la technique SPLiT-seq, permettant de réaliser du scRNA-seq sans nécessiter d’isolation physique des cellules.\n",
    "\t2.\tPrétraitement et alignement des données :\n",
    "\t•\tL’alignement des séquences a été effectué avec une version modifiée du pipeline SPLiT-seq disponible sur GitHub (https://github.com/Alex-Rosenberg/split-seq-pipeline).\n",
    "\t•\tModifications apportées :\n",
    "\t•\tUtilisation de STAR (un logiciel d’alignement des lectures RNA-seq) avec une détection des isoformes d’épissage.\n",
    "\t•\tSélection des meilleurs alignements multimapping selon un critère de score élevé.\n",
    "\t•\tConservation d’un compte fonctionnel basé sur le nombre d’alignements de bonne qualité, ce qui est pertinent pour les génomes bactériens où plusieurs CDSs (séquences codantes) peuvent se chevaucher.\n",
    "\t3.\tRéférences génomiques utilisées :\n",
    "\t•\tLes génomes de référence utilisés pour l’alignement sont :\n",
    "\t•\tASM904v1.45\n",
    "\t•\tASM80076v1.37\n",
    "\t•\tCes versions proviennent de la base de données EnsemblBacteria.\n",
    "\t4.\tFichiers supplémentaires et leur contenu :\n",
    "\t•\tLes fichiers supplémentaires fournis incluent :\n",
    "\t•\tMatrice cellule-gène (contenant uniquement les cellules ayant un minimum de 200 UMI/cellule).\n",
    "\t•\tNoms des gènes.\n",
    "\t•\tAnnotations des cellules :\n",
    "\t•\tPour les données du stress thermique (heat-shock) : les cellules sont annotées par code-barres et puits.\n",
    "\t•\tPour la courbe de croissance de Bacillus subtilis : les cellules sont annotées selon leur densité optique (OD). Seuls les ARNm (mRNA) sont inclus dans la matrice cellule-gène.\n",
    "\t5.\tOrganisation des cellules dans l’expérience de stress thermique :\n",
    "\t•\tLes cellules sont disposées dans 48 puits, avec une distinction entre conditions :\n",
    "\t•\tPuits 1-24 : cellules soumises au stress thermique.\n",
    "\t•\tPuits 25-48 : cellules témoins (non soumises au stress thermique).\n",
    "\n",
    "replica 2 : M14 => B. subtilis PY79 (OD0.5-OD3.2)\n",
    "\n",
    "replica 1 : M15 => B. subtilis PY79 (OD0.5-OD6.0)\n",
    "\n",
    "other plate : M11 =>\tB. subtilis PY79 + E. coli MW1255"
   ]
  },
  {
   "cell_type": "markdown",
   "metadata": {},
   "source": [
    "# Telechargement des données preocessées  de l'article de Kuchina et al: \n",
    "Microbial single-cell RNA sequencing by split-pool barcoding\n",
    "https://doi.org/10.1126/science.aba5257\n",
    "\n",
    "protocole 2024: \n",
    "https://doi.org/10.1038/s41596-024-01007-w\n",
    "\n",
    "les données de séquençage brute sont disponible sur SRA : \n",
    "The raw sequencing files are available at the Sequence Read Archive:\n",
    "    - GSM4594094 : https://www.ncbi.nlm.nih.gov/sra/SRX8485151%5baccn%5d\n",
    "    - GSM4594095 : https://www.ncbi.nlm.nih.gov/sra/SRX8485152%5baccn%5d\n",
    "    - GSM4594096 : https://www.ncbi.nlm.nih.gov/sra/SRX8485153%5baccn%5d\n",
    "\n",
    "Processed data were submitted to Gene Expression Omnibus, with accession number GSE151940.\n",
    "\n",
    "#Les données processées sont disponibles sur le site de GEO:\n",
    "https://www.ncbi.nlm.nih.gov/geo/query/acc.cgi?acc=GSE151940\n",
    "\n",
    "\n",
    "SUPPLEMENTARY MATERIALS \n",
    "https://www.science.org/doi/10.1126/science.aba5257\n",
    "\n",
    "\n",
    "NOUS N'ALLONS PAS UTILISER C'EST DONNEES QUI NE SONT PAS OBTENUE AVEC STARsolo \n"
   ]
  },
  {
   "cell_type": "markdown",
   "metadata": {},
   "source": [
    "\n",
    "Un autre article a analysé les données de scRNA-seq de la même expérience.\n",
    "\"Single-cell heterogeneity in ribosome content and the  consequences for the growth laws\" par Brettner et al. (2024).\n",
    "\n",
    "https://pmc.ncbi.nlm.nih.gov/articles/PMC11185559/\n",
    "\n",
    "Récuperation des données et divers script sur la page :\n",
    "    https://osf.io/kjfbz/\n",
    "    \n",
    "    - donnée Raw Data : obtenue avec STARsolo\n",
    "    GEO060 => M14\n",
    "    GEO061 => M15\n",
    "    "
   ]
  },
  {
   "cell_type": "markdown",
   "metadata": {},
   "source": [
    "# Chargement des librairies\n",
    "\n",
    "library(reticulate)\n",
    "library(dplyr)\n",
    "library(cowplot)\n",
    "library(Seurat) ##Note this code was written for a previous version of Seurat (4.1.1)\n",
    "library(ggplot2)\n",
    "library(Matrix)\n",
    "library(forcats)\n",
    "library(RColorBrewer)\n",
    "\n",
    "# library(akmedoids) # on ne peut pas charger le pac-kages ici car il n'est pas installé sur le serveur et aussi n'est plus compatible avec la version de R"
   ]
  },
  {
   "cell_type": "markdown",
   "metadata": {},
   "source": []
  }
 ],
 "metadata": {
  "language_info": {
   "name": "python"
  }
 },
 "nbformat": 4,
 "nbformat_minor": 2
}
