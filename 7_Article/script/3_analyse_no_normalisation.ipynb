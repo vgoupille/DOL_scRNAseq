{
 "cells": [
  {
   "cell_type": "markdown",
   "metadata": {},
   "source": [
    "# 📌 Connexion au Notebook avec Singularity\n",
    "\n",
    "## 🔹 Image Singularity  \n",
    "Lancer l'image Singularity suivante :  \n",
    "`6_Containers/shortcakelight.sif`  \n",
    "\n",
    "[ShortCake](https://github.com/rnakato/ShortCake/tree/master) est conçu spécifiquement pour les analyses de données single-cell.  \n",
    "\n",
    "---\n",
    "\n",
    "## 🚀 Lancement de l'image et connexion au Jupyter Notebook  \n",
    "\n",
    "### Lancer l'image Singularity  \n",
    "```bash\n",
    "srun --pty bash\n",
    "singularity exec 6_Containers/shortcakelight.sif jupyternotebook.sh\n",
    "```\n",
    "##3 Puis faire le lien ssh sur l'ordi avec cette commande que l'on écrit dans le terminal local:\n",
    "```bash\n",
    "ssh -A -t -t vgoupille@genossh.genouest.org -L 8888:localhost:8888 ssh cl1n030 -L 8888:localhost:8888\n",
    "modifier le port (numero et noeud si besoin)\n",
    "```\n",
    "\n",
    "## si probleme de connection \n",
    "\n",
    "```bash\n",
    "ls -a\n",
    "rm -r .vscode-server\n",
    "#puis se remet sur vscode \n",
    "# et refait la liaison avec ssh remote (et reinstaller les extensions...)\n",
    "```"
   ]
  },
  {
   "cell_type": "markdown",
   "metadata": {},
   "source": [
    "Ce texte décrit les stratégies et les méthodes utilisées pour traiter et aligner les données issues de l’expérience scRNA-seq réalisée avec la méthode microSPLiT.\n",
    "\n",
    "1. **Stratégie de séquençage (Library strategy)** :\n",
    "\t- La méthode utilisée est microSPLiT, qui est une adaptation de la technique SPLiT-seq, permettant de réaliser du scRNA-seq sans nécessiter d’isolation physique des cellules.\n",
    "\n",
    "2. **Prétraitement et alignement des données** :\n",
    "\t- L’alignement des séquences a été effectué avec une version modifiée du pipeline SPLiT-seq disponible sur GitHub (https://github.com/Alex-Rosenberg/split-seq-pipeline).\n",
    "\t- Modifications apportées :\n",
    "\t  - Utilisation de STAR (un logiciel d’alignement des lectures RNA-seq) avec une détection des isoformes d’épissage.\n",
    "\t  - Sélection des meilleurs alignements multimapping selon un critère de score élevé.\n",
    "\t  - Conservation d’un compte fonctionnel basé sur le nombre d’alignements de bonne qualité, ce qui est pertinent pour les génomes bactériens où plusieurs CDSs (séquences codantes) peuvent se chevaucher.\n",
    "\n",
    "3. **Références génomiques utilisées** :\n",
    "\t- Les génomes de référence utilisés pour l’alignement sont :\n",
    "\t  - ASM904v1.45\n",
    "\t  - ASM80076v1.37\n",
    "\t- Ces versions proviennent de la base de données EnsemblBacteria.\n",
    "\n",
    "4. **Fichiers supplémentaires et leur contenu** :\n",
    "\t- Les fichiers supplémentaires fournis incluent :\n",
    "\t  - Matrice cellule-gène (contenant uniquement les cellules ayant un minimum de 200 UMI/cellule).\n",
    "\t  - Noms des gènes.\n",
    "\t  - Annotations des cellules :\n",
    "\t\t - Pour les données du stress thermique (heat-shock) : les cellules sont annotées par code-barres et puits.\n",
    "\t\t - Pour la courbe de croissance de Bacillus subtilis : les cellules sont annotées selon leur densité optique (OD). Seuls les ARNm (mRNA) sont inclus dans la matrice cellule-gène.\n",
    "\n",
    "5. **Organisation des cellules dans l’expérience de stress thermique** :\n",
    "\t- Les cellules sont disposées dans 48 puits, avec une distinction entre conditions :\n",
    "\t  - Puits 1-24 : cellules soumises au stress thermique.\n",
    "\t  - Puits 25-48 : cellules témoins (non soumises au stress thermique).\n",
    "\n",
    "replica 2 : M14 => B. subtilis PY79 (OD0.5-OD3.2)\n",
    "\n",
    "replica 1 : M15 => B. subtilis PY79 (OD0.5-OD6.0)\n",
    "\n",
    "other plate : M11 => B. subtilis PY79 + E. coli MW1255"
   ]
  },
  {
   "cell_type": "markdown",
   "metadata": {},
   "source": [
    "# Telechargement des données preocessées  de l'article de Kuchina et al: \n",
    "Microbial single-cell RNA sequencing by split-pool barcoding\n",
    "https://doi.org/10.1126/science.aba5257\n",
    "\n",
    "protocole 2024: \n",
    "https://doi.org/10.1038/s41596-024-01007-w\n",
    "\n",
    "les données de séquençage brute sont disponible sur SRA : \n",
    "The raw sequencing files are available at the Sequence Read Archive:\n",
    "    - GSM4594094 : https://www.ncbi.nlm.nih.gov/sra/SRX8485151%5baccn%5d\n",
    "    - GSM4594095 : https://www.ncbi.nlm.nih.gov/sra/SRX8485152%5baccn%5d\n",
    "    - GSM4594096 : https://www.ncbi.nlm.nih.gov/sra/SRX8485153%5baccn%5d\n",
    "\n",
    "Processed data were submitted to Gene Expression Omnibus, with accession number GSE151940.\n",
    "\n",
    "#Les données processées sont disponibles sur le site de GEO:\n",
    "https://www.ncbi.nlm.nih.gov/geo/query/acc.cgi?acc=GSE151940\n",
    "\n",
    "\n",
    "SUPPLEMENTARY MATERIALS \n",
    "https://www.science.org/doi/10.1126/science.aba5257\n",
    "\n",
    "\n",
    "NOUS N'ALLONS PAS UTILISER C'EST DONNEES QUI NE SONT PAS OBTENUE AVEC STARsolo \n"
   ]
  },
  {
   "cell_type": "markdown",
   "metadata": {},
   "source": [
    "\n",
    "Un autre article a analysé les données de scRNA-seq de la même expérience.\n",
    "\"Single-cell heterogeneity in ribosome content and the  consequences for the growth laws\" par Brettner et al. (2024).\n",
    "\n",
    "https://pmc.ncbi.nlm.nih.gov/articles/PMC11185559/\n",
    "\n",
    "Récuperation des données et divers script sur la page :\n",
    "    https://osf.io/kjfbz/\n",
    "    \n",
    "    - donnée Raw Data : obtenue avec STARsolo\n",
    "    GEO060 => M14\n",
    "    GEO061 => M15\n",
    "    "
   ]
  },
  {
   "cell_type": "markdown",
   "metadata": {
    "vscode": {
     "languageId": "r"
    }
   },
   "source": [
    "Import libraries, usefull functions, and data "
   ]
  },
  {
   "cell_type": "code",
   "execution_count": null,
   "metadata": {
    "vscode": {
     "languageId": "r"
    }
   },
   "outputs": [
    {
     "name": "stderr",
     "output_type": "stream",
     "text": [
      "Loading required package: SeuratObject\n",
      "\n",
      "Loading required package: sp\n",
      "\n",
      "\n",
      "Attaching package: ‘SeuratObject’\n",
      "\n",
      "\n",
      "The following objects are masked from ‘package:base’:\n",
      "\n",
      "    intersect, t\n",
      "\n",
      "\n",
      "\n",
      "Attaching package: ‘dplyr’\n",
      "\n",
      "\n",
      "The following objects are masked from ‘package:stats’:\n",
      "\n",
      "    filter, lag\n",
      "\n",
      "\n",
      "The following objects are masked from ‘package:base’:\n",
      "\n",
      "    intersect, setdiff, setequal, union\n",
      "\n",
      "\n"
     ]
    }
   ],
   "source": [
    "# Chargement des librairies\n",
    "suppressWarnings({ # Permet de ne pas afficher les informations de chargement des librairies\n",
    "    library(reticulate) # Permet d'utiliser des fonctions python dans R\n",
    "    library(Seurat) # Permet de manipuler des données de single-cell RNA-seq\n",
    "    library(ggplot2) # Permet de faire des graphiques\n",
    "    library(dplyr) # Permet de manipuler des données\n",
    "    library(Matrix) # Permet de manipuler des matrices\n",
    "    library(cowplot) # Permet de faire des graphiques\n",
    "    library(forcats) # Permet de manipuler des facteurs\n",
    "    library(RColorBrewer) # Permet de manipuler les couleurs\n",
    "})\n",
    "\n"
   ]
  },
  {
   "cell_type": "code",
   "execution_count": null,
   "metadata": {
    "vscode": {
     "languageId": "r"
    }
   },
   "outputs": [],
   "source": [
    "#script pour convertir les noms de gènes en noms de gènes utiles pour les bactéries\n",
    "source(\"7_Article/script/script_Val/usefull_convert_gene_names_bacteria.R\")\n",
    "#prend en entrée un vecteur de noms de gènes et le tableau de corespondance entre les noms de gènes et les noms de gènes utiles pour les bactéries\n",
    "\n",
    "\n",
    "\n",
    "\n",
    "#script pour assigner les barcodes (cellules) aux puits de la plaque \n",
    "source(\"7_Article/script/script_Val/usefull_assign_cell_wells.R\" )\n"
   ]
  },
  {
   "cell_type": "code",
   "execution_count": null,
   "metadata": {
    "vscode": {
     "languageId": "r"
    }
   },
   "outputs": [],
   "source": [
    "\n",
    "\n",
    "\n",
    "\n",
    "assign_cell_wells <- function(barcodes){\n",
    "\n",
    "  cell_wells <- data.frame(barcode <- c(), well <- c())\n",
    "  \n",
    "  for (i in 1:length(barcodes)){\n",
    "    \n",
    "    BC1 <- last(unlist(strsplit(barcodes[i], \"_\")))\n",
    "    \n",
    "    if (BC1 == 'ACTCGTAA' | BC1 == 'CTGCTTTG'){\n",
    "      temp <- data.frame(barcode = barcodes[i], well = \"A1\")\n",
    "      cell_wells <- rbind(cell_wells, temp)\n",
    "    } else if (BC1 == 'AAACGATA' | BC1 == 'CATGATCA'){\n",
    "      temp <- data.frame(barcode = barcodes[i], well = \"A2\")\n",
    "      cell_wells <- rbind(cell_wells, temp)\n",
    "    } else if (BC1 == 'TTACCTCG' | BC1 == 'GGGTAGCG'){\n",
    "      temp <- data.frame(barcode = barcodes[i], well = \"A3\")\n",
    "      cell_wells <- rbind(cell_wells, temp)\n",
    "    } else if (BC1 == 'GCCTGCAA' | BC1 == 'CCGAGAAA'){\n",
    "      temp <- data.frame(barcode = barcodes[i], well = \"A4\")\n",
    "      cell_wells <- rbind(cell_wells, temp)\n",
    "    } else if (BC1 == 'TGGTATAC' | BC1 == 'ACGGACTC'){\n",
    "      temp <- data.frame(barcode = barcodes[i], well = \"A5\")\n",
    "      cell_wells <- rbind(cell_wells, temp)\n",
    "    } else if (BC1 == 'CGTTCGAG' | BC1 == 'ACTTACGA'){\n",
    "      temp <- data.frame(barcode = barcodes[i], well = \"A6\")\n",
    "      cell_wells <- rbind(cell_wells, temp)\n",
    "    } else if (BC1 == 'TCTATTAC' | BC1 == 'TATTTAAG'){\n",
    "      temp <- data.frame(barcode = barcodes[i], well = \"A7\")\n",
    "      cell_wells <- rbind(cell_wells, temp)\n",
    "    } else if (BC1 == 'ATAAGCTC' | BC1 == 'ACCGTACG'){\n",
    "      temp <- data.frame(barcode = barcodes[i], well = \"A8\")\n",
    "      cell_wells <- rbind(cell_wells, temp)\n",
    "    } else if (BC1 == 'ATTCATGG' | BC1 == 'TATAGTCG'){\n",
    "      temp <- data.frame(barcode = barcodes[i], well = \"A9\")\n",
    "      cell_wells <- rbind(cell_wells, temp)\n",
    "    } else if (BC1 == 'ATCCGCGA' | BC1 == 'TGGGCATC'){\n",
    "      temp <- data.frame(barcode = barcodes[i], well = \"A10\")\n",
    "      cell_wells <- rbind(cell_wells, temp)\n",
    "    } else if (BC1 == 'ATCGCATA' | BC1 == 'TACCTAGA'){\n",
    "      temp <- data.frame(barcode = barcodes[i], well = \"A11\")\n",
    "      cell_wells <- rbind(cell_wells, temp)\n",
    "    } else if (BC1 == 'CCGTTCTA' | BC1 == 'GCTGCATG'){\n",
    "      temp <- data.frame(barcode = barcodes[i], well = \"A12\")\n",
    "      cell_wells <- rbind(cell_wells, temp)\n",
    "    } else if (BC1 == 'TGGCGCGC' | BC1 == 'GTCATATG'){\n",
    "      temp <- data.frame(barcode = barcodes[i], well = \"B1\")\n",
    "      cell_wells <- rbind(cell_wells, temp)\n",
    "    } else if (BC1 == 'TGTCTGAA' | BC1 == 'ATATTGGC'){\n",
    "      temp <- data.frame(barcode = barcodes[i], well = \"B2\")\n",
    "      cell_wells <- rbind(cell_wells, temp)\n",
    "    } else if (BC1 == 'CTGTCCCG' | BC1 == 'CTAAGGGA'){\n",
    "      temp <- data.frame(barcode = barcodes[i], well = \"B3\")\n",
    "      cell_wells <- rbind(cell_wells, temp)\n",
    "    } else if (BC1 == 'AATTTCTC' | BC1 == 'TCGTTTCG'){\n",
    "      temp <- data.frame(barcode = barcodes[i], well = \"B4\")\n",
    "      cell_wells <- rbind(cell_wells, temp)\n",
    "    } else if (BC1 == 'CGCGACTA' | BC1 == 'GAATAATG'){\n",
    "      temp <- data.frame(barcode = barcodes[i], well = \"B5\")\n",
    "      cell_wells <- rbind(cell_wells, temp)\n",
    "    } else if (BC1 == 'GGGATCGG' | BC1 == 'ACTGCGCA'){\n",
    "      temp <- data.frame(barcode = barcodes[i], well = \"B6\")\n",
    "      cell_wells <- rbind(cell_wells, temp)\n",
    "    } else if (BC1 == 'TTATTCTG' | BC1 == 'GCTTATAG'){\n",
    "      temp <- data.frame(barcode = barcodes[i], well = \"B7\")\n",
    "      cell_wells <- rbind(cell_wells, temp)\n",
    "    } else if (BC1 == 'AGGCGGCA' | BC1 == 'ATCATGCA'){\n",
    "      temp <- data.frame(barcode = barcodes[i], well = \"B8\")\n",
    "      cell_wells <- rbind(cell_wells, temp)\n",
    "    } else if (BC1 == 'ACGCCGGC' | BC1 == 'ACGTTAAC'){\n",
    "      temp <- data.frame(barcode = barcodes[i], well = \"B9\")\n",
    "      cell_wells <- rbind(cell_wells, temp)\n",
    "    } else if (BC1 == 'TTGTCTTA' | BC1 == 'CCATCTTG'){\n",
    "      temp <- data.frame(barcode = barcodes[i], well = \"B10\")\n",
    "      cell_wells <- rbind(cell_wells, temp)\n",
    "    } else if (BC1 == 'TACGGTTA' | BC1 == 'CATAGCTA'){\n",
    "      temp <- data.frame(barcode = barcodes[i], well = \"B11\")\n",
    "      cell_wells <- rbind(cell_wells, temp)\n",
    "    } else if (BC1 == 'TTGGGAGA' | BC1 == 'GAGGTTGA'){\n",
    "      temp <- data.frame(barcode = barcodes[i], well = \"B12\")\n",
    "      cell_wells <- rbind(cell_wells, temp)\n",
    "    } else if (BC1 == 'TGCTTGGG' | BC1 == 'GCACTGAC'){\n",
    "      temp <- data.frame(barcode = barcodes[i], well = \"C1\")\n",
    "      cell_wells <- rbind(cell_wells, temp)\n",
    "    } else if (BC1 == 'TAAATATC' | BC1 == 'TTCATCGC'){\n",
    "      temp <- data.frame(barcode = barcodes[i], well = \"C2\")\n",
    "      cell_wells <- rbind(cell_wells, temp)\n",
    "    } else if (BC1 == 'CACAATTG' | BC1 == 'GAAATTAG'){\n",
    "      temp <- data.frame(barcode = barcodes[i], well = \"C3\")\n",
    "      cell_wells <- rbind(cell_wells, temp)\n",
    "    } else if (BC1 == 'GTGCTAGC' | BC1 == 'AGGATTAA'){\n",
    "      temp <- data.frame(barcode = barcodes[i], well = \"C4\")\n",
    "      cell_wells <- rbind(cell_wells, temp)\n",
    "    } else if (BC1 == 'CGCCCGGA' | BC1 == 'AATAGAAC'){\n",
    "      temp <- data.frame(barcode = barcodes[i], well = \"C5\")\n",
    "      cell_wells <- rbind(cell_wells, temp)\n",
    "    } else if (BC1 == 'GCTCGCGG' | BC1 == 'TCTTAATC'){\n",
    "      temp <- data.frame(barcode = barcodes[i], well = \"C6\")\n",
    "      cell_wells <- rbind(cell_wells, temp)\n",
    "    } else if (BC1 == 'CTTTGGTC' | BC1 == 'TAATACGC'){\n",
    "      temp <- data.frame(barcode = barcodes[i], well = \"C7\")\n",
    "      cell_wells <- rbind(cell_wells, temp)\n",
    "    } else if (BC1 == 'TTCCGATC' | BC1 == 'GTTTGTGA'){\n",
    "      temp <- data.frame(barcode = barcodes[i], well = \"C8\")\n",
    "      cell_wells <- rbind(cell_wells, temp)\n",
    "    } else if (BC1 == 'TTCGCTAC' | BC1 == 'CGAACGTC'){\n",
    "      temp <- data.frame(barcode = barcodes[i], well = \"C9\")\n",
    "      cell_wells <- rbind(cell_wells, temp)\n",
    "    } else if (BC1 == 'AGCGAAAC' | BC1 == 'GGTTCTTC'){\n",
    "      temp <- data.frame(barcode = barcodes[i], well = \"C10\")\n",
    "      cell_wells <- rbind(cell_wells, temp)\n",
    "    } else if (BC1 == 'AAATAGCA' | BC1 == 'GCAAATTC'){\n",
    "      temp <- data.frame(barcode = barcodes[i], well = \"C11\")\n",
    "      cell_wells <- rbind(cell_wells, temp)\n",
    "    } else if (BC1 == 'CGTCTAGG' | BC1 == 'GCTATGCG'){\n",
    "      temp <- data.frame(barcode = barcodes[i], well = \"C12\")\n",
    "      cell_wells <- rbind(cell_wells, temp)\n",
    "    } else if (BC1 == 'GCCGTGTA' | BC1 == 'CTACCCTA'){\n",
    "      temp <- data.frame(barcode = barcodes[i], well = \"D1\")\n",
    "      cell_wells <- rbind(cell_wells, temp)\n",
    "    } else if (BC1 == 'CGCTTAAA' | BC1 == 'GTGGGTTC'){\n",
    "      temp <- data.frame(barcode = barcodes[i], well = \"D2\")\n",
    "      cell_wells <- rbind(cell_wells, temp)\n",
    "    } else if (BC1 == 'GACCTTTC' | BC1 == 'GTCCGTAG'){\n",
    "      temp <- data.frame(barcode = barcodes[i], well = \"D3\")\n",
    "      cell_wells <- rbind(cell_wells, temp)\n",
    "    } else if (BC1 == 'GGTGGAGC' | BC1 == 'TGCGATCG'){\n",
    "      temp <- data.frame(barcode = barcodes[i], well = \"D4\")\n",
    "      cell_wells <- rbind(cell_wells, temp)\n",
    "    } else if (BC1 == 'TACTCGAA' | BC1 == 'TATCCGGG'){\n",
    "      temp <- data.frame(barcode = barcodes[i], well = \"D5\")\n",
    "      cell_wells <- rbind(cell_wells, temp)\n",
    "    } else if (BC1 == 'CATTTGGA' | BC1 == 'AGGTAATA'){\n",
    "      temp <- data.frame(barcode = barcodes[i], well = \"D6\")\n",
    "      cell_wells <- rbind(cell_wells, temp)\n",
    "    } else if (BC1 == 'GACGGGAC' | BC1 == 'CGTGGTTG'){\n",
    "      temp <- data.frame(barcode = barcodes[i], well = \"D7\")\n",
    "      cell_wells <- rbind(cell_wells, temp)\n",
    "    } else if (BC1 == 'GTCGCGCG' | BC1 == 'GACAAAGC'){\n",
    "      temp <- data.frame(barcode = barcodes[i], well = \"D8\")\n",
    "      cell_wells <- rbind(cell_wells, temp)\n",
    "    } else if (BC1 == 'GTTACGTA' | BC1 == 'GGGCGATG'){\n",
    "      temp <- data.frame(barcode = barcodes[i], well = \"D9\")\n",
    "      cell_wells <- rbind(cell_wells, temp)\n",
    "    } else if (BC1 == 'CTATTTCA' | BC1 == 'ATCTATAA'){\n",
    "      temp <- data.frame(barcode = barcodes[i], well = \"D10\")\n",
    "      cell_wells <- rbind(cell_wells, temp)\n",
    "    } else if (BC1 == 'ACTATATA' | BC1 == 'GCCCATGA'){\n",
    "      temp <- data.frame(barcode = barcodes[i], well = \"D11\")\n",
    "      cell_wells <- rbind(cell_wells, temp)\n",
    "    } else if (BC1 == 'TCACTTTA' | BC1 == 'CTGAAAGG'){\n",
    "      temp <- data.frame(barcode = barcodes[i], well = \"D12\")\n",
    "      cell_wells <- rbind(cell_wells, temp)\n",
    "    } else {\n",
    "      temp <- data.frame(barcode = barcodes[i], well = \"unknown\")\n",
    "      cell_wells <- rbind(cell_wells, temp) \n",
    "    }\n",
    "    #print(i)\n",
    "  }\n",
    "\n",
    "  return(cell_wells)\n",
    "}"
   ]
  },
  {
   "cell_type": "code",
   "execution_count": 4,
   "metadata": {
    "vscode": {
     "languageId": "r"
    }
   },
   "outputs": [],
   "source": [
    "# Chargement des fonctions R \n",
    "\n",
    "round_one_bc_collapse <- function(data, threshold){\n",
    "  \n",
    "  r6pt <- read.csv('7_Article/script/utile_bact/r6ptorderedbcs.csv')\n",
    "  r6pt <- r6pt$x\n",
    "  \n",
    "  temp <- data[,r6pt]\n",
    " \n",
    "  temp <- temp[,which(c(1:length(r6pt))%%2==1)] + temp[,which(c(1:length(r6pt))%%2==0)]\n",
    " \n",
    " colnames(temp) <- r6pt[which(c(1:length(r6pt))%%2==1)]\n",
    " rownames(temp) <- rownames(data)\n",
    " \n",
    " temp <- temp[,which(colSums(temp) > 0)]\n",
    " \n",
    " y = as.numeric(log(colSums(temp)[order(colSums(temp), decreasing = TRUE)]))\n",
    " x = log(c(1:length(y)))\n",
    " plot(x,y)\n",
    "\n",
    " slope = as.numeric((y[length(y)]-y[1])/(x[length(x)]-x[1]))\n",
    " yline = slope*x + y[1]\n",
    " lines(x,yline, col = 2)\n",
    "\n",
    " d = sqrt((y-yline)^2)\n",
    " plot(x,d)\n",
    " d2 = d[which(d >= d[which.max(d)]*threshold)]\n",
    " x2 = x[which(d >= d[which.max(d)]*threshold)]\n",
    " points(x2,d2, col = 3)\n",
    " \n",
    " temp <- temp[,which(colSums(temp) >= exp(y[which(x == x2[which.max(x2)])]))]\n",
    " #dim(temp)\n",
    " \n",
    " return(temp)\n",
    "}"
   ]
  },
  {
   "cell_type": "code",
   "execution_count": null,
   "metadata": {
    "vscode": {
     "languageId": "r"
    }
   },
   "outputs": [],
   "source": [
    "create_seurat_object_from_seq_files <- function(data_dir, sublibrary, ribosome_removal, threshold = NULL, ribosome_file = NULL) {\n",
    "  # TODO: Améliorer la gestion des doublons au lieu de les supprimer\n",
    "  # FIXME: \n",
    "\n",
    "  # Cette fonction crée un objet Seurat à partir de fichiers de données de séquençage\n",
    "\n",
    "  # data_dir : chemin du répertoire contenant les fichiers de données\n",
    "  # sublibrary : nom de la sous-bibliothèque\n",
    "  # ribosome_removal : 'rRNA' pour supprimer les reads ribosomiques, 'none' sinon\n",
    "  # threshold : seuil de filtrage des cellules si nécessaire (NULL par défaut)\n",
    "  # ribosome_file : chemin du fichier de ribosomes\n",
    "\n",
    "  # Vérifier si le répertoire de données existe\n",
    "  if (!dir.exists(data_dir)) {\n",
    "    stop(\"Le répertoire spécifié n'existe pas : \", data_dir)\n",
    "  }\n",
    "  \n",
    "  # Construire les chemins des fichiers\n",
    "  matrix_file <- file.path(data_dir, \"UniqueAndMult-Uniform.mtx\")\n",
    "  features_file <- file.path(data_dir, \"features.tsv\")\n",
    "  barcodes_file <- file.path(data_dir, \"barcodes.tsv\")\n",
    "\n",
    "  # Vérifier si les fichiers existent\n",
    "  if (!file.exists(matrix_file) || !file.exists(features_file) || !file.exists(barcodes_file)) {\n",
    "    stop(\"Un ou plusieurs fichiers de données sont introuvables dans : \", data_dir)\n",
    "  }\n",
    "\n",
    "  #Verifier si possède les fonctions utilisées : convert_gene_names_bacteria, round_one_bc_collapse, assign_cell_wells\n",
    "  if (!exists(\"convert_gene_names_bacteria\")) {\n",
    "    stop(\"La fonction convert_gene_names_bacteria n'est pas définie.\")\n",
    "  }\n",
    "  if (!exists(\"round_one_bc_collapse\")) {\n",
    "    stop(\"La fonction round_one_bc_collapse n'est pas définie.\")\n",
    "  }\n",
    "  if (!exists(\"assign_cell_wells\")) {\n",
    "    stop(\"La fonction assign_cell_wells n'est pas définie.\")\n",
    "  }\n",
    "  \n",
    "  # Vérifier si les packages nécessaires sont installés\n",
    "  if (!requireNamespace(\"Seurat\", quietly = TRUE)) {\n",
    "    stop(\"Le package Seurat n'est pas installé.\")\n",
    "  }\n",
    "  if (!requireNamespace(\"Matrix\", quietly = TRUE)) {\n",
    "    stop(\"Le package Matrix n'est pas installé.\")\n",
    "  }\n",
    "\n",
    "\n",
    "  # Lecture des fichiers de comptage\n",
    "  data <- readMM(matrix_file)\n",
    "  genes <- read.table(features_file, sep = \"\\t\", header = FALSE, stringsAsFactors = FALSE)$V1\n",
    "  genes <- convert_gene_names_bacteria(genes)\n",
    "  barcodes <- read.table(barcodes_file, sep = \"\\t\", header = FALSE, stringsAsFactors = FALSE)$V1\n",
    "  \n",
    "  # Structuration des données\n",
    "  rownames(data) <- genes\n",
    "  colnames(data) <- barcodes\n",
    "\n",
    "  # Filtrage des cellules uniquement si un seuil est spécifié\n",
    "  if (!is.null(threshold)) {\n",
    "    filteredData <- round_one_bc_collapse(data, threshold)\n",
    "  } else {\n",
    "    filteredData <- data  # Aucune suppression si threshold est NULL\n",
    "  }\n",
    "\n",
    "  # Vérifier s'il y a des doublons et les supprimer\n",
    "  if (any(duplicated(rownames(filteredData)))) {\n",
    "    warning(\"Des gènes en double ont été trouvés et seront supprimés.\")\n",
    "    duplicated_genes <- rownames(filteredData)[duplicated(rownames(filteredData))]\n",
    "    print(duplicated_genes)\n",
    "    filteredData <- filteredData[!duplicated(rownames(filteredData)), ]\n",
    "  }\n",
    "\n",
    "  # Gestion des reads ribosomiques si nécessaire\n",
    "  if (ribosome_removal == 'rRNA') {\n",
    "    # Vérifier que le fichier de ribosomes est fourni\n",
    "    if (is.null(ribosome_file) || !file.exists(ribosome_file)) {\n",
    "      stop(\"Le fichier de ribosomes est introuvable ou non spécifié : \", ribosome_file)\n",
    "    }\n",
    "    \n",
    "    ribosomes <- read.csv(ribosome_file, stringsAsFactors = FALSE)\n",
    "    colnames(ribosomes) <- c('gene', 'type')\n",
    "    rRNA <- ribosomes[ribosomes$type == 'rRNA', ]\n",
    "    mRNA <- filteredData[!(rownames(filteredData) %in% rRNA$gene), ]\n",
    "    \n",
    "    # Création de l'objet Seurat avec les reads mRNA uniquement\n",
    "    SO <- CreateSeuratObject(counts = mRNA)\n",
    "  } else {\n",
    "    # Création de l'objet Seurat sans suppression des reads ribosomiques\n",
    "    SO <- CreateSeuratObject(counts = filteredData, min.cells = 15, min.features = 5)\n",
    "  }\n",
    "\n",
    "# Ajout de métadonnées\n",
    "wells <- assign_cell_wells(colnames(SO@assays$RNA))\n",
    "\n",
    "# Assigner directement les données de 'well' et 'sublibrary' au Seurat object\n",
    "SO[[\"well\"]] <- wells$well\n",
    "SO$sublibrary <- sublibrary\n",
    "  \n",
    "  return(SO)\n",
    "}"
   ]
  },
  {
   "cell_type": "code",
   "execution_count": 14,
   "metadata": {
    "vscode": {
     "languageId": "r"
    }
   },
   "outputs": [],
   "source": [
    "\n",
    "# Chargement des fichiers utilisés pour l'analyse : \n",
    "\n",
    "## Chargement des données STARsolo pour les deux réplicats avec chacun  :\n",
    "\n",
    "# barcodes.tsv => les codes-barres des cellules\n",
    "# features.tsv => les gènes\n",
    "\n",
    "# UniqueAndMult-Uniform.mtx => les comptages de gènes par cellule (ici en format Matrix Market) et contient les allignements uniques et multiples des reads (un read peut être aligné à plusieurs endroits dans le génome)\n",
    "# matrix.mtx => les comptages de gènes par cellule (ici en format Matrix Market) et contient les allignements uniques des reads (un read est aligné à un seul endroit dans le génome)\n",
    "\n",
    "#Gene or genefull (ici GeneFull : Résultats similaires à Gene/, mais en incluant **toutes les régions des gènes** et pas seulement les exons)) \n",
    "#raw or filtered data (ici raw : pas de préfiltrage StarSolo)\n",
    "\n",
    "# Replica n°1 : M15 (GEO61)\n",
    "replica1 <- '7_Article/data/data_osf/GEO061'\n",
    "# Replica n°2 : M14 (GEO60)\n",
    "replica2 <- '7_Article/data/data_osf/GEO060'\n",
    "\n",
    "\n",
    "\n",
    "# fichier de ribosomes\n",
    "ribosome_file <- '7_Article/script/utile_bact/bacteria.ribosomes.csv'"
   ]
  },
  {
   "cell_type": "code",
   "execution_count": 15,
   "metadata": {
    "vscode": {
     "languageId": "r"
    }
   },
   "outputs": [
    {
     "data": {
      "image/png": "[encoded data removed]",
      "text/plain": [
       "plot without title"
      ]
     },
     "metadata": {
      "image/png": {
       "height": 420,
       "width": 420
      }
     },
     "output_type": "display_data"
    },
    {
     "name": "stderr",
     "output_type": "stream",
     "text": [
      "Warning message in create_seurat_object_from_seq_files(replica1, \"M15\", ribosome_removal = \"rRNA\", :\n",
      "“Des gènes en double ont été trouvés et seront supprimés.”\n"
     ]
    },
    {
     "name": "stdout",
     "output_type": "stream",
     "text": [
      " [1] \"bs-ydzT\" \"bs-ydzT\" \"bs-ydzW\" \"bs-yetI\" \"bs-panE\" \"bs-yoyK\" \"bs-gswA\"\n",
      " [8] \"bs-ypuC\" \"bs-ispA\" \"bs-estA\" \"bs-epsK\" \"bs-epsJ\" \"bs-spsC\"\n"
     ]
    },
    {
     "name": "stderr",
     "output_type": "stream",
     "text": [
      "Warning message:\n",
      "“Feature names cannot have underscores ('_'), replacing with dashes ('-')”\n",
      "Warning message:\n",
      "“Data is of class dgTMatrix. Coercing to dgCMatrix.”\n"
     ]
    },
    {
     "data": {
      "text/plain": [
       "An object of class Seurat \n",
       "4493 features across 5461 samples within 1 assay \n",
       "Active assay: RNA (4493 features, 0 variable features)\n",
       " 1 layer present: counts"
      ]
     },
     "metadata": {},
     "output_type": "display_data"
    },
    {
     "data": {
      "image/png": "[encoded data removed]",
      "text/plain": [
       "plot without title"
      ]
     },
     "metadata": {
      "image/png": {
       "height": 420,
       "width": 420
      }
     },
     "output_type": "display_data"
    }
   ],
   "source": [
    "create_seurat_object_from_seq_files(replica1, 'M15', ribosome_removal = 'rRNA', threshold = 0.85, ribosome_file = ribosome_file)"
   ]
  },
  {
   "cell_type": "code",
   "execution_count": null,
   "metadata": {
    "vscode": {
     "languageId": "r"
    }
   },
   "outputs": [
    {
     "name": "stderr",
     "output_type": "stream",
     "text": [
      "Warning message in create_seurat_object_from_seq_files(replica1, \"M15\", ribosome_removal = \"rRNA\", :\n",
      "“Des gènes en double ont été trouvés et seront supprimés.”\n"
     ]
    },
    {
     "name": "stdout",
     "output_type": "stream",
     "text": [
      " [1] \"bs-ydzT\" \"bs-ydzT\" \"bs-ydzW\" \"bs-yetI\" \"bs-panE\" \"bs-yoyK\" \"bs-gswA\"\n",
      " [8] \"bs-ypuC\" \"bs-ispA\" \"bs-estA\" \"bs-epsK\" \"bs-epsJ\" \"bs-spsC\"\n"
     ]
    },
    {
     "name": "stderr",
     "output_type": "stream",
     "text": [
      "Warning message:\n",
      "“Feature names cannot have underscores ('_'), replacing with dashes ('-')”\n",
      "Warning message:\n",
      "“Data is of class dgTMatrix. Coercing to dgCMatrix.”\n"
     ]
    }
   ],
   "source": [
    "M15_  <- create_seurat_object_from_seq_files(replica1, 'M15', ribosome_removal = 'rRNA', threshold = NULL, ribosome_file = ribosome_file)\n",
    "\n",
    "\n"
   ]
  },
  {
   "cell_type": "code",
   "execution_count": 8,
   "metadata": {
    "vscode": {
     "languageId": "r"
    }
   },
   "outputs": [
    {
     "ename": "ERROR",
     "evalue": "Error: object 'te' not found\n",
     "output_type": "error",
     "traceback": [
      "Error: object 'te' not found\nTraceback:\n"
     ]
    }
   ],
   "source": [
    "te"
   ]
  },
  {
   "cell_type": "code",
   "execution_count": null,
   "metadata": {
    "vscode": {
     "languageId": "r"
    }
   },
   "outputs": [
    {
     "name": "stderr",
     "output_type": "stream",
     "text": [
      "Warning message in create_seurat_object_from_seq_files(replica1, \"M15\", ribosome_removal = \"rRNA\", :\n",
      "“Des gènes en double ont été trouvés et seront supprimés.”\n"
     ]
    },
    {
     "name": "stdout",
     "output_type": "stream",
     "text": [
      " [1] \"bs-ydzT\" \"bs-ydzT\" \"bs-ydzW\" \"bs-yetI\" \"bs-panE\" \"bs-yoyK\" \"bs-gswA\"\n",
      " [8] \"bs-ypuC\" \"bs-ispA\" \"bs-estA\" \"bs-epsK\" \"bs-epsJ\" \"bs-spsC\"\n"
     ]
    },
    {
     "name": "stderr",
     "output_type": "stream",
     "text": [
      "Warning message:\n",
      "“Feature names cannot have underscores ('_'), replacing with dashes ('-')”\n",
      "Warning message:\n",
      "“Data is of class dgTMatrix. Coercing to dgCMatrix.”\n"
     ]
    }
   ],
   "source": [
    "create_seurat_object_from_seq_files(replica1, 'M15', ribosome_removal = 'rRNA', threshold = NULL, ribosome_file = ribosome_file)"
   ]
  },
  {
   "cell_type": "code",
   "execution_count": null,
   "metadata": {
    "vscode": {
     "languageId": "r"
    }
   },
   "outputs": [],
   "source": [
    "create_seurat_object_from_seq_files(replica1, 'M15', ribosome_removal = 'rRNA', threshold = 0.85, ribosome_file = ribosome_file)"
   ]
  }
 ],
 "metadata": {
  "kernelspec": {
   "display_name": "R",
   "language": "R",
   "name": "ir"
  },
  "language_info": {
   "codemirror_mode": "r",
   "file_extension": ".r",
   "mimetype": "text/x-r-source",
   "name": "R",
   "pygments_lexer": "r",
   "version": "4.4.1"
  }
 },
 "nbformat": 4,
 "nbformat_minor": 2
}
