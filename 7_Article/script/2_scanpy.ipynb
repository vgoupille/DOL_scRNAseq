{
 "cells": [
  {
   "cell_type": "code",
   "execution_count": 1,
   "metadata": {},
   "outputs": [
    {
     "name": "stdout",
     "output_type": "stream",
     "text": [
      "Barcodes: 2682, Genes: 7568, DCM shape: (2682, 7568)\n"
     ]
    }
   ],
   "source": [
    "import pandas as pd\n",
    "import scanpy as sc\n",
    "import numpy as np\n",
    "from scipy.sparse import csr_matrix\n",
    "\n",
    "# Charger les fichiers CSV\n",
    "barcodes = pd.read_csv(\"7_Article/data/GSE_extracted/GSM4594094_M11_barcodes.csv\", header=None)[0]  # Liste des cellules\n",
    "genes = pd.read_csv(\"7_Article/data/GSE_extracted/GSM4594094_M11_genes.csv\", header=None)[0]  # Liste des gènes\n",
    "dcm = pd.read_csv(\"7_Article/data/GSE_extracted/GSM4594094_M11_dcm.csv\", header=None)  # Matrice d'expression (comptages)\n",
    "\n",
    "# Vérifier les dimensions\n",
    "print(f\"Barcodes: {len(barcodes)}, Genes: {len(genes)}, DCM shape: {dcm.shape}\")"
   ]
  },
  {
   "cell_type": "code",
   "execution_count": 2,
   "metadata": {},
   "outputs": [
    {
     "name": "stdout",
     "output_type": "stream",
     "text": [
      "AnnData object with n_obs × n_vars = 2682 × 7568\n"
     ]
    }
   ],
   "source": [
    "# Conversion en matrice sparse pour économiser de la mémoire\n",
    "X = csr_matrix(dcm.values)  # Convertir en format sparse si les données sont volumineuses\n",
    "\n",
    "# Création de l'objet AnnData\n",
    "adata = sc.AnnData(X=X)\n",
    "\n",
    "# Ajouter les noms des cellules et des gènes\n",
    "adata.obs_names = barcodes  # Identifiants des cellules\n",
    "adata.var_names = genes  # Identifiants des gènes\n",
    "\n",
    "# Vérifier l'objet créé\n",
    "print(adata)"
   ]
  },
  {
   "cell_type": "code",
   "execution_count": 3,
   "metadata": {},
   "outputs": [
    {
     "data": {
      "text/plain": [
       "AnnData object with n_obs × n_vars = 2682 × 7568"
      ]
     },
     "execution_count": 3,
     "metadata": {},
     "output_type": "execute_result"
    }
   ],
   "source": [
    "adata"
   ]
  },
  {
   "cell_type": "code",
   "execution_count": null,
   "metadata": {},
   "outputs": [],
   "source": [
    "adata.write(\"7_Article/results/data.h5ad\")  # Sauvegarde dans le dossier \"results\"\n",
    "print(os.path.exists(\"7_Article/results/data.h5ad\"))  # True si le fichier est bien enregistré"
   ]
  },
  {
   "cell_type": "code",
   "execution_count": null,
   "metadata": {},
   "outputs": [],
   "source": []
  }
 ],
 "metadata": {
  "kernelspec": {
   "display_name": "shortcake_default",
   "language": "python",
   "name": "shortcake_default"
  },
  "language_info": {
   "codemirror_mode": {
    "name": "ipython",
    "version": 3
   },
   "file_extension": ".py",
   "mimetype": "text/x-python",
   "name": "python",
   "nbconvert_exporter": "python",
   "pygments_lexer": "ipython3",
   "version": "3.10.16"
  }
 },
 "nbformat": 4,
 "nbformat_minor": 2
}
