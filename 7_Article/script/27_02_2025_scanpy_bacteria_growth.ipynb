{
 "cells": [
  {
   "cell_type": "code",
   "execution_count": null,
   "metadata": {},
   "outputs": [],
   "source": [
    "Pour se connecter à ce notebook \n",
    "Besoin de lancer  l'image singularity de : _Containers/shortcakelight.sif\n",
    "\n",
    "https://github.com/rnakato/ShortCake/tree/master\n",
    "Est conçu spécifiquement pour les analyses de données single cell\n",
    "\n",
    "Pour lancer l'image singularity et pouvoir se connecter aux notebooks jupyter:\n",
    "srun --pty bash\n",
    "singularity exec 6_Containers/shortcakelight.sif jupyternotebook.sh\n",
    "\n",
    "puis faire le lien ssh sur l'ordi avec cette commande  que l'on ecrit dans le terminal local: \n",
    "ssh -A -t -t vgoupille@genossh.genouest.org -L 8888:localhost:8888 ssh cl1n030 -L 8888:localhost:8888\n",
    "modifier le port (numero et noeud si besoin)\n",
    "\n",
    "si probleme de connection \n",
    "\n",
    "ls -a\n",
    "rm -r .vscode-server\n",
    "puis se remet sur vscode \n",
    "et refait la liaison avec ssh remote (et reinstaller les extensions...)"
   ]
  },
  {
   "cell_type": "code",
   "execution_count": null,
   "metadata": {},
   "outputs": [],
   "source": [
    "Library strategy: microSPLiT\n",
    "The data preprocessing and alignment was performed using a modified SPLiT-seq pipeline (https://github.com/Alex-Rosenberg/split-seq-pipeline). Modifications: using STAR with the splicing isoform detection swiwwe usededt the hioutghoutest-scored multimapping re. We also keptwening a ctional count based on the number igninggood alignments, since bacterial genomes are known to contain overlapping CDSs.\n",
    "Genome_build: ASM904v1.45 and ASM80076v1.37 from EnsemblBacteria\n",
    "Supplementary_files_format_and_content: Cell by gene matrix (with cells above threshold 200 UMI/cell); Gene names; Cell annotations (barcode and well for heat shock data, OD for B.subtilis growth curve). For B. Subtilis growth curve, only mRNA are included in the cell-by-gene matrix.\n",
    "Supplementary_files_format_and_content: For the heat-shock data, barcodes in wells 1-24 belong to heat-shocked cells and in wells 25-48 belong to control cells."
   ]
  },
  {
   "cell_type": "code",
   "execution_count": null,
   "metadata": {},
   "outputs": [],
   "source": [
    "Ce texte décrit les stratégies et les méthodes utilisées pour traiter et aligner les données issues de l’expérience scRNA-seq réalisée avec la méthode microSPLiT.\n",
    "\t1.\tStratégie de séquençage (Library strategy) :\n",
    "\t•\tLa méthode utilisée est microSPLiT, qui est une adaptation de la technique SPLiT-seq, permettant de réaliser du scRNA-seq sans nécessiter d’isolation physique des cellules.\n",
    "\t2.\tPrétraitement et alignement des données :\n",
    "\t•\tL’alignement des séquences a été effectué avec une version modifiée du pipeline SPLiT-seq disponible sur GitHub (https://github.com/Alex-Rosenberg/split-seq-pipeline).\n",
    "\t•\tModifications apportées :\n",
    "\t•\tUtilisation de STAR (un logiciel d’alignement des lectures RNA-seq) avec une détection des isoformes d’épissage.\n",
    "\t•\tSélection des meilleurs alignements multimapping selon un critère de score élevé.\n",
    "\t•\tConservation d’un compte fonctionnel basé sur le nombre d’alignements de bonne qualité, ce qui est pertinent pour les génomes bactériens où plusieurs CDSs (séquences codantes) peuvent se chevaucher.\n",
    "\t3.\tRéférences génomiques utilisées :\n",
    "\t•\tLes génomes de référence utilisés pour l’alignement sont :\n",
    "\t•\tASM904v1.45\n",
    "\t•\tASM80076v1.37\n",
    "\t•\tCes versions proviennent de la base de données EnsemblBacteria.\n",
    "\t4.\tFichiers supplémentaires et leur contenu :\n",
    "\t•\tLes fichiers supplémentaires fournis incluent :\n",
    "\t•\tMatrice cellule-gène (contenant uniquement les cellules ayant un minimum de 200 UMI/cellule).\n",
    "\t•\tNoms des gènes.\n",
    "\t•\tAnnotations des cellules :\n",
    "\t•\tPour les données du stress thermique (heat-shock) : les cellules sont annotées par code-barres et puits.\n",
    "\t•\tPour la courbe de croissance de Bacillus subtilis : les cellules sont annotées selon leur densité optique (OD). Seuls les ARNm (mRNA) sont inclus dans la matrice cellule-gène.\n",
    "\t5.\tOrganisation des cellules dans l’expérience de stress thermique :\n",
    "\t•\tLes cellules sont disposées dans 48 puits, avec une distinction entre conditions :\n",
    "\t•\tPuits 1-24 : cellules soumises au stress thermique.\n",
    "\t•\tPuits 25-48 : cellules témoins (non soumises au stress thermique).\n",
    "\n",
    "replica 1 : M11 => B. subtilis PY79 (OD0.5-OD3.2)\n",
    "\n",
    "replica 2 : M14 => B. subtilis PY79 (OD0.5-OD6.0)\n",
    "\n",
    "other plate : M15 =>\tB. subtilis PY79 + E. coli MW1255"
   ]
  },
  {
   "cell_type": "markdown",
   "metadata": {},
   "source": [
    "#Ici utilisé les données de sorties de StarSOLO qui sont sur le site : https://osf.io/kjfbz/files/osfstorage?view_only=#\n",
    "GEO60  et GEO61\n",
    "\n"
   ]
  },
  {
   "cell_type": "markdown",
   "metadata": {},
   "source": [
    "# info sur les objets de type Anndata\n",
    "https://anndata.readthedocs.io/en/latest/tutorials/notebooks/getting-started.html\n",
    "\n",
    "# info sur l'utilisation de Scanpy \n",
    "https://scanpy.readthedocs.io/en/stable/tutorials/basics/clustering.html"
   ]
  },
  {
   "cell_type": "code",
   "execution_count": 13,
   "metadata": {},
   "outputs": [
    {
     "name": "stderr",
     "output_type": "stream",
     "text": [
      "/tmp/ipykernel_15426/4188076402.py:15: DtypeWarning: Columns (0,1,2,3,4) have mixed types. Specify dtype option on import or set low_memory=False.\n",
      "  matrix = pd.read_csv(f\"{data_dir}matrix.mtx\", skiprows=0, header=None, sep=\" \")\n"
     ]
    },
    {
     "name": "stdout",
     "output_type": "stream",
     "text": [
      "barcode file :\n",
      "0    AAACATCG_AAACATCG_AAACGATA\n",
      "1    AACAACCA_AAACATCG_AAACGATA\n",
      "2    AACCGAGA_AAACATCG_AAACGATA\n",
      "3    AACGCTTA_AAACATCG_AAACGATA\n",
      "4    AACGTGAT_AAACATCG_AAACGATA\n",
      "Name: 0, dtype: object\n",
      "genes names file :\n",
      "           0          1                2\n",
      "0  BSU_00010  BSU_00010  Gene Expression\n",
      "1  BSU_00020  BSU_00020  Gene Expression\n",
      "2  BSU_00030  BSU_00030  Gene Expression\n",
      "3  BSU_00040  BSU_00040  Gene Expression\n",
      "4  BSU_00050  BSU_00050  Gene Expression\n",
      "matrix file :\n",
      "                0       1           2        3        4\n",
      "0  %%MatrixMarket  matrix  coordinate  integer  general\n",
      "1               %     NaN         NaN      NaN      NaN\n",
      "2            4536  884736     4988151      NaN      NaN\n",
      "3             143       2           1      NaN      NaN\n",
      "4             652      20           1      NaN      NaN\n",
      "AnnData object with n_obs × n_vars = 884736 × 4536\n",
      "    obs: 'barcode'\n",
      "    var: 'gene_id'\n",
      "                                               barcode\n",
      "AAACATCG_AAACATCG_AAACGATA  AAACATCG_AAACATCG_AAACGATA\n",
      "AACAACCA_AAACATCG_AAACGATA  AACAACCA_AAACATCG_AAACGATA\n",
      "AACCGAGA_AAACATCG_AAACGATA  AACCGAGA_AAACATCG_AAACGATA\n",
      "AACGCTTA_AAACATCG_AAACGATA  AACGCTTA_AAACATCG_AAACGATA\n",
      "AACGTGAT_AAACATCG_AAACGATA  AACGTGAT_AAACATCG_AAACGATA\n",
      "             gene_id\n",
      "BSU_00010  BSU_00010\n",
      "BSU_00020  BSU_00020\n",
      "BSU_00030  BSU_00030\n",
      "BSU_00040  BSU_00040\n",
      "BSU_00050  BSU_00050\n"
     ]
    }
   ],
   "source": [
    "# Load libraries and abreviate them\n",
    "import pandas as pd\n",
    "import scanpy as sc\n",
    "import numpy as np\n",
    "from scipy.sparse import csr_matrix\n",
    "import pprint as pp\n",
    "\n",
    "\n",
    "# Définition du chemin des fichiers\n",
    "data_dir = \"7_Article/data/data_osf/GEO660/\"\n",
    "\n",
    "# Chargement des barcodes et des gènes\n",
    "barcodes = pd.read_csv(f\"{data_dir}barcodes.tsv\", header=None, sep=\"\\t\")[0]\n",
    "features = pd.read_csv(f\"{data_dir}features.tsv\", header=None, sep=\"\\t\")\n",
    "matrix = pd.read_csv(f\"{data_dir}matrix.mtx\", skiprows=0, header=None, sep=\" \")\n",
    "#Preview the data\n",
    "print ( \"barcode file :\")\n",
    "print(barcodes.head())\n",
    "print ( \"genes names file :\")\n",
    "print(features.head())\n",
    "print ( \"matrix file :\")\n",
    "print(matrix.head())\n",
    "\n",
    "# Chargement de la matrice en format sparse\n",
    "#adata = sc.read_mtx(f\"{data_dir}matrix.mtx\").T  # Transposition pour correspondre aux dimensions attendues\n",
    "adata = sc.read_mtx(f\"{data_dir}UniqueAndMult-Uniform.mtx\").T  # Transposition pour correspondre aux dimensions attendues\n",
    "\n",
    "\n",
    "\n",
    "\n",
    "\n",
    "# Attribution des noms aux cellules (obs) et aux gènes (var)\n",
    "adata.obs_names = barcodes\n",
    "adata.var_names = features[1]  # Deuxième colonne pour les noms de gènes\n",
    "\n",
    "# Ajout des métadonnées minimales (n'est pas obligatoire)\n",
    "adata.obs[\"barcode\"] = adata.obs.index\n",
    "adata.var[\"gene_id\"] = adata.var.index\n",
    "\n",
    "# Conversion explicite en format sparse pour optimiser la mémoire\n",
    "adata.X = csr_matrix(adata.X)\n",
    "\n",
    "# Affichage des informations principales\n",
    "print(adata)  \n",
    "#print(adata.obs.head())  # Vérification des cellules\n",
    "#print(adata.var.head())  # Vérification des gènes\n",
    "\n",
    "pp.pprint(adata.obs.head())  # Vérification des cellules\n",
    "pp.pprint(adata.var.head())  # Vérification des gènes\n"
   ]
  },
  {
   "cell_type": "code",
   "execution_count": 6,
   "metadata": {},
   "outputs": [
    {
     "name": "stdout",
     "output_type": "stream",
     "text": [
      "0    AAACATCG_AAACATCG_AAACGATA\n",
      "1    AACAACCA_AAACATCG_AAACGATA\n",
      "2    AACCGAGA_AAACATCG_AAACGATA\n",
      "3    AACGCTTA_AAACATCG_AAACGATA\n",
      "4    AACGTGAT_AAACATCG_AAACGATA\n",
      "Name: 0, dtype: object\n",
      "           0          1                2\n",
      "0  BSU_00010  BSU_00010  Gene Expression\n",
      "1  BSU_00020  BSU_00020  Gene Expression\n",
      "2  BSU_00030  BSU_00030  Gene Expression\n",
      "3  BSU_00040  BSU_00040  Gene Expression\n",
      "4  BSU_00050  BSU_00050  Gene Expression\n"
     ]
    }
   ],
   "source": [
    "\n",
    "print(barcodes.head())  # Vérifie les premiers barcodes (cellules)\n",
    "print(features.head())  # Vérifie les premiers gènes"
   ]
  },
  {
   "cell_type": "code",
   "execution_count": 14,
   "metadata": {},
   "outputs": [
    {
     "name": "stdout",
     "output_type": "stream",
     "text": [
      "True\n"
     ]
    }
   ],
   "source": [
    "import os\n",
    "#print(os.getcwd())  # Affiche le répertoire de travail actuel\n",
    "os.makedirs(\"7_Article/results/bacteria_growth\", exist_ok=True)  # Crée le dossier s'il n'existe pas\n",
    "adata.write(\"7_Article/results/bacteria_growth/data.h5ad\")  # Sauvegarde dans le dossier \"results\"\n",
    "print(os.path.exists(\"7_Article/results/bacteria_growth/data.h5ad\"))  # True si le fichier est bien enregistré"
   ]
  },
  {
   "cell_type": "code",
   "execution_count": 16,
   "metadata": {},
   "outputs": [
    {
     "name": "stdout",
     "output_type": "stream",
     "text": [
      "AnnData object with n_obs × n_vars = 884736 × 4536\n",
      "    obs: 'barcode'\n",
      "    var: 'gene_id'\n",
      "                            BSU_00010  BSU_00020  BSU_00030  BSU_00040  \\\n",
      "AAACATCG_AAACATCG_AAACGATA        0.0        0.0        0.0        0.0   \n",
      "AACAACCA_AAACATCG_AAACGATA        0.0        0.0        0.0        0.0   \n",
      "AACCGAGA_AAACATCG_AAACGATA        0.0        0.0        0.0        0.0   \n",
      "AACGCTTA_AAACATCG_AAACGATA        0.0        0.0        0.0        0.0   \n",
      "AACGTGAT_AAACATCG_AAACGATA        0.0        0.0        0.0        0.0   \n",
      "AACTCACC_AAACATCG_AAACGATA        0.0        0.0        0.0        0.0   \n",
      "AAGACGGA_AAACATCG_AAACGATA        0.0        0.0        0.0        0.0   \n",
      "AAGAGATC_AAACATCG_AAACGATA        0.0        0.0        0.0        0.0   \n",
      "AAGGACAC_AAACATCG_AAACGATA        0.0        0.0        0.0        0.0   \n",
      "AAGGTACA_AAACATCG_AAACGATA        0.0        0.0        0.0        0.0   \n",
      "AATCCGTC_AAACATCG_AAACGATA        0.0        0.0        0.0        0.0   \n",
      "AATGTTGC_AAACATCG_AAACGATA        0.0        0.0        0.0        0.0   \n",
      "ACAAGCTA_AAACATCG_AAACGATA        0.0        0.0        0.0        0.0   \n",
      "ACACAGAA_AAACATCG_AAACGATA        0.0        0.0        0.0        0.0   \n",
      "ACACGACC_AAACATCG_AAACGATA        0.0        0.0        0.0        0.0   \n",
      "ACAGATTC_AAACATCG_AAACGATA        0.0        0.0        0.0        0.0   \n",
      "\n",
      "                            BSU_00050  BSU_00060  BSU_00070  BSU_rRNA_1  \\\n",
      "AAACATCG_AAACATCG_AAACGATA        0.0        0.0        0.0         0.0   \n",
      "AACAACCA_AAACATCG_AAACGATA        0.0        0.0        0.0         0.0   \n",
      "AACCGAGA_AAACATCG_AAACGATA        0.0        0.0        0.0         0.0   \n",
      "AACGCTTA_AAACATCG_AAACGATA        0.0        0.0        0.0         0.0   \n",
      "AACGTGAT_AAACATCG_AAACGATA        0.0        0.0        0.0         0.0   \n",
      "AACTCACC_AAACATCG_AAACGATA        0.0        0.0        0.0         0.0   \n",
      "AAGACGGA_AAACATCG_AAACGATA        0.0        0.0        0.0         0.0   \n",
      "AAGAGATC_AAACATCG_AAACGATA        0.0        0.0        0.0         0.0   \n",
      "AAGGACAC_AAACATCG_AAACGATA        0.0        0.0        0.0         0.0   \n",
      "AAGGTACA_AAACATCG_AAACGATA        0.0        0.0        0.0         0.0   \n",
      "AATCCGTC_AAACATCG_AAACGATA        0.0        0.0        0.0         0.0   \n",
      "AATGTTGC_AAACATCG_AAACGATA        0.0        0.0        0.0         0.0   \n",
      "ACAAGCTA_AAACATCG_AAACGATA        0.0        0.0        0.0         0.0   \n",
      "ACACAGAA_AAACATCG_AAACGATA        0.0        0.0        0.0         0.0   \n",
      "ACACGACC_AAACATCG_AAACGATA        0.0        0.0        0.0         0.0   \n",
      "ACAGATTC_AAACATCG_AAACGATA        0.0        0.0        0.0         0.0   \n",
      "\n",
      "                            BSU_tRNA_5  BSU_tRNA_6  \n",
      "AAACATCG_AAACATCG_AAACGATA         0.0         0.0  \n",
      "AACAACCA_AAACATCG_AAACGATA         0.0         0.0  \n",
      "AACCGAGA_AAACATCG_AAACGATA         0.0         0.0  \n",
      "AACGCTTA_AAACATCG_AAACGATA         0.0         0.0  \n",
      "AACGTGAT_AAACATCG_AAACGATA         0.0         0.0  \n",
      "AACTCACC_AAACATCG_AAACGATA         0.0         0.0  \n",
      "AAGACGGA_AAACATCG_AAACGATA         0.0         0.0  \n",
      "AAGAGATC_AAACATCG_AAACGATA         0.0         0.0  \n",
      "AAGGACAC_AAACATCG_AAACGATA         0.0         0.0  \n",
      "AAGGTACA_AAACATCG_AAACGATA         0.0         0.0  \n",
      "AATCCGTC_AAACATCG_AAACGATA         0.0         0.0  \n",
      "AATGTTGC_AAACATCG_AAACGATA         0.0         0.0  \n",
      "ACAAGCTA_AAACATCG_AAACGATA         0.0         0.0  \n",
      "ACACAGAA_AAACATCG_AAACGATA         0.0         0.0  \n",
      "ACACGACC_AAACATCG_AAACGATA         0.0         0.0  \n",
      "ACAGATTC_AAACATCG_AAACGATA         0.0         0.0  \n"
     ]
    }
   ],
   "source": [
    "# Charger les données\n",
    "adata = sc.read(\"7_Article/results/bacteria_growth/data.h5ad\")\n",
    "# Afficher les dimensions\n",
    "pp.pprint(adata)  # Affiche les dimensions de la matrice d'expression\n",
    "\n",
    "# Afficher les 16 premières cellules et les 10 premiers gènes\n",
    "pp.pprint(adata[:16, :10].to_df())\n"
   ]
  }
 ],
 "metadata": {
  "kernelspec": {
   "display_name": "shortcake_default",
   "language": "python",
   "name": "shortcake_default"
  },
  "language_info": {
   "codemirror_mode": {
    "name": "ipython",
    "version": 3
   },
   "file_extension": ".py",
   "mimetype": "text/x-python",
   "name": "python",
   "nbconvert_exporter": "python",
   "pygments_lexer": "ipython3",
   "version": "3.10.16"
  }
 },
 "nbformat": 4,
 "nbformat_minor": 2
}
