{
 "cells": [
  {
   "cell_type": "markdown",
   "metadata": {
    "vscode": {
     "languageId": "plaintext"
    }
   },
   "source": [
    "# Test de scanpy sur notre dataset d'entrainement projet DIVIDE"
   ]
  },
  {
   "cell_type": "markdown",
   "metadata": {
    "vscode": {
     "languageId": "plaintext"
    }
   },
   "source": [
    "Pour se connecter à ce notebook \n",
    "Besoin de lancer  l'image singularity de : _Containers/shortcakelight.sif\n",
    "\n",
    "https://github.com/rnakato/ShortCake/tree/master\n",
    "Est conçu spécifiquement pour les analyses de données single cell\n",
    "\n",
    "Pour lancer l'image singularity et pouvoir se connecter aux notebooks jupyter:\n",
    "srun --pty bash\n",
    "singularity exec 6_Containers/shortcakelight.sif jupyternotebook.sh\n",
    "\n",
    "puis faire le lien ssh sur l'ordi avec cette commande  que l'on ecrit dans le terminal local: \n",
    "ssh -A -t -t vgoupille@genossh.genouest.org -L 8888:localhost:8888 ssh cl1n030 -L 8888:localhost:8888\n",
    "modifier le port (numero et noeud si besoin)\n",
    "\n",
    "si probleme de connection \n",
    "\n",
    "ls -a\n",
    "rm -r .vscode-server\n",
    "puis se remet sur vscode \n",
    "et refait la liaison avec ssh remote (et reinstaller les extensions...)\n"
   ]
  },
  {
   "cell_type": "markdown",
   "metadata": {},
   "source": []
  },
  {
   "cell_type": "markdown",
   "metadata": {},
   "source": [
    "# Définir les chemins des fichiers\n",
    "ch_barcodes = \"/home/genouest/cnrs_umr6553/vgoupille/DOL_scRNAseq/4_results/1_script_results/1_results_STARsolo/starsolo_output/Solo.out/GeneFull/filtered/barcodes.tsv\"\n",
    "ch_features = \"/home/genouest/cnrs_umr6553/vgoupille/DOL_scRNAseq/4_results/1_script_results/1_results_STARsolo/starsolo_output/Solo.out/GeneFull/filtered/features.tsv\"\n",
    "\n",
    "ch_matrix_file = \"/home/genouest/cnrs_umr6553/vgoupille/DOL_scRNAseq/4_results/1_script_results/1_results_STARsolo/starsolo_output/Solo.out/GeneFull/filtered/matrix.mtx\"\n",
    "\n",
    "#ch_matrix_file = \"/home/genouest/cnrs_umr6553/vgoupille/DOL_scRNAseq/4_results/1_script_results/1_results_STARsolo/starsolo_output/Solo.out/GeneFull/raw/UniqueAndMult-Uniform.mtx\""
   ]
  },
  {
   "cell_type": "markdown",
   "metadata": {},
   "source": [
    "Ce code charge les données scRNA-seq issues de STARsolo dans un objet AnnData de Scanpy. Voici une explication détaillée :\n",
    "\n",
    "📌 1. Définition du chemin des fichiers STARsolo\n",
    "\n",
    "data_dir = '/home/genouest/cnrs_umr6553/vgoupille/DOL_scRNAseq/4_results/1_script_results/1_results_STARsolo/starsolo_output/Solo.out/GeneFull/filtered/'\n",
    "\n",
    "\t•\tDéfinit le chemin du dossier contenant les fichiers matrix.mtx, features.tsv, et barcodes.tsv.\n",
    "\n",
    "📌 2. Chargement de la matrice d’expression des gènes\n",
    "\n",
    "adata = sc.read(data_dir + 'matrix.mtx', cache=True).T  # transpose the data\n",
    "\n",
    "\t•\tsc.read(data_dir + 'matrix.mtx', cache=True): Charge la matrice d’expression stockée dans matrix.mtx (format Matrix Market).\n",
    "\t•\t.T: Transpose la matrice car matrix.mtx est souvent stockée sous forme (gènes x cellules), alors que Scanpy attend une forme (cellules x gènes).\n",
    "\n",
    "📌 3. Attribution des noms des gènes\n",
    "\n",
    "adata.var_names = pd.read_csv(data_dir + 'features.tsv', header=None, sep='\\t')[1]\n",
    "\n",
    "\t•\tpd.read_csv(..., sep='\\t') : Charge le fichier features.tsv, qui contient les noms des gènes.\n",
    "\t•\t[1] : Sélectionne la deuxième colonne (généralement les noms de gènes plutôt que les IDs).\n",
    "\t•\tadata.var_names = ... : Associe ces noms aux colonnes de la matrice (les gènes).\n",
    "\n",
    "📌 4. Attribution des noms des cellules\n",
    "\n",
    "adata.obs_names = pd.read_csv(data_dir + 'barcodes.tsv', header=None)[0]\n",
    "\n",
    "\t•\tpd.read_csv(...)[0] : Charge la première colonne du fichier barcodes.tsv, qui contient les noms des cellules.\n",
    "\t•\tadata.obs_names = ... : Associe ces noms aux lignes de la matrice (les cellules).\n",
    "\n",
    "📌 5. Conversion en format sparse (optimisation mémoire)\n",
    "\n",
    "adata.X = csr_matrix(adata.X)  # enforce the CSR format\n",
    "\n",
    "\t•\tadata.X stocke la matrice d’expression.\n",
    "\t•\tcsr_matrix(adata.X): Convertit adata.X en Compressed Sparse Row format (CSR), un format optimisé pour réduire l’utilisation mémoire et accélérer les calculs.\n",
    "\n",
    "📌 6. Affichage des informations sur l’objet AnnData\n",
    "\n",
    "print(adata)\n",
    "\n",
    "\t•\tAffiche un résumé de l’objet AnnData, contenant :\n",
    "\t•\tLe nombre de cellules (n_obs).\n",
    "\t•\tLe nombre de gènes (n_vars).\n",
    "\t•\tLe format des données (adata.X).\n",
    "\n",
    "✅ Résumé du rôle du code\n",
    "\t1.\tCharge la matrice de comptage issue de STARsolo.\n",
    "\t2.\tAjoute les noms des gènes et noms des cellules.\n",
    "\t3.\tConvertit les données en format sparse pour économiser de la mémoire.\n",
    "\t4.\tStocke le tout dans un objet AnnData pour analyse avec Scanpy.\n",
    "\n",
    "🔍 Problèmes potentiels\n",
    "\t2.\tScanpy propose read_10x_mtx() qui simplifie cette étape\n",
    "→ À essayer pour charger directement matrix.mtx et ses métadonnées.\n",
    "\n"
   ]
  },
  {
   "cell_type": "markdown",
   "metadata": {},
   "source": []
  },
  {
   "cell_type": "code",
   "execution_count": 67,
   "metadata": {},
   "outputs": [
    {
     "name": "stdout",
     "output_type": "stream",
     "text": [
      "AnnData object with n_obs × n_vars = 16 × 6248\n",
      "    obs: 'barcode'\n",
      "    var: 'gene_id'\n",
      "                                               barcode\n",
      "AAACATCG_AAACATCG_AAACGATA  AAACATCG_AAACATCG_AAACGATA\n",
      "AACGTGAT_AAACATCG_AAACGATA  AACGTGAT_AAACATCG_AAACGATA\n",
      "AAACATCG_AACGTGAT_AAACGATA  AAACATCG_AACGTGAT_AAACGATA\n",
      "AACGTGAT_AACGTGAT_AAACGATA  AACGTGAT_AACGTGAT_AAACGATA\n",
      "AAACATCG_AAACATCG_ACTCGTAA  AAACATCG_AAACATCG_ACTCGTAA\n",
      "                 gene_id\n",
      "QLH64_00005  QLH64_00005\n",
      "QLH64_00010  QLH64_00010\n",
      "QLH64_00015  QLH64_00015\n",
      "QLH64_00020  QLH64_00020\n",
      "rrf                  rrf\n"
     ]
    }
   ],
   "source": [
    "# Load libraries and abreviate them\n",
    "import pandas as pd\n",
    "import scanpy as sc\n",
    "import numpy as np\n",
    "from scipy.sparse import csr_matrix\n",
    "import pprint as pp\n",
    "\n",
    "\n",
    "# Définition du chemin des fichiers\n",
    "data_dir = \"/home/genouest/cnrs_umr6553/vgoupille/DOL_scRNAseq/4_results/1_script_results/1_results_STARsolo/starsolo_output/Solo.out/GeneFull/filtered/\"\n",
    "\n",
    "# Chargement des barcodes et des gènes\n",
    "barcodes = pd.read_csv(f\"{data_dir}barcodes.tsv\", header=None, sep=\"\\t\")[0]\n",
    "features = pd.read_csv(f\"{data_dir}features.tsv\", header=None, sep=\"\\t\")\n",
    "\n",
    "# Chargement de la matrice en format sparse\n",
    "adata = sc.read_mtx(f\"{data_dir}matrix.mtx\").T  # Transposition pour correspondre aux dimensions attendues\n",
    "\n",
    "# Attribution des noms aux cellules (obs) et aux gènes (var)\n",
    "adata.obs_names = barcodes\n",
    "adata.var_names = features[1]  # Deuxième colonne pour les noms de gènes\n",
    "\n",
    "# Ajout des métadonnées minimales\n",
    "adata.obs[\"barcode\"] = adata.obs.index\n",
    "adata.var[\"gene_id\"] = adata.var.index\n",
    "\n",
    "# Conversion explicite en format sparse pour optimiser la mémoire\n",
    "adata.X = csr_matrix(adata.X)\n",
    "\n",
    "# Si tu veux sauvegarder les données brutes dans adata.raw, tu peux faire cela juste après le chargement des données :\n",
    "adata.raw = adata  # Sauvegarde l'objet complet dans adata.raw\n",
    "\n",
    "# Récupérer les données brutes avant filtrage\n",
    "#adata_raw = adata.raw.to_adata()  \n",
    "#adata_raw.X = adata_raw.X.toarray()  # S'assurer que les données sont dans un format dense\n",
    "\n",
    "# Affichage des informations principales\n",
    "print(adata)  \n",
    "#print(adata.obs.head())  # Vérification des cellules\n",
    "#print(adata.var.head())  # Vérification des gènes\n",
    "\n",
    "pp.pprint(adata.obs.head())  # Vérification des cellules\n",
    "pp.pprint(adata.var.head())  # Vérification des gènes"
   ]
  },
  {
   "cell_type": "code",
   "execution_count": null,
   "metadata": {},
   "outputs": [
    {
     "name": "stdout",
     "output_type": "stream",
     "text": [
      "Raw AnnData with n_obs × n_vars = 16 × 6248\n",
      "    var: 'gene_id'\n",
      "<Compressed Sparse Row sparse matrix of dtype 'float32'\n",
      "\twith 1856 stored elements and shape (16, 6248)>\n",
      "  Coords\tValues\n",
      "  (0, 3)\t1.0\n",
      "  (0, 101)\t1.0\n",
      "  (0, 4560)\t1.0\n",
      "  (1, 3)\t2.0\n",
      "  (1, 192)\t1.0\n",
      "  (1, 4067)\t1.0\n",
      "  (2, 3)\t1.0\n",
      "  (2, 101)\t1.0\n",
      "  (2, 901)\t1.0\n",
      "  (2, 3482)\t1.0\n",
      "  (2, 4535)\t1.0\n",
      "  (2, 4554)\t1.0\n",
      "  (3, 3643)\t1.0\n",
      "  (4, 0)\t1.0\n",
      "  (4, 3)\t4.0\n",
      "  (4, 101)\t10.0\n",
      "  (4, 910)\t1.0\n",
      "  (4, 958)\t3.0\n",
      "  (4, 2258)\t2.0\n",
      "  (4, 2940)\t1.0\n",
      "  (4, 3814)\t2.0\n",
      "  (4, 4043)\t2.0\n",
      "  (4, 4072)\t3.0\n",
      "  (4, 4540)\t1.0\n",
      "  (4, 4545)\t36.0\n",
      "  :\t:\n",
      "  (15, 5955)\t1.0\n",
      "  (15, 5962)\t18.0\n",
      "  (15, 5963)\t134.0\n",
      "  (15, 5964)\t196.0\n",
      "  (15, 5965)\t9.0\n",
      "  (15, 5966)\t2.0\n",
      "  (15, 5967)\t1.0\n",
      "  (15, 5968)\t8.0\n",
      "  (15, 5972)\t6.0\n",
      "  (15, 5977)\t8.0\n",
      "  (15, 6009)\t86.0\n",
      "  (15, 6012)\t33.0\n",
      "  (15, 6032)\t1.0\n",
      "  (15, 6099)\t20.0\n",
      "  (15, 6156)\t21.0\n",
      "  (15, 6160)\t16.0\n",
      "  (15, 6161)\t10.0\n",
      "  (15, 6162)\t55.0\n",
      "  (15, 6173)\t65.0\n",
      "  (15, 6175)\t4.0\n",
      "  (15, 6176)\t2.0\n",
      "  (15, 6189)\t24.0\n",
      "  (15, 6204)\t2.0\n",
      "  (15, 6207)\t62.0\n",
      "  (15, 6211)\t1.0\n",
      "                 gene_id\n",
      "QLH64_00005  QLH64_00005\n",
      "QLH64_00010  QLH64_00010\n",
      "QLH64_00015  QLH64_00015\n",
      "QLH64_00020  QLH64_00020\n",
      "rrf                  rrf\n",
      "...                  ...\n",
      "QLH64_31225  QLH64_31225\n",
      "recA                recA\n",
      "QLH64_31235  QLH64_31235\n",
      "QLH64_31240  QLH64_31240\n",
      "QLH64_31245  QLH64_31245\n",
      "\n",
      "[6248 rows x 1 columns]\n"
     ]
    }
   ],
   "source": [
    "#print(adata.raw)  # Vérification des données brutes"
   ]
  },
  {
   "cell_type": "code",
   "execution_count": null,
   "metadata": {},
   "outputs": [],
   "source": [
    "import os\n",
    "#print(os.getcwd())  # Affiche le répertoire de travail actuel\n",
    "os.makedirs(\"4_results/1_script_results/3_resuts_scanpy\", exist_ok=True)  # Crée le dossier s'il n'existe pas\n",
    "adata.write(\"4_results/1_script_results/3_resuts_scanpy/data.h5ad\")  # Sauvegarde dans le dossier \"results\"\n",
    "print(os.path.exists(\"4_results/1_script_results/3_resuts_scanpy/data.h5ad\"))  # True si le fichier est bien enregistré"
   ]
  },
  {
   "cell_type": "code",
   "execution_count": null,
   "metadata": {},
   "outputs": [],
   "source": [
    "# Charger les données\n",
    "adata = sc.read(\"4_results/1_script_results/3_resuts_scanpy/data.h5ad\")\n",
    "# Afficher les dimensions\n",
    "pp.pprint(adata)  # Affiche les dimensions de la matrice d'expression\n",
    "\n",
    "# Afficher les 16 premières cellules et les 10 premiers gènes\n",
    "pp.pprint(adata[:16, :10].to_df())\n"
   ]
  },
  {
   "cell_type": "code",
   "execution_count": null,
   "metadata": {},
   "outputs": [],
   "source": [
    "# verifier si pas de doublons de nom dans les cellules \n",
    "print(adata.obs.index.duplicated().sum())\n",
    "# verifier si pas de doublons dans les gènes\n",
    "print(adata.var.index.duplicated().sum())\n",
    "# 132 doublons dans les nom de gènes\n",
    "# print les doublons\n",
    "print(adata.var.index[adata.var.index.duplicated()])\n",
    "\n",
    "pp.pprint(adata.var.index[adata.var.index.duplicated()].tolist())"
   ]
  },
  {
   "cell_type": "code",
   "execution_count": null,
   "metadata": {},
   "outputs": [],
   "source": [
    "adata.obs[\"n_genes_by_cells\"] = (adata.X > 0).sum(axis=1)  # Nombre de gènes détectés par cellule\n",
    "print(adata.obs[\"n_genes_by_cells\"])\n",
    "\n",
    "adata.obs[\"total_counts\"] = adata.X.sum(axis=1).A1  # Nombre total de comptes (comptages) par cellule\n",
    "\n",
    "# Make variable names unique\n",
    "adata.var_names_make_unique()\n",
    "\n",
    "# violon plot\n",
    "sc.pl.violin(\n",
    "    adata,\n",
    "    [\"n_genes_by_cells\", \"total_counts\"],\n",
    "    jitter=0.4,\n",
    "    size=8,\n",
    "    multi_panel=True,\n",
    ")"
   ]
  },
  {
   "cell_type": "code",
   "execution_count": null,
   "metadata": {},
   "outputs": [],
   "source": [
    "# Vérifier la forme de la matrice de données (nombre de cellules et de gènes)\n",
    "n_cells, n_genes = adata.shape\n",
    "print(f\"Nombre de cellules: {n_cells}, Nombre de gènes: {n_genes}\")\n",
    "\n"
   ]
  },
  {
   "cell_type": "code",
   "execution_count": null,
   "metadata": {},
   "outputs": [],
   "source": [
    "sc.pp.filter_cells(adata, min_genes=200)  # Garde cellules avec au moins 200 gènes => reste uniquement 4 cellules\n",
    "sc.pp.filter_genes(adata, min_cells=4)  # Garde gènes exprimés dans au moins 4  cellules ::: donc ici l'ensembles 4 cellules restantes \n",
    "\n",
    "# Vérifier la forme de la matrice de données (nombre de cellules et de gènes)\n",
    "n_cells, n_genes = adata.shape\n",
    "print(f\"Nombre de cellules: {n_cells}, Nombre de gènes: {n_genes}\")\n"
   ]
  },
  {
   "cell_type": "code",
   "execution_count": null,
   "metadata": {},
   "outputs": [],
   "source": [
    "# Récupérer les données brutes avant filtrage\n",
    "adata_raw = adata.raw.to_adata()  \n",
    "adata_raw.X = adata_raw.X.toarray()  # S'assurer que les données sont dans un format dense\n",
    "\n",
    "# Vérification que les conditions existent dans adata.obs\n",
    "print(adata_raw.obs['condition'].unique())\n",
    "\n",
    "# Agréger les données par condition en utilisant pandas\n",
    "# On suppose ici que 'condition' est une colonne dans adata.obs qui représente les différentes conditions.\n",
    "adata_bulk = adata_raw.copy()  # Créer une copie pour l'agrégation\n",
    "\n",
    "# Utilisation de pandas pour regrouper les données par condition\n",
    "# adata_raw.obs['condition'] contient les conditions expérimentales associées aux cellules\n",
    "grouped_data = pd.DataFrame(adata_raw.X, index=adata_raw.obs_names)\n",
    "grouped_data['condition'] = adata_raw.obs['condition'].values\n",
    "\n",
    "# Agrégée par 'condition' : somme des comptes d'expressions géniques pour chaque condition\n",
    "adata_bulk.X = grouped_data.groupby('condition').sum().values\n",
    "\n",
    "# Mettre à jour les noms des cellules dans adata_bulk\n",
    "adata_bulk.obs_names = grouped_data['condition'].unique()\n",
    "\n",
    "# Afficher les résultats\n",
    "print(adata_bulk)"
   ]
  }
 ],
 "metadata": {
  "kernelspec": {
   "display_name": "shortcake_default",
   "language": "python",
   "name": "shortcake_default"
  }
 },
 "nbformat": 4,
 "nbformat_minor": 2
}
